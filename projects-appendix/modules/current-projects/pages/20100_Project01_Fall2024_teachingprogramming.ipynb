{
 "cells": [
  {
   "cell_type": "markdown",
   "id": "36f1ba7a-4a16-440c-ac7e-559dc766f0e0",
   "metadata": {
    "tags": []
   },
   "source": [
    "# 201 Project 01: Data Wrangling with GNU Command Line Utilities"
   ]
  },
  {
   "cell_type": "markdown",
   "id": "f20fcf05-aecd-4095-a9da-f3531ee9d67c",
   "metadata": {
    "tags": []
   },
   "source": [
    "## Project Objectives\n",
    "\n",
    "- Learn basic command line operations for handling CSV files\n",
    "- Prepare raw data for further analysis by resolving formatting inconsistencies, missing values, and irrelevant data"
   ]
  },
  {
   "cell_type": "markdown",
   "id": "9dbacf07-554a-49ca-b5c6-358bd1aee228",
   "metadata": {
    "tags": []
   },
   "source": [
    "## Our Sources\n",
    "\n",
    "- <a href=https://www.gnu.org/software/coreutils/manual/coreutils.html>GNU Coreutils Documentation</a>\n",
    "- <a href=https://www.gnu.org/software/gawk/manual/gawk.html>GNU Awk User's Guide</a>"
   ]
  },
  {
   "cell_type": "markdown",
   "id": "4f1e6942-1c06-4555-882f-ed3bac638927",
   "metadata": {
    "tags": []
   },
   "source": [
    "## Dataset\n",
    "\n",
    "-/anvil/projects/tdm/data/noaa/2010.csv"
   ]
  },
  {
   "cell_type": "markdown",
   "id": "d8b0929b-f6b2-44a2-9e34-4e17a6ce6154",
   "metadata": {
    "tags": []
   },
   "source": [
    "## Basic File Information \n",
    "\n",
    "Read from the GNU Coreutils documentation on the `ls`, `head` and `tail` commands:\n",
    "\n",
    "- <a href=https://www.gnu.org/software/coreutils/manual/coreutils.html>GNU Coreutils Documentation</a>\n",
    "- <a href=https://www.gnu.org/software/coreutils/manual/coreutils.html>GNU Coreutils - head and tail</a>\n",
    "\n",
    "**Use the `ls` command to view file details; `head`,`tail` and pipe commands to display first 10 records of the 2010.csv file and row 33rd content.(1 point)**"
   ]
  },
  {
   "cell_type": "code",
   "execution_count": null,
   "id": "d0ec9158-6cf7-4eb3-94f7-527663e958bd",
   "metadata": {
    "tags": []
   },
   "outputs": [],
   "source": [
    "# YOUR ANSWER GOES HERE"
   ]
  },
  {
   "cell_type": "code",
   "execution_count": null,
   "id": "349095d0-6781-44f4-b988-5183d6bf623c",
   "metadata": {},
   "outputs": [],
   "source": [
    "%%bash\n",
    "ls -lh /anvil/projects/tdm/data/noaa/2010.csv"
   ]
  },
  {
   "cell_type": "code",
   "execution_count": null,
   "id": "82631cd4-0331-4f7a-a9d6-a14420c30119",
   "metadata": {},
   "outputs": [],
   "source": [
    "%%bash\n",
    "head -n 10 /anvil/projects/tdm/data/noaa/2010.csv "
   ]
  },
  {
   "cell_type": "code",
   "execution_count": null,
   "id": "95783ffa-4002-4915-b118-37c90bc2ee26",
   "metadata": {},
   "outputs": [],
   "source": [
    "%%bash\n",
    "head -n 33 /anvil/projects/tdm/data/noaa/2010.csv | tail -n 1"
   ]
  },
  {
   "cell_type": "markdown",
   "id": "791bc71c-8514-428a-8ed9-c6cc51e20f67",
   "metadata": {
    "tags": []
   },
   "source": [
    "## Analyze file Content \n",
    "\n",
    "Learn use `awk` command to do analysis\n",
    "\n",
    "- <a href=https://www.gnu.org/software/gawk/manual/gawk.html>GNU Awk User's Guide</a>\n",
    "\n",
    "**Please use `head` command to display the first row of the 2010.csv file and count the number of columns (1 point)**"
   ]
  },
  {
   "cell_type": "code",
   "execution_count": null,
   "id": "2bff7863-8dd0-4cda-b932-432989f26d74",
   "metadata": {
    "tags": []
   },
   "outputs": [],
   "source": [
    "# YOUR ANSWER GOES HERE"
   ]
  },
  {
   "cell_type": "markdown",
   "id": "2b908242-2da9-48ce-b068-796aa2a8cf8b",
   "metadata": {},
   "source": [
    "**Please use `wc` to count how many records in 2010.csv and use `awk` to get total amount of the fourth column (1 point)**"
   ]
  },
  {
   "cell_type": "code",
   "execution_count": null,
   "id": "5473eb1b-b730-4afe-90fc-c43eadd85867",
   "metadata": {
    "tags": []
   },
   "outputs": [],
   "source": [
    "# YOUR ANSWER GOES HERE"
   ]
  },
  {
   "cell_type": "code",
   "execution_count": null,
   "id": "0a957a18-d8f9-4841-ad06-3d0fcb66ee76",
   "metadata": {
    "tags": []
   },
   "outputs": [],
   "source": [
    "%%bash\n",
    "wc -l /anvil/projects/tdm/data/noaa/2010.csv"
   ]
  },
  {
   "cell_type": "code",
   "execution_count": null,
   "id": "f0d91745-4953-4a62-be6d-8ada2c42439f",
   "metadata": {
    "tags": []
   },
   "outputs": [],
   "source": [
    "%%bash\n",
    "awk -F, '{sum += $4} END {print sum}' /anvil/projects/tdm/data/noaa/2010.csv"
   ]
  },
  {
   "cell_type": "markdown",
   "id": "4053fc00-af4c-4aa0-96fc-420dfc648ec0",
   "metadata": {
    "tags": []
   },
   "source": [
    "## Filter Data \n",
    "\n",
    "**Set parameters to filter 2010.csv, select a column and filter value for the column, use `awk` command to compare and save filtered data to a file named \"2010_filtered.csv\" (1 point)**"
   ]
  },
  {
   "cell_type": "code",
   "execution_count": null,
   "id": "a3bc9765-5b44-4a7a-a866-6107c7dad677",
   "metadata": {
    "tags": []
   },
   "outputs": [],
   "source": [
    "filter_value= #YOUR ANSWER GOES HERE\n",
    "column_to_filter= #YOUR ANSWER GOES HERE"
   ]
  },
  {
   "cell_type": "code",
   "execution_count": null,
   "id": "9a6a5d95-bf26-4b28-83cf-90c44649ff22",
   "metadata": {},
   "outputs": [],
   "source": [
    "# YOUR ANSWER GOES HERE"
   ]
  },
  {
   "cell_type": "code",
   "execution_count": null,
   "id": "a3f87fde-6e2e-4b83-a280-aa21eb635ba3",
   "metadata": {
    "tags": []
   },
   "outputs": [],
   "source": [
    "filter_value= 'TMAX'\n",
    "column_to_filter= 3"
   ]
  },
  {
   "cell_type": "code",
   "execution_count": null,
   "id": "1abf0f23-8c90-4274-b3aa-83bd25d41282",
   "metadata": {
    "tags": []
   },
   "outputs": [],
   "source": [
    "%%bash\n",
    "awk -F, -v col=$column_to_filter -v val=$filter_value '$col == val' /anvil/projects/tdm/data/noaa/2010.csv > 2010_filtered.csv\n",
    " "
   ]
  },
  {
   "cell_type": "markdown",
   "id": "0af688e2-e5e9-4d05-b1bd-cb022c36f017",
   "metadata": {
    "tags": []
   },
   "source": [
    "## Extract Unique Values \n",
    "\n",
    "**Use `sort` and `uniq` to get the unique stations and save the output to a file named output.txt (1 point)**"
   ]
  },
  {
   "cell_type": "code",
   "execution_count": null,
   "id": "e5d04acf-5b14-4159-918c-aba1f420e7a0",
   "metadata": {},
   "outputs": [],
   "source": [
    "# YOUR ANSWER GOES HERE"
   ]
  },
  {
   "cell_type": "code",
   "execution_count": null,
   "id": "3c1dfadc-70dd-44ad-ae2d-e7d0ba869133",
   "metadata": {
    "collapsed": true,
    "jupyter": {
     "outputs_hidden": true
    },
    "tags": []
   },
   "outputs": [],
   "source": [
    "%%bash\n",
    "awk -F, '{print $1}' /anvil/projects/tdm/data/noaa/2010.csv | sort | uniq > output.txt"
   ]
  },
  {
   "cell_type": "markdown",
   "id": "c599565b-811c-43db-8a43-52708b735cd1",
   "metadata": {
    "tags": []
   },
   "source": [
    "## Convert Temperatures \n",
    "\n",
    "**Please convert the temperature values for `TMAX`, `TMIN`, and `TAVG` to regular decimal point values (1 point)**"
   ]
  },
  {
   "cell_type": "code",
   "execution_count": null,
   "id": "de9ed748-ed6f-45fc-966e-37b2bbcf25a2",
   "metadata": {},
   "outputs": [],
   "source": [
    "# YOUR ANSWER GOES HERE"
   ]
  },
  {
   "cell_type": "code",
   "execution_count": null,
   "id": "afa7d0f7-c025-4284-b567-13b3c9013262",
   "metadata": {
    "tags": []
   },
   "outputs": [],
   "source": [
    "%%bash\n",
    "awk -F, '{if ($3 == \"TMAX\" || $3 == \"TMIN\" || $3 == \"TAVG\") $4 = $4 / 10; print}' /anvil/projects/tdm/data/noaa/2010.csv"
   ]
  },
  {
   "cell_type": "markdown",
   "id": "43de2fcc-b263-4da9-89b4-42893fc2d6d0",
   "metadata": {
    "tags": []
   },
   "source": [
    "## Summarize Missing Data \n",
    "\n",
    "**Please use `awk` with `if` and `for` loop to count the total number of missing values in each column (2 points)**"
   ]
  },
  {
   "cell_type": "code",
   "execution_count": null,
   "id": "dddf18ac-def9-427c-8e8a-24b988f1409d",
   "metadata": {},
   "outputs": [],
   "source": [
    "# YOUR ANSWER GOES HERE"
   ]
  },
  {
   "cell_type": "code",
   "execution_count": null,
   "id": "7bb08d47-971e-45b8-be6b-515c0e730444",
   "metadata": {
    "tags": []
   },
   "outputs": [],
   "source": [
    "%%bash\n",
    "awk -F, '{for(i=1; i<=NF; i++) if($i == \"\") count[i]++} END {for (i in count) print \"Column\", i, \":\", count[i]}' /anvil/projects/tdm/data/noaa/2010.csv"
   ]
  },
  {
   "cell_type": "markdown",
   "id": "bae57c9e-13be-4254-8a51-137379bc2f15",
   "metadata": {},
   "source": [
    "## Replace Missing Values \n",
    "**Please Use awk to replace missing values in the fourth column with value is 'TAVG' with the average value of the 'TAVG' for fourth column and save updated file to 2010_updated.csv(2 points)**"
   ]
  },
  {
   "cell_type": "markdown",
   "id": "4b8cb9d6-770e-40fb-996e-92f76b8090bf",
   "metadata": {},
   "source": [
    "#YOUR ANSWER GOES HERE"
   ]
  },
  {
   "cell_type": "code",
   "execution_count": null,
   "id": "1fcc8a18-f23b-4d3e-8e5d-53f253a39474",
   "metadata": {},
   "outputs": [],
   "source": [
    "%%bash\n",
    "awk -F, '{\n",
    "    if ($3 == \"TAVG\") {\n",
    "        if ($4 != \"\") {\n",
    "            sum += $4;\n",
    "            count++;\n",
    "        } else {\n",
    "            empty_v[NR] = $0;\n",
    "        }\n",
    "    }\n",
    "}\n",
    "END {\n",
    "    avg = sum / count;\n",
    "    for (dt in empty_v) {\n",
    "        $4 = avg;\n",
    "        print empty_v[dt];\n",
    "    }\n",
    "}' /anvil/projects/tdm/data/noaa/2010.csv > 2010_updated.csv\n"
   ]
  },
  {
   "cell_type": "markdown",
   "id": "c58dc1f9-8adc-4244-b85a-53bddfe8c314",
   "metadata": {
    "tags": []
   },
   "source": [
    "# Conclusion\n",
    "\n",
    "Practice will help you get familiar with Unix command line for data processing, they are very effectively for any data wrangling task."
   ]
  }
 ],
 "metadata": {
  "kernelspec": {
   "display_name": "Python 3 (ipykernel)",
   "language": "python",
   "name": "python3"
  },
  "language_info": {
   "codemirror_mode": {
    "name": "ipython",
    "version": 3
   },
   "file_extension": ".py",
   "mimetype": "text/x-python",
   "name": "python",
   "nbconvert_exporter": "python",
   "pygments_lexer": "ipython3",
   "version": "3.10.5"
  }
 },
 "nbformat": 4,
 "nbformat_minor": 5
}
