{
 "cells": [
  {
   "cell_type": "markdown",
   "id": "competent-bathroom",
   "metadata": {},
   "source": [
    "# REEU 2021\n",
    "## PostGIS Tutorial\n",
    " - Thursday: Introduction and Basic Spatial Data Manipulation\n",
    " - Friday: Advanced Topics\n",
    "\n",
    "### Justin A. Gould (gould29@purdue.edu)"
   ]
  },
  {
   "cell_type": "markdown",
   "id": "perceived-characterization",
   "metadata": {},
   "source": [
    "# Required Packages"
   ]
  },
  {
   "cell_type": "raw",
   "id": "8fd260cf-037c-42fd-a38c-fdc33cc5f35b",
   "metadata": {},
   "source": [
    "!pip install geoalchemy2"
   ]
  },
  {
   "cell_type": "code",
   "execution_count": 7,
   "id": "passive-feedback",
   "metadata": {},
   "outputs": [],
   "source": [
    "import geopandas as gpd\n",
    "from sqlalchemy import create_engine, text\n",
    "from sqlalchemy_utils import create_database, database_exists, drop_database\n",
    "import pandas as pd\n",
    "import sqlalchemy"
   ]
  },
  {
   "cell_type": "markdown",
   "id": "sexual-startup",
   "metadata": {},
   "source": [
    "# Load Data \\#1\n",
    "Today, we will be working with the `boroughs` data from Chapter 11 of our [textbook](http://postgis.us/)."
   ]
  },
  {
   "cell_type": "code",
   "execution_count": 2,
   "id": "light-depth",
   "metadata": {},
   "outputs": [],
   "source": [
    "nyc = gpd.read_file(\"/class/datamine/data/REEU/REEU/Activities/3 - PostGIS/nyc_boroughs/geo_export_b38c64b9-7e50-43c7-8880-994b22440dbf.shp\")"
   ]
  },
  {
   "cell_type": "code",
   "execution_count": 3,
   "id": "dated-italic",
   "metadata": {},
   "outputs": [
    {
     "data": {
      "text/html": [
       "<div>\n",
       "<style scoped>\n",
       "    .dataframe tbody tr th:only-of-type {\n",
       "        vertical-align: middle;\n",
       "    }\n",
       "\n",
       "    .dataframe tbody tr th {\n",
       "        vertical-align: top;\n",
       "    }\n",
       "\n",
       "    .dataframe thead th {\n",
       "        text-align: right;\n",
       "    }\n",
       "</style>\n",
       "<table border=\"1\" class=\"dataframe\">\n",
       "  <thead>\n",
       "    <tr style=\"text-align: right;\">\n",
       "      <th></th>\n",
       "      <th>boro_code</th>\n",
       "      <th>boro_name</th>\n",
       "      <th>shape_area</th>\n",
       "      <th>shape_leng</th>\n",
       "      <th>geometry</th>\n",
       "    </tr>\n",
       "  </thead>\n",
       "  <tbody>\n",
       "    <tr>\n",
       "      <th>0</th>\n",
       "      <td>1.0</td>\n",
       "      <td>Manhattan</td>\n",
       "      <td>9.442947e+08</td>\n",
       "      <td>203803.216852</td>\n",
       "      <td>MULTIPOLYGON (((-74.04388 40.69019, -74.04351 ...</td>\n",
       "    </tr>\n",
       "    <tr>\n",
       "      <th>1</th>\n",
       "      <td>2.0</td>\n",
       "      <td>Bronx</td>\n",
       "      <td>1.598380e+09</td>\n",
       "      <td>188054.198841</td>\n",
       "      <td>POLYGON ((-73.86477 40.90201, -73.86305 40.901...</td>\n",
       "    </tr>\n",
       "    <tr>\n",
       "      <th>2</th>\n",
       "      <td>3.0</td>\n",
       "      <td>Brooklyn</td>\n",
       "      <td>2.684411e+09</td>\n",
       "      <td>234928.658563</td>\n",
       "      <td>POLYGON ((-73.92722 40.72533, -73.92654 40.724...</td>\n",
       "    </tr>\n",
       "    <tr>\n",
       "      <th>3</th>\n",
       "      <td>4.0</td>\n",
       "      <td>Queens</td>\n",
       "      <td>3.858050e+09</td>\n",
       "      <td>429586.630985</td>\n",
       "      <td>POLYGON ((-73.77896 40.81171, -73.76371 40.793...</td>\n",
       "    </tr>\n",
       "    <tr>\n",
       "      <th>4</th>\n",
       "      <td>5.0</td>\n",
       "      <td>Staten Island</td>\n",
       "      <td>2.539686e+09</td>\n",
       "      <td>212213.139971</td>\n",
       "      <td>POLYGON ((-74.05581 40.64971, -74.05619 40.639...</td>\n",
       "    </tr>\n",
       "  </tbody>\n",
       "</table>\n",
       "</div>"
      ],
      "text/plain": [
       "   boro_code      boro_name    shape_area     shape_leng  \\\n",
       "0        1.0      Manhattan  9.442947e+08  203803.216852   \n",
       "1        2.0          Bronx  1.598380e+09  188054.198841   \n",
       "2        3.0       Brooklyn  2.684411e+09  234928.658563   \n",
       "3        4.0         Queens  3.858050e+09  429586.630985   \n",
       "4        5.0  Staten Island  2.539686e+09  212213.139971   \n",
       "\n",
       "                                            geometry  \n",
       "0  MULTIPOLYGON (((-74.04388 40.69019, -74.04351 ...  \n",
       "1  POLYGON ((-73.86477 40.90201, -73.86305 40.901...  \n",
       "2  POLYGON ((-73.92722 40.72533, -73.92654 40.724...  \n",
       "3  POLYGON ((-73.77896 40.81171, -73.76371 40.793...  \n",
       "4  POLYGON ((-74.05581 40.64971, -74.05619 40.639...  "
      ]
     },
     "execution_count": 3,
     "metadata": {},
     "output_type": "execute_result"
    }
   ],
   "source": [
    "nyc.head()"
   ]
  },
  {
   "cell_type": "code",
   "execution_count": 4,
   "id": "ruled-colombia",
   "metadata": {},
   "outputs": [
    {
     "data": {
      "text/plain": [
       "<AxesSubplot:>"
      ]
     },
     "execution_count": 4,
     "metadata": {},
     "output_type": "execute_result"
    },
    {
     "data": {
      "image/png": "[encoded data removed]",
      "text/plain": [
       "<Figure size 432x288 with 1 Axes>"
      ]
     },
     "metadata": {
      "needs_background": "light"
     },
     "output_type": "display_data"
    }
   ],
   "source": [
    "nyc.plot()"
   ]
  },
  {
   "cell_type": "markdown",
   "id": "tough-spider",
   "metadata": {},
   "source": [
    "# Connect to Postgres"
   ]
  },
  {
   "cell_type": "code",
   "execution_count": 5,
   "id": "accompanied-header",
   "metadata": {},
   "outputs": [],
   "source": [
    "#Variables\n",
    "db_type = \"postgresql\" #postgres\n",
    "username = \"postgres\"\n",
    "password = \"N8ri54UU8C\"\n",
    "host = \"postgis.gould29-test.geddes.rcac.purdue.edu\"\n",
    "port = \"5432\"\n",
    "db_name = \"gould29\"\n",
    "\n",
    "#Put it together\n",
    "engine = create_engine(f\"{db_type}://{username}:{password}@{host}:{port}/{db_name}\")"
   ]
  },
  {
   "cell_type": "raw",
   "id": "781394c3-8363-4f17-8a94-0e77a7597f70",
   "metadata": {},
   "source": [
    "#Write nyc to PostgreSQL\n",
    "nyc.to_postgis(name=\"boroughs_chapter_11\", con=engine)"
   ]
  },
  {
   "cell_type": "code",
   "execution_count": 6,
   "id": "surface-reverse",
   "metadata": {},
   "outputs": [
    {
     "name": "stderr",
     "output_type": "stream",
     "text": [
      "/tmp/ipykernel_38212/2427155394.py:1: SADeprecationWarning: The Engine.table_names() method is deprecated and will be removed in a future release.  Please refer to Inspector.get_table_names(). (deprecated since: 1.4)\n",
      "  engine.table_names() #We see that our table was added to our database\n"
     ]
    },
    {
     "data": {
      "text/plain": [
       "['spatial_ref_sys',\n",
       " 'chi_pop',\n",
       " 'boroughs_chapter_11',\n",
       " 'airbnb_chicago_2015',\n",
       " 'mi_hwy',\n",
       " 'mi_counties',\n",
       " 'airbnb_Chicago 2015',\n",
       " 'airbnb_chicago_2015_MM']"
      ]
     },
     "execution_count": 6,
     "metadata": {},
     "output_type": "execute_result"
    }
   ],
   "source": [
    "engine.table_names() #We see that our table was added to our database"
   ]
  },
  {
   "cell_type": "markdown",
   "id": "adult-toddler",
   "metadata": {},
   "source": [
    "# Loading Rest of Chapter 11 Data\n",
    "Follow these steps:\n",
    "1. `cd` into `./ch11/data`\n",
    "2. Run: `psql -U YOUR_USERNAME -d YOUR_DATABASE -f ch11_data.sql`. This will add all data to your postgres DB."
   ]
  },
  {
   "cell_type": "raw",
   "id": "optional-belly",
   "metadata": {},
   "source": [
    "%%bash\n",
    "cd ./ch11/data/\n",
    "psql -h ananke-a000.rcac.purdue.edu -U postgres -p 32029 -d gould29 -f ch11_data.sql"
   ]
  },
  {
   "cell_type": "code",
   "execution_count": 15,
   "id": "special-mason",
   "metadata": {},
   "outputs": [
    {
     "data": {
      "text/plain": [
       "['ch11', 'information_schema', 'public']"
      ]
     },
     "execution_count": 15,
     "metadata": {},
     "output_type": "execute_result"
    }
   ],
   "source": [
    "#List Schemas\n",
    "insp = sqlalchemy.inspect(engine)\n",
    "insp.get_schema_names()"
   ]
  },
  {
   "cell_type": "markdown",
   "id": "fitting-cannon",
   "metadata": {},
   "source": [
    "# Review: Accessing our Postgres Data\n",
    "Whenever we use Jupyter Notebooks to access and use our data from postgres, you can use the beginning of this notebook as a standard boilerplate. Be sure to take the notebook with you from class! :)"
   ]
  },
  {
   "cell_type": "code",
   "execution_count": 16,
   "id": "breeding-excellence",
   "metadata": {},
   "outputs": [],
   "source": [
    "#SQL query\n",
    "sql = \"SELECT * FROM public.boroughs_chapter_11\"\n",
    "\n",
    "#Specify name of column which stores our geometry! In table `streets_chapter_11`, the geometry is stored in a col called `geometry`\n",
    "geom_col = \"geometry\"\n",
    "\n",
    "#Execute query to create GeoDataFrame\n",
    "nyc_from_db = gpd.GeoDataFrame.from_postgis(sql=sql, con=engine, geom_col=geom_col)"
   ]
  },
  {
   "cell_type": "code",
   "execution_count": 17,
   "id": "induced-preliminary",
   "metadata": {},
   "outputs": [
    {
     "data": {
      "text/html": [
       "<div>\n",
       "<style scoped>\n",
       "    .dataframe tbody tr th:only-of-type {\n",
       "        vertical-align: middle;\n",
       "    }\n",
       "\n",
       "    .dataframe tbody tr th {\n",
       "        vertical-align: top;\n",
       "    }\n",
       "\n",
       "    .dataframe thead th {\n",
       "        text-align: right;\n",
       "    }\n",
       "</style>\n",
       "<table border=\"1\" class=\"dataframe\">\n",
       "  <thead>\n",
       "    <tr style=\"text-align: right;\">\n",
       "      <th></th>\n",
       "      <th>boro_code</th>\n",
       "      <th>boro_name</th>\n",
       "      <th>shape_area</th>\n",
       "      <th>shape_leng</th>\n",
       "      <th>geometry</th>\n",
       "    </tr>\n",
       "  </thead>\n",
       "  <tbody>\n",
       "    <tr>\n",
       "      <th>0</th>\n",
       "      <td>1.0</td>\n",
       "      <td>Manhattan</td>\n",
       "      <td>9.442947e+08</td>\n",
       "      <td>203803.216852</td>\n",
       "      <td>MULTIPOLYGON (((-74.04388 40.69019, -74.04351 ...</td>\n",
       "    </tr>\n",
       "    <tr>\n",
       "      <th>1</th>\n",
       "      <td>2.0</td>\n",
       "      <td>Bronx</td>\n",
       "      <td>1.598380e+09</td>\n",
       "      <td>188054.198841</td>\n",
       "      <td>POLYGON ((-73.86477 40.90201, -73.86305 40.901...</td>\n",
       "    </tr>\n",
       "    <tr>\n",
       "      <th>2</th>\n",
       "      <td>3.0</td>\n",
       "      <td>Brooklyn</td>\n",
       "      <td>2.684411e+09</td>\n",
       "      <td>234928.658563</td>\n",
       "      <td>POLYGON ((-73.92722 40.72533, -73.92654 40.724...</td>\n",
       "    </tr>\n",
       "    <tr>\n",
       "      <th>3</th>\n",
       "      <td>4.0</td>\n",
       "      <td>Queens</td>\n",
       "      <td>3.858050e+09</td>\n",
       "      <td>429586.630985</td>\n",
       "      <td>POLYGON ((-73.77896 40.81171, -73.76371 40.793...</td>\n",
       "    </tr>\n",
       "    <tr>\n",
       "      <th>4</th>\n",
       "      <td>5.0</td>\n",
       "      <td>Staten Island</td>\n",
       "      <td>2.539686e+09</td>\n",
       "      <td>212213.139971</td>\n",
       "      <td>POLYGON ((-74.05581 40.64971, -74.05619 40.639...</td>\n",
       "    </tr>\n",
       "  </tbody>\n",
       "</table>\n",
       "</div>"
      ],
      "text/plain": [
       "   boro_code      boro_name    shape_area     shape_leng  \\\n",
       "0        1.0      Manhattan  9.442947e+08  203803.216852   \n",
       "1        2.0          Bronx  1.598380e+09  188054.198841   \n",
       "2        3.0       Brooklyn  2.684411e+09  234928.658563   \n",
       "3        4.0         Queens  3.858050e+09  429586.630985   \n",
       "4        5.0  Staten Island  2.539686e+09  212213.139971   \n",
       "\n",
       "                                            geometry  \n",
       "0  MULTIPOLYGON (((-74.04388 40.69019, -74.04351 ...  \n",
       "1  POLYGON ((-73.86477 40.90201, -73.86305 40.901...  \n",
       "2  POLYGON ((-73.92722 40.72533, -73.92654 40.724...  \n",
       "3  POLYGON ((-73.77896 40.81171, -73.76371 40.793...  \n",
       "4  POLYGON ((-74.05581 40.64971, -74.05619 40.639...  "
      ]
     },
     "execution_count": 17,
     "metadata": {},
     "output_type": "execute_result"
    }
   ],
   "source": [
    "nyc_from_db.head() #Yay!"
   ]
  },
  {
   "cell_type": "markdown",
   "id": "gothic-holder",
   "metadata": {},
   "source": [
    "# Agenda\n",
    "We have a **LOT** to cover today...here's a snapshot:\n",
    "\n",
    "Topic Name                                                           | Textbook Chapter/Section\n",
    ":------                                                              | ------:\n",
    "Creating a single `MULTIPOLYGON` from many                           | 11.1.1 \n",
    "Creating a `LINESTRING` from `POINT`s                                | 11.1.2\n",
    "Clipping                                                             | 11.2.1\n",
    "Splitting                                                            | 11.2.2\n",
    "Tessellating                                                         | 11.2.3\n",
    "Sharding                                                             | 11.2.3\n",
    "Segmentizing `LINESTRING`s                                           | 11.3.1\n",
    "Scaling                                                              | 11.4.2\n",
    "Rotating                                                             | 11.4.3"
   ]
  },
  {
   "cell_type": "markdown",
   "id": "through-comparison",
   "metadata": {},
   "source": [
    "# Creating a single `MULTIPOLYGON` from many\n",
    "Textbook Chapter/Section: 11.1.1 \\\n",
    "Textbook Start Page: 310\n",
    "\n",
    "In many cases, you may have a city where records are broken out by districts, neighborhoods, boroughs, or precincts because you often need to view or report on each neighborhood separately. Sometimes, however, for reporting purposes you need to view the city as a single unit. In this case you can use the `ST_UNION` aggregate function to amass one single multipolygon from constituent multipolygons.\n",
    "\n",
    "For example, the largest city in the United States is New York, made up of the five storied boroughs of Manhattan, Bronx, Queens, Brooklyn, and Staten Island. To aggregate New York, you first need to create a boroughs table with five records—one multipolygon for each of the boroughs with littorals:\n",
    "\n",
    "![Image 1](./images/image_1.png)\n",
    "\n",
    "\n",
    "Then you can use the `ST_Union` spatial aggregate function to group all the boroughs into a single city, as follows:"
   ]
  },
  {
   "cell_type": "code",
   "execution_count": 23,
   "id": "extraordinary-kidney",
   "metadata": {},
   "outputs": [],
   "source": [
    "sql = \"\"\"\n",
    "SELECT \n",
    "    ST_Union(geometry) AS city\n",
    "FROM\n",
    "    public.boroughs_chapter_11;\n",
    "\"\"\"\n",
    "\n",
    "example_11_1_1 = gpd.GeoDataFrame.from_postgis(sql=sql, con=engine, geom_col=\"city\") #Note the change in geom_col!"
   ]
  },
  {
   "cell_type": "code",
   "execution_count": 24,
   "id": "working-update",
   "metadata": {},
   "outputs": [
    {
     "data": {
      "text/html": [
       "<div>\n",
       "<style scoped>\n",
       "    .dataframe tbody tr th:only-of-type {\n",
       "        vertical-align: middle;\n",
       "    }\n",
       "\n",
       "    .dataframe tbody tr th {\n",
       "        vertical-align: top;\n",
       "    }\n",
       "\n",
       "    .dataframe thead th {\n",
       "        text-align: right;\n",
       "    }\n",
       "</style>\n",
       "<table border=\"1\" class=\"dataframe\">\n",
       "  <thead>\n",
       "    <tr style=\"text-align: right;\">\n",
       "      <th></th>\n",
       "      <th>city</th>\n",
       "    </tr>\n",
       "  </thead>\n",
       "  <tbody>\n",
       "    <tr>\n",
       "      <th>0</th>\n",
       "      <td>MULTIPOLYGON (((-74.03844 40.55674, -74.04955 ...</td>\n",
       "    </tr>\n",
       "  </tbody>\n",
       "</table>\n",
       "</div>"
      ],
      "text/plain": [
       "                                                city\n",
       "0  MULTIPOLYGON (((-74.03844 40.55674, -74.04955 ..."
      ]
     },
     "execution_count": 24,
     "metadata": {},
     "output_type": "execute_result"
    }
   ],
   "source": [
    "example_11_1_1.head()"
   ]
  },
  {
   "cell_type": "code",
   "execution_count": 26,
   "id": "081ccad1-9506-4d39-9020-c553637ef9e2",
   "metadata": {},
   "outputs": [
    {
     "data": {
      "text/plain": [
       "<AxesSubplot:>"
      ]
     },
     "execution_count": 26,
     "metadata": {},
     "output_type": "execute_result"
    },
    {
     "data": {
      "image/png": "[encoded data removed]",
      "text/plain": [
       "<Figure size 432x288 with 1 Axes>"
      ]
     },
     "metadata": {
      "needs_background": "light"
     },
     "output_type": "display_data"
    }
   ],
   "source": [
    "nyc.plot()"
   ]
  },
  {
   "cell_type": "code",
   "execution_count": 25,
   "id": "normal-great",
   "metadata": {},
   "outputs": [
    {
     "data": {
      "text/plain": [
       "<AxesSubplot:>"
      ]
     },
     "execution_count": 25,
     "metadata": {},
     "output_type": "execute_result"
    },
    {
     "data": {
      "image/png": "[encoded data removed]",
      "text/plain": [
       "<Figure size 432x288 with 1 Axes>"
      ]
     },
     "metadata": {
      "needs_background": "light"
     },
     "output_type": "display_data"
    }
   ],
   "source": [
    "example_11_1_1.plot()"
   ]
  },
  {
   "cell_type": "markdown",
   "id": "welcome-productivity",
   "metadata": {},
   "source": [
    "Let’s work through an example in the San Francisco area using our table of cities. This example lists cities that straddle multiple records, how many polygons each city straddles, and how many polygons you’ll be left with after dissolving boundaries within each city."
   ]
  },
  {
   "cell_type": "code",
   "execution_count": 28,
   "id": "312fd6a3-954b-460b-96a4-6f4fc4c8d2c0",
   "metadata": {},
   "outputs": [],
   "source": [
    "sql = \"\"\"\n",
    "SELECT\n",
    "    *\n",
    "FROM\n",
    "    ch11.cities\n",
    "\"\"\"\n",
    "\n",
    "cities_table = gpd.GeoDataFrame.from_postgis(sql=sql, con=engine, geom_col=\"geom\") #Note the change in geom_col!"
   ]
  },
  {
   "cell_type": "code",
   "execution_count": 30,
   "id": "992b037c-ceee-44ff-898e-375dda0d8466",
   "metadata": {},
   "outputs": [
    {
     "data": {
      "text/html": [
       "<div>\n",
       "<style scoped>\n",
       "    .dataframe tbody tr th:only-of-type {\n",
       "        vertical-align: middle;\n",
       "    }\n",
       "\n",
       "    .dataframe tbody tr th {\n",
       "        vertical-align: top;\n",
       "    }\n",
       "\n",
       "    .dataframe thead th {\n",
       "        text-align: right;\n",
       "    }\n",
       "</style>\n",
       "<table border=\"1\" class=\"dataframe\">\n",
       "  <thead>\n",
       "    <tr style=\"text-align: right;\">\n",
       "      <th></th>\n",
       "      <th>gid</th>\n",
       "      <th>city</th>\n",
       "      <th>area__</th>\n",
       "      <th>length__</th>\n",
       "      <th>geom</th>\n",
       "    </tr>\n",
       "  </thead>\n",
       "  <tbody>\n",
       "    <tr>\n",
       "      <th>0</th>\n",
       "      <td>1</td>\n",
       "      <td>ALAMEDA</td>\n",
       "      <td>6.920507e+07</td>\n",
       "      <td>32993.210517</td>\n",
       "      <td>MULTIPOLYGON (((6062440.660 2099431.510, 60623...</td>\n",
       "    </tr>\n",
       "    <tr>\n",
       "      <th>1</th>\n",
       "      <td>2</td>\n",
       "      <td>ALAMO</td>\n",
       "      <td>3.979002e+08</td>\n",
       "      <td>157732.809744</td>\n",
       "      <td>MULTIPOLYGON (((6142769.437 2132420.993, 61418...</td>\n",
       "    </tr>\n",
       "    <tr>\n",
       "      <th>2</th>\n",
       "      <td>3</td>\n",
       "      <td>ALBANY</td>\n",
       "      <td>3.704884e+07</td>\n",
       "      <td>29800.759703</td>\n",
       "      <td>MULTIPOLYGON (((6045760.680 2154419.700, 60461...</td>\n",
       "    </tr>\n",
       "    <tr>\n",
       "      <th>3</th>\n",
       "      <td>4</td>\n",
       "      <td>ALVISO</td>\n",
       "      <td>1.240215e+08</td>\n",
       "      <td>62725.600006</td>\n",
       "      <td>MULTIPOLYGON (((6133654.370 1993195.000, 61330...</td>\n",
       "    </tr>\n",
       "    <tr>\n",
       "      <th>4</th>\n",
       "      <td>5</td>\n",
       "      <td>AMERICAN CANYON</td>\n",
       "      <td>6.931341e+08</td>\n",
       "      <td>136394.737992</td>\n",
       "      <td>MULTIPOLYGON (((6072029.630 2267404.510, 60811...</td>\n",
       "    </tr>\n",
       "  </tbody>\n",
       "</table>\n",
       "</div>"
      ],
      "text/plain": [
       "   gid             city        area__       length__  \\\n",
       "0    1          ALAMEDA  6.920507e+07   32993.210517   \n",
       "1    2            ALAMO  3.979002e+08  157732.809744   \n",
       "2    3           ALBANY  3.704884e+07   29800.759703   \n",
       "3    4           ALVISO  1.240215e+08   62725.600006   \n",
       "4    5  AMERICAN CANYON  6.931341e+08  136394.737992   \n",
       "\n",
       "                                                geom  \n",
       "0  MULTIPOLYGON (((6062440.660 2099431.510, 60623...  \n",
       "1  MULTIPOLYGON (((6142769.437 2132420.993, 61418...  \n",
       "2  MULTIPOLYGON (((6045760.680 2154419.700, 60461...  \n",
       "3  MULTIPOLYGON (((6133654.370 1993195.000, 61330...  \n",
       "4  MULTIPOLYGON (((6072029.630 2267404.510, 60811...  "
      ]
     },
     "execution_count": 30,
     "metadata": {},
     "output_type": "execute_result"
    }
   ],
   "source": [
    "cities_table.head()"
   ]
  },
  {
   "cell_type": "code",
   "execution_count": 34,
   "id": "taken-simon",
   "metadata": {},
   "outputs": [],
   "source": [
    "sql = \"\"\"\n",
    "SELECT\n",
    "    city,\n",
    "    COUNT(city) AS num_records,\n",
    "    SUM(ST_NumGeometries(geom)) AS numpoly_before,\n",
    "    ST_NumGeometries(ST_Multi(ST_Union(geom))) AS num_poly_after,\n",
    "    ST_PointFromText('POINT(0 0)') AS dummy\n",
    "FROM\n",
    "    ch11.cities\n",
    "GROUP BY\n",
    "    city, dummy\n",
    "HAVING\n",
    "    COUNT(city) > 1;\n",
    "\"\"\"\n",
    "\n",
    "ex_11_1_1_2 = gpd.GeoDataFrame.from_postgis(sql=sql, con=engine, geom_col=\"dummy\") #Note the change in geom_col!"
   ]
  },
  {
   "cell_type": "code",
   "execution_count": 35,
   "id": "reduced-offer",
   "metadata": {},
   "outputs": [
    {
     "data": {
      "text/html": [
       "<div>\n",
       "<style scoped>\n",
       "    .dataframe tbody tr th:only-of-type {\n",
       "        vertical-align: middle;\n",
       "    }\n",
       "\n",
       "    .dataframe tbody tr th {\n",
       "        vertical-align: top;\n",
       "    }\n",
       "\n",
       "    .dataframe thead th {\n",
       "        text-align: right;\n",
       "    }\n",
       "</style>\n",
       "<table border=\"1\" class=\"dataframe\">\n",
       "  <thead>\n",
       "    <tr style=\"text-align: right;\">\n",
       "      <th></th>\n",
       "      <th>city</th>\n",
       "      <th>num_records</th>\n",
       "      <th>numpoly_before</th>\n",
       "      <th>num_poly_after</th>\n",
       "      <th>dummy</th>\n",
       "    </tr>\n",
       "  </thead>\n",
       "  <tbody>\n",
       "    <tr>\n",
       "      <th>0</th>\n",
       "      <td>ALAMEDA</td>\n",
       "      <td>4</td>\n",
       "      <td>4</td>\n",
       "      <td>4</td>\n",
       "      <td>POINT (0.00000 0.00000)</td>\n",
       "    </tr>\n",
       "    <tr>\n",
       "      <th>1</th>\n",
       "      <td>BELVEDERE TIBURON</td>\n",
       "      <td>2</td>\n",
       "      <td>2</td>\n",
       "      <td>2</td>\n",
       "      <td>POINT (0.00000 0.00000)</td>\n",
       "    </tr>\n",
       "    <tr>\n",
       "      <th>2</th>\n",
       "      <td>BRISBANE</td>\n",
       "      <td>2</td>\n",
       "      <td>2</td>\n",
       "      <td>1</td>\n",
       "      <td>POINT (0.00000 0.00000)</td>\n",
       "    </tr>\n",
       "    <tr>\n",
       "      <th>3</th>\n",
       "      <td>GREENBRAE</td>\n",
       "      <td>2</td>\n",
       "      <td>2</td>\n",
       "      <td>2</td>\n",
       "      <td>POINT (0.00000 0.00000)</td>\n",
       "    </tr>\n",
       "    <tr>\n",
       "      <th>4</th>\n",
       "      <td>LARKSPUR</td>\n",
       "      <td>2</td>\n",
       "      <td>2</td>\n",
       "      <td>2</td>\n",
       "      <td>POINT (0.00000 0.00000)</td>\n",
       "    </tr>\n",
       "    <tr>\n",
       "      <th>5</th>\n",
       "      <td>REDWOOD CITY</td>\n",
       "      <td>2</td>\n",
       "      <td>2</td>\n",
       "      <td>2</td>\n",
       "      <td>POINT (0.00000 0.00000)</td>\n",
       "    </tr>\n",
       "    <tr>\n",
       "      <th>6</th>\n",
       "      <td>SAN FRANCISCO</td>\n",
       "      <td>7</td>\n",
       "      <td>7</td>\n",
       "      <td>6</td>\n",
       "      <td>POINT (0.00000 0.00000)</td>\n",
       "    </tr>\n",
       "    <tr>\n",
       "      <th>7</th>\n",
       "      <td>SAN MATEO</td>\n",
       "      <td>2</td>\n",
       "      <td>2</td>\n",
       "      <td>2</td>\n",
       "      <td>POINT (0.00000 0.00000)</td>\n",
       "    </tr>\n",
       "    <tr>\n",
       "      <th>8</th>\n",
       "      <td>SOUTH SAN FRANCISCO</td>\n",
       "      <td>2</td>\n",
       "      <td>2</td>\n",
       "      <td>2</td>\n",
       "      <td>POINT (0.00000 0.00000)</td>\n",
       "    </tr>\n",
       "    <tr>\n",
       "      <th>9</th>\n",
       "      <td>SUISUN CITY</td>\n",
       "      <td>2</td>\n",
       "      <td>2</td>\n",
       "      <td>2</td>\n",
       "      <td>POINT (0.00000 0.00000)</td>\n",
       "    </tr>\n",
       "  </tbody>\n",
       "</table>\n",
       "</div>"
      ],
      "text/plain": [
       "                  city  num_records  numpoly_before  num_poly_after  \\\n",
       "0              ALAMEDA            4               4               4   \n",
       "1    BELVEDERE TIBURON            2               2               2   \n",
       "2             BRISBANE            2               2               1   \n",
       "3            GREENBRAE            2               2               2   \n",
       "4             LARKSPUR            2               2               2   \n",
       "5         REDWOOD CITY            2               2               2   \n",
       "6        SAN FRANCISCO            7               7               6   \n",
       "7            SAN MATEO            2               2               2   \n",
       "8  SOUTH SAN FRANCISCO            2               2               2   \n",
       "9          SUISUN CITY            2               2               2   \n",
       "\n",
       "                     dummy  \n",
       "0  POINT (0.00000 0.00000)  \n",
       "1  POINT (0.00000 0.00000)  \n",
       "2  POINT (0.00000 0.00000)  \n",
       "3  POINT (0.00000 0.00000)  \n",
       "4  POINT (0.00000 0.00000)  \n",
       "5  POINT (0.00000 0.00000)  \n",
       "6  POINT (0.00000 0.00000)  \n",
       "7  POINT (0.00000 0.00000)  \n",
       "8  POINT (0.00000 0.00000)  \n",
       "9  POINT (0.00000 0.00000)  "
      ]
     },
     "execution_count": 35,
     "metadata": {},
     "output_type": "execute_result"
    }
   ],
   "source": [
    "ex_11_1_1_2"
   ]
  },
  {
   "cell_type": "markdown",
   "id": "excited-contamination",
   "metadata": {},
   "source": [
    "From the code above, you know that ten cities have multiple records, but you’ll only be able to dissolve the boundaries of Brisbane and San Francisco, because only these two have fewer polygons per geometry than what you started out with.\n",
    "\n",
    "Below, you will aggregate and insert the aggregated records into a table called `ch11.distinct_cities`. You then add a primary key to each city to ensure that you have exactly one record per city..."
   ]
  },
  {
   "cell_type": "code",
   "execution_count": 36,
   "id": "retired-carroll",
   "metadata": {},
   "outputs": [],
   "source": [
    "#New Table\n",
    "sql = \"\"\"SELECT city, ST_Multi(\n",
    "    ST_Union(geom))::geometry(multipolygon,2227) AS geom\n",
    "FROM ch11.cities\n",
    "GROUP BY city, ST_SRID(geom);\n",
    "\"\"\"\n",
    "new_ex_1 = gpd.GeoDataFrame.from_postgis(sql=sql, con=engine, geom_col=\"geom\") #Note the change in geom_col!"
   ]
  },
  {
   "cell_type": "code",
   "execution_count": 37,
   "id": "consistent-wright",
   "metadata": {},
   "outputs": [
    {
     "data": {
      "text/plain": [
       "<AxesSubplot:>"
      ]
     },
     "execution_count": 37,
     "metadata": {},
     "output_type": "execute_result"
    },
    {
     "data": {
      "image/png": "[encoded data removed]",
      "text/plain": [
       "<Figure size 432x288 with 1 Axes>"
      ]
     },
     "metadata": {
      "needs_background": "light"
     },
     "output_type": "display_data"
    }
   ],
   "source": [
    "new_ex_1.plot()"
   ]
  },
  {
   "cell_type": "code",
   "execution_count": 18,
   "id": "medieval-pricing",
   "metadata": {},
   "outputs": [],
   "source": [
    "#Add to db\n",
    "# new_ex_1.to_postgis(name=\"distinct_cities\", schema=\"ch11\", con=engine)"
   ]
  },
  {
   "cell_type": "code",
   "execution_count": 19,
   "id": "static-peace",
   "metadata": {},
   "outputs": [],
   "source": [
    "# #New Table\n",
    "# sql = \"\"\"\n",
    "# SELECT\n",
    "#     *\n",
    "# FROM\n",
    "#     ch11.distinct_cities\n",
    "# \"\"\"\n",
    "# new_ex_1_1 = gpd.GeoDataFrame.from_postgis(sql=sql, con=engine, geom_col=\"geom\") #Note the change in geom_col!"
   ]
  },
  {
   "cell_type": "code",
   "execution_count": 20,
   "id": "blind-grocery",
   "metadata": {},
   "outputs": [
    {
     "data": {
      "text/html": [
       "<div>\n",
       "<style scoped>\n",
       "    .dataframe tbody tr th:only-of-type {\n",
       "        vertical-align: middle;\n",
       "    }\n",
       "\n",
       "    .dataframe tbody tr th {\n",
       "        vertical-align: top;\n",
       "    }\n",
       "\n",
       "    .dataframe thead th {\n",
       "        text-align: right;\n",
       "    }\n",
       "</style>\n",
       "<table border=\"1\" class=\"dataframe\">\n",
       "  <thead>\n",
       "    <tr style=\"text-align: right;\">\n",
       "      <th></th>\n",
       "      <th>city</th>\n",
       "      <th>geom</th>\n",
       "    </tr>\n",
       "  </thead>\n",
       "  <tbody>\n",
       "    <tr>\n",
       "      <th>0</th>\n",
       "      <td>ALAMEDA</td>\n",
       "      <td>MULTIPOLYGON (((6062440.660 2099431.510, 60623...</td>\n",
       "    </tr>\n",
       "    <tr>\n",
       "      <th>1</th>\n",
       "      <td>ALAMO</td>\n",
       "      <td>MULTIPOLYGON (((6142769.437 2132420.993, 61418...</td>\n",
       "    </tr>\n",
       "    <tr>\n",
       "      <th>2</th>\n",
       "      <td>ALBANY</td>\n",
       "      <td>MULTIPOLYGON (((6045760.680 2154419.700, 60461...</td>\n",
       "    </tr>\n",
       "    <tr>\n",
       "      <th>3</th>\n",
       "      <td>ALVISO</td>\n",
       "      <td>MULTIPOLYGON (((6133654.370 1993195.000, 61330...</td>\n",
       "    </tr>\n",
       "    <tr>\n",
       "      <th>4</th>\n",
       "      <td>AMERICAN CANYON</td>\n",
       "      <td>MULTIPOLYGON (((6072029.630 2267404.510, 60811...</td>\n",
       "    </tr>\n",
       "  </tbody>\n",
       "</table>\n",
       "</div>"
      ],
      "text/plain": [
       "              city                                               geom\n",
       "0          ALAMEDA  MULTIPOLYGON (((6062440.660 2099431.510, 60623...\n",
       "1            ALAMO  MULTIPOLYGON (((6142769.437 2132420.993, 61418...\n",
       "2           ALBANY  MULTIPOLYGON (((6045760.680 2154419.700, 60461...\n",
       "3           ALVISO  MULTIPOLYGON (((6133654.370 1993195.000, 61330...\n",
       "4  AMERICAN CANYON  MULTIPOLYGON (((6072029.630 2267404.510, 60811..."
      ]
     },
     "execution_count": 20,
     "metadata": {},
     "output_type": "execute_result"
    }
   ],
   "source": [
    "# new_ex_1_1.head()"
   ]
  },
  {
   "cell_type": "code",
   "execution_count": 21,
   "id": "coated-electric",
   "metadata": {},
   "outputs": [
    {
     "data": {
      "text/plain": [
       "<AxesSubplot:>"
      ]
     },
     "execution_count": 21,
     "metadata": {},
     "output_type": "execute_result"
    },
    {
     "data": {
      "image/png": "[encoded data removed]",
      "text/plain": [
       "<Figure size 432x288 with 1 Axes>"
      ]
     },
     "metadata": {
      "needs_background": "light"
     },
     "output_type": "display_data"
    }
   ],
   "source": [
    "# new_ex_1_1.plot()"
   ]
  },
  {
   "cell_type": "markdown",
   "id": "horizontal-college",
   "metadata": {},
   "source": [
    "In the above code, you create and populate a new table called `ch11.distinct_cities`. You use the `ST_Multi` function to ensure that all the resulting geometries will be multipolygons and not polygons. If a geometry has a single polygon, `ST_Multi` will upgrade it to be a multipolygon with a single polygon. Then you cast the geometry using typmod to ensure that the geometry type and spatial reference system are correctly registered in the `geometry_columns` view. For good measure we also put in a primary key and a spatial index."
   ]
  },
  {
   "cell_type": "markdown",
   "id": "selective-packing",
   "metadata": {},
   "source": [
    "# Creating a `LINESTRING` from `POINT`s\n",
    "Textbook Chapter/Section: 11.1.2 \\\n",
    "Textbook Start Page: 312\n",
    "\n",
    "In the past two decades, the use of GPS devices has gone mainstream. GPS Samaritans spend their leisure time visiting points of interest (POI), taking GPS readings, and sharing their adventures via the web. Common venues have included local taverns, eateries, fishing holes, and filling stations with the lowest prices. A common follow-up task after gathering the raw positions of the POIs is to connect them to form an unbroken course.\n",
    "\n",
    "In this exercise, you’ll use Australian track points to create linestrings. These track points consist of GPS readings taken during a span of about ten hours from afternoon to early morning on a wintry July day. We have no idea of what the readings represent. Let’s say a zoologist fastened a GPS around the neck of a roo and tracked her for an evening. The readings came in every ten seconds or so, but instead of creating one line-string with more than two thousand points, you’ll divide the readings into 15-minute intervals and create separate linestrings for each of the intervals.\n",
    "\n",
    "`ST_MakeLine` is the spatial aggregate function that takes a set of points and forms a linestring out of them. You can add an `ORDER BY` clause to aggregate functions; this is particularly useful when you need to control the order in which aggregation occurs. In this example, you’ll order by the input time of the readings."
   ]
  },
  {
   "cell_type": "code",
   "execution_count": 16,
   "id": "rocky-positive",
   "metadata": {},
   "outputs": [],
   "source": [
    "sql = \"\"\"\n",
    "SELECT\n",
    "    DATE_TRUNC('minute',time) -\n",
    "CAST( mod(\n",
    "                CAST(DATE_PART('minute',time) AS integer),15\n",
    "            ) ||' minutes' AS interval\n",
    "        ) AS track_period,\n",
    "    MIN(time) AS t_start,\n",
    "    MAX(time) AS t_end,\n",
    "    ST_MakeLine(geom ORDER BY time) AS geom\n",
    "INTO ch11.aussie_run\n",
    "FROM ch11.aussie_track_points\n",
    "GROUP BY track_period\n",
    "HAVING COUNT(time) > 1;\n",
    "SELECT\n",
    "    CAST(track_period AS timestamp),\n",
    "    CAST(t_start AS timestamp) AS t_start,\n",
    "    CAST(t_end AS timestamp) AS t_end,\n",
    "    ST_NPoints(geom) AS number_of_points,\n",
    "    CAST(ST_Length(geom::geography) AS integer) AS dist_m,\n",
    "    (t_end - t_start) AS dur,\n",
    "    geom\n",
    "FROM ch11.aussie_run;\n",
    "\"\"\"\n",
    "\n",
    "example_11_1_2 = gpd.GeoDataFrame.from_postgis(sql=sql, con=engine, geom_col=\"geom\")"
   ]
  },
  {
   "cell_type": "code",
   "execution_count": null,
   "id": "1ef933d6-2b3d-492a-9e2b-1389a345c541",
   "metadata": {},
   "outputs": [],
   "source": [
    "SELECT ST_AsText( ST_MakeLine(ST_MakePoint(1,2), ST_MakePoint(3,4)) );\n",
    "\n",
    "SELECT ST_GeomFromText('LINESTRING(1 2, 3 4)');"
   ]
  },
  {
   "cell_type": "code",
   "execution_count": 17,
   "id": "funky-shannon",
   "metadata": {},
   "outputs": [
    {
     "data": {
      "text/html": [
       "<div>\n",
       "<style scoped>\n",
       "    .dataframe tbody tr th:only-of-type {\n",
       "        vertical-align: middle;\n",
       "    }\n",
       "\n",
       "    .dataframe tbody tr th {\n",
       "        vertical-align: top;\n",
       "    }\n",
       "\n",
       "    .dataframe thead th {\n",
       "        text-align: right;\n",
       "    }\n",
       "</style>\n",
       "<table border=\"1\" class=\"dataframe\">\n",
       "  <thead>\n",
       "    <tr style=\"text-align: right;\">\n",
       "      <th></th>\n",
       "      <th>track_period</th>\n",
       "      <th>t_start</th>\n",
       "      <th>t_end</th>\n",
       "      <th>number_of_points</th>\n",
       "      <th>dist_m</th>\n",
       "      <th>dur</th>\n",
       "      <th>geom</th>\n",
       "    </tr>\n",
       "  </thead>\n",
       "  <tbody>\n",
       "    <tr>\n",
       "      <th>0</th>\n",
       "      <td>2009-07-18 08:30:00</td>\n",
       "      <td>2009-07-18 08:30:00</td>\n",
       "      <td>2009-07-18 08:44:59</td>\n",
       "      <td>133</td>\n",
       "      <td>2705</td>\n",
       "      <td>0 days 00:14:59</td>\n",
       "      <td>LINESTRING (152.95709 -27.16209, 152.95704 -27...</td>\n",
       "    </tr>\n",
       "    <tr>\n",
       "      <th>1</th>\n",
       "      <td>2009-07-18 08:45:00</td>\n",
       "      <td>2009-07-18 08:45:05</td>\n",
       "      <td>2009-07-18 08:55:20</td>\n",
       "      <td>87</td>\n",
       "      <td>1720</td>\n",
       "      <td>0 days 00:10:15</td>\n",
       "      <td>LINESTRING (152.94813 -27.17278, 152.94828 -27...</td>\n",
       "    </tr>\n",
       "    <tr>\n",
       "      <th>2</th>\n",
       "      <td>2009-07-18 09:00:00</td>\n",
       "      <td>2009-07-18 09:02:00</td>\n",
       "      <td>2009-07-18 09:14:59</td>\n",
       "      <td>100</td>\n",
       "      <td>1530</td>\n",
       "      <td>0 days 00:12:59</td>\n",
       "      <td>LINESTRING (152.94259 -27.17509, 152.94265 -27...</td>\n",
       "    </tr>\n",
       "    <tr>\n",
       "      <th>3</th>\n",
       "      <td>2009-07-18 09:15:00</td>\n",
       "      <td>2009-07-18 09:15:05</td>\n",
       "      <td>2009-07-18 09:29:59</td>\n",
       "      <td>149</td>\n",
       "      <td>3453</td>\n",
       "      <td>0 days 00:14:54</td>\n",
       "      <td>LINESTRING (152.94276 -27.17723, 152.94263 -27...</td>\n",
       "    </tr>\n",
       "    <tr>\n",
       "      <th>4</th>\n",
       "      <td>2009-07-18 09:30:00</td>\n",
       "      <td>2009-07-18 09:30:05</td>\n",
       "      <td>2009-07-18 09:43:58</td>\n",
       "      <td>132</td>\n",
       "      <td>3059</td>\n",
       "      <td>0 days 00:13:53</td>\n",
       "      <td>LINESTRING (152.94757 -27.18276, 152.94754 -27...</td>\n",
       "    </tr>\n",
       "  </tbody>\n",
       "</table>\n",
       "</div>"
      ],
      "text/plain": [
       "         track_period             t_start               t_end  \\\n",
       "0 2009-07-18 08:30:00 2009-07-18 08:30:00 2009-07-18 08:44:59   \n",
       "1 2009-07-18 08:45:00 2009-07-18 08:45:05 2009-07-18 08:55:20   \n",
       "2 2009-07-18 09:00:00 2009-07-18 09:02:00 2009-07-18 09:14:59   \n",
       "3 2009-07-18 09:15:00 2009-07-18 09:15:05 2009-07-18 09:29:59   \n",
       "4 2009-07-18 09:30:00 2009-07-18 09:30:05 2009-07-18 09:43:58   \n",
       "\n",
       "   number_of_points  dist_m             dur  \\\n",
       "0               133    2705 0 days 00:14:59   \n",
       "1                87    1720 0 days 00:10:15   \n",
       "2               100    1530 0 days 00:12:59   \n",
       "3               149    3453 0 days 00:14:54   \n",
       "4               132    3059 0 days 00:13:53   \n",
       "\n",
       "                                                geom  \n",
       "0  LINESTRING (152.95709 -27.16209, 152.95704 -27...  \n",
       "1  LINESTRING (152.94813 -27.17278, 152.94828 -27...  \n",
       "2  LINESTRING (152.94259 -27.17509, 152.94265 -27...  \n",
       "3  LINESTRING (152.94276 -27.17723, 152.94263 -27...  \n",
       "4  LINESTRING (152.94757 -27.18276, 152.94754 -27...  "
      ]
     },
     "execution_count": 17,
     "metadata": {},
     "output_type": "execute_result"
    }
   ],
   "source": [
    "example_11_1_2.head()"
   ]
  },
  {
   "cell_type": "code",
   "execution_count": 18,
   "id": "pending-david",
   "metadata": {},
   "outputs": [
    {
     "data": {
      "text/plain": [
       "<AxesSubplot:>"
      ]
     },
     "execution_count": 18,
     "metadata": {},
     "output_type": "execute_result"
    },
    {
     "data": {
      "image/png": "[encoded data removed]",
      "text/plain": [
       "<Figure size 432x288 with 1 Axes>"
      ]
     },
     "metadata": {
      "needs_background": "light"
     },
     "output_type": "display_data"
    }
   ],
   "source": [
    "example_11_1_2.plot()"
   ]
  },
  {
   "cell_type": "markdown",
   "id": "equal-encyclopedia",
   "metadata": {},
   "source": [
    "First you create a column called `track_period` specifying quarter-hour slots starting on the hour, 15 minutes past, 30 minutes past, and 45 minutes past. You allocate each GPS point into the slots and create separate linestrings from each time slot via the `GROUP BY` clause. Not all time slots need to have points, and some slots may have a single point. If a slot is devoid of points, it won’t be part of the output. If a slot only has one point, it’s removed. For the allocation, you use the data_part function and the modulo operator.\n",
    "\n",
    "Within each slot, you create a `linestring` using `ST_MakeLine`. You want the line to follow the timing of the measurements, so you add an `ORDER BY` clause to `ST_MakeLine`.\n",
    "\n",
    "The `SELECT` inserts directly into a new table called `aussie_run`. (If you’re not running this code for the first time, you’ll need to drop the `aussie_run` table first.) Finally, you query `aussie_run` to find the number of points in each `linestring` using `ST_NPoints`, subtracting the time of the last point from the time of the first point to get a duration, and using `ST_Length` to compute the distance covered between the first and last points within the 15-minute slot. Note that you cast the geometry in longitude and latitude to geography to ensure you have a measurable unit—meters.\n",
    "\n",
    "![Image 2](./images/image_2.png)"
   ]
  },
  {
   "cell_type": "markdown",
   "id": "fourth-scenario",
   "metadata": {},
   "source": [
    "# Clipping\n",
    "Textbook Chapter/Section: 11.2.1 \\\n",
    "Textbook Start Page: 314\n",
    "\n",
    "Clipping uses one geometry to cut another during intersection.Clipping uses one geometry to cut another during intersection. In this section, we’ll explore other functions available to you for clipping and splitting.In this section, we’ll explore other functions available to you for clipping and splitting.\n",
    "\n",
    "As the name implies, _clipping_ is the act of removing unwanted sections of a geometry, leaving behind only what’s of interest. Think of clipping coupons from a newspaper, clipping hair from someone’s head, or the moon clipping the sun in a solar eclipse.\n",
    "\n",
    "_Difference_ and _symmetric difference_ are operations closely related to intersection. They both serve to return the remainder of an intersection. `ST_Difference` is a non—commutative function, whereas `ST_SymDifference` is, as the name implies, commutative.As the name implies, clipping is the act of removing unwanted sections of a geometry, leaving behind only what’s of interest. Think of clipping coupons from a newspaper, clipping hair from someone’s head, or the moon clipping the sun in a solar eclipse.\n",
    "\n",
    "Difference and symmetric difference are operations closely related to intersection. They both serve to return the remainder of an intersection. `ST_Difference` is a non—commutative function, whereas ST_SymDifference is, as the name implies, commutative.\n",
    "\n",
    "Difference functions return the geometry of what’s left out when two geometries intersect. When given geometries `A` and `B`, `ST_Difference(A,B)` returns the portion of `A` that’s not shared with `B`, whereas `ST_SymDifference(A,B)` returns the portion of `A` and `B` that’s not shared. Difference functions return the geometry of what’s left out when two geometries intersect. When given geometries `A` and `B`, `ST_Difference(A,B)` returns the portion of `A` that’s not shared with `B`, whereas `ST_SymDifference(A,B)` returns the portion of `A` and `B` that’s not shared.\n",
    "\n",
    "```\n",
    "ST_SymDifference(A,B) =  Union(A,B) - Intersection(A,B)\n",
    "ST_Difference(A,B) = A - Intersection(A,B)\n",
    "```"
   ]
  },
  {
   "cell_type": "markdown",
   "id": "lesbian-trademark",
   "metadata": {},
   "source": [
    "## Example: What’s left of the polygon and line after clipping\n",
    "Here, you’re getting the difference between a linestring and polygon"
   ]
  },
  {
   "cell_type": "code",
   "execution_count": 38,
   "id": "fewer-steal",
   "metadata": {},
   "outputs": [
    {
     "data": {
      "text/plain": [
       "<AxesSubplot:>"
      ]
     },
     "execution_count": 38,
     "metadata": {},
     "output_type": "execute_result"
    },
    {
     "data": {
      "image/png": "[encoded data removed]",
      "text/plain": [
       "<Figure size 432x288 with 1 Axes>"
      ]
     },
     "metadata": {
      "needs_background": "light"
     },
     "output_type": "display_data"
    }
   ],
   "source": [
    "#This is what our polygon looks like\n",
    "sql = \"\"\"\n",
    "SELECT ST_GeomFromText(\n",
    "        'POLYGON((\n",
    "            2 4.5,3 2.6,3 1.8,2 0,-1.5 2.2,\n",
    "            0.056 3.222,-1.5 4.2,2 6.5,2 4.5\n",
    "        ))'\n",
    "    ) AS geom1\n",
    "\"\"\"\n",
    "\n",
    "poly = gpd.GeoDataFrame.from_postgis(sql=sql, con=engine, geom_col=\"geom1\") #Note change of geom_col!\n",
    "poly.plot()"
   ]
  },
  {
   "cell_type": "code",
   "execution_count": 39,
   "id": "chronic-defense",
   "metadata": {},
   "outputs": [
    {
     "data": {
      "text/plain": [
       "<AxesSubplot:>"
      ]
     },
     "execution_count": 39,
     "metadata": {},
     "output_type": "execute_result"
    },
    {
     "data": {
      "image/png": "[encoded data removed]",
      "text/plain": [
       "<Figure size 432x288 with 1 Axes>"
      ]
     },
     "metadata": {
      "needs_background": "light"
     },
     "output_type": "display_data"
    }
   ],
   "source": [
    "#This is what our polygon looks like\n",
    "sql = \"\"\"\n",
    "SELECT ST_GeomFromText('LINESTRING(-0.62 5.84,-0.8 0.59)') AS geom2\n",
    "\"\"\"\n",
    "\n",
    "LS = gpd.GeoDataFrame.from_postgis(sql=sql, con=engine, geom_col=\"geom2\") #Note change of geom_col!\n",
    "LS.plot()"
   ]
  },
  {
   "cell_type": "code",
   "execution_count": 40,
   "id": "spiritual-separate",
   "metadata": {},
   "outputs": [
    {
     "data": {
      "text/html": [
       "<div>\n",
       "<style scoped>\n",
       "    .dataframe tbody tr th:only-of-type {\n",
       "        vertical-align: middle;\n",
       "    }\n",
       "\n",
       "    .dataframe tbody tr th {\n",
       "        vertical-align: top;\n",
       "    }\n",
       "\n",
       "    .dataframe thead th {\n",
       "        text-align: right;\n",
       "    }\n",
       "</style>\n",
       "<table border=\"1\" class=\"dataframe\">\n",
       "  <thead>\n",
       "    <tr style=\"text-align: right;\">\n",
       "      <th></th>\n",
       "      <th>they_intersect</th>\n",
       "      <th>intersect_geom_type</th>\n",
       "      <th>intersect</th>\n",
       "    </tr>\n",
       "  </thead>\n",
       "  <tbody>\n",
       "    <tr>\n",
       "      <th>0</th>\n",
       "      <td>True</td>\n",
       "      <td>POLYGON</td>\n",
       "      <td>POLYGON ((2.00000 4.50000, 3.00000 2.60000, 3....</td>\n",
       "    </tr>\n",
       "  </tbody>\n",
       "</table>\n",
       "</div>"
      ],
      "text/plain": [
       "   they_intersect intersect_geom_type  \\\n",
       "0            True             POLYGON   \n",
       "\n",
       "                                           intersect  \n",
       "0  POLYGON ((2.00000 4.50000, 3.00000 2.60000, 3....  "
      ]
     },
     "execution_count": 40,
     "metadata": {},
     "output_type": "execute_result"
    }
   ],
   "source": [
    "#The difference between the polygon and linestring is a polygon\n",
    "sql = \"\"\"\n",
    "SELECT\n",
    "    ST_Intersects(g1.geom1,g1.geom2) AS they_intersect,\n",
    "    GeometryType(\n",
    "        ST_Difference(g1.geom1,g1.geom2) ) AS intersect_geom_type,\n",
    "    ST_Difference(g1.geom1,g1.geom2) AS intersect\n",
    "FROM (\n",
    "    SELECT ST_GeomFromText(\n",
    "        'POLYGON((\n",
    "            2 4.5,3 2.6,3 1.8,2 0,-1.5 2.2,\n",
    "            0.056 3.222,-1.5 4.2,2 6.5,2 4.5\n",
    "        ))'\n",
    "    ) AS geom1,\n",
    "    ST_GeomFromText('LINESTRING(-0.62 5.84,-0.8 0.59)') AS geom2\n",
    ") AS g1;\n",
    "\"\"\"\n",
    "\n",
    "example_11_2_1_1 = gpd.GeoDataFrame.from_postgis(sql=sql, con=engine, geom_col=\"intersect\") #Note change of geom_col!\n",
    "example_11_2_1_1.head()"
   ]
  },
  {
   "cell_type": "code",
   "execution_count": 41,
   "id": "random-glucose",
   "metadata": {},
   "outputs": [
    {
     "data": {
      "text/plain": [
       "<AxesSubplot:>"
      ]
     },
     "execution_count": 41,
     "metadata": {},
     "output_type": "execute_result"
    },
    {
     "data": {
      "image/png": "[encoded data removed]",
      "text/plain": [
       "<Figure size 432x288 with 1 Axes>"
      ]
     },
     "metadata": {
      "needs_background": "light"
     },
     "output_type": "display_data"
    }
   ],
   "source": [
    "example_11_2_1_1.plot()"
   ]
  },
  {
   "cell_type": "code",
   "execution_count": 42,
   "id": "wrapped-detroit",
   "metadata": {},
   "outputs": [
    {
     "data": {
      "text/html": [
       "<div>\n",
       "<style scoped>\n",
       "    .dataframe tbody tr th:only-of-type {\n",
       "        vertical-align: middle;\n",
       "    }\n",
       "\n",
       "    .dataframe tbody tr th {\n",
       "        vertical-align: top;\n",
       "    }\n",
       "\n",
       "    .dataframe thead th {\n",
       "        text-align: right;\n",
       "    }\n",
       "</style>\n",
       "<table border=\"1\" class=\"dataframe\">\n",
       "  <thead>\n",
       "    <tr style=\"text-align: right;\">\n",
       "      <th></th>\n",
       "      <th>they_intersect</th>\n",
       "      <th>intersect_geom_type</th>\n",
       "      <th>intersect</th>\n",
       "    </tr>\n",
       "  </thead>\n",
       "  <tbody>\n",
       "    <tr>\n",
       "      <th>0</th>\n",
       "      <td>True</td>\n",
       "      <td>MULTILINESTRING</td>\n",
       "      <td>MULTILINESTRING ((-0.62000 5.84000, -0.65724 4...</td>\n",
       "    </tr>\n",
       "  </tbody>\n",
       "</table>\n",
       "</div>"
      ],
      "text/plain": [
       "   they_intersect intersect_geom_type  \\\n",
       "0            True     MULTILINESTRING   \n",
       "\n",
       "                                           intersect  \n",
       "0  MULTILINESTRING ((-0.62000 5.84000, -0.65724 4...  "
      ]
     },
     "execution_count": 42,
     "metadata": {},
     "output_type": "execute_result"
    }
   ],
   "source": [
    "#The difference between the linestring and polygon is a multilinestring\n",
    "sql = \"\"\"\n",
    "SELECT\n",
    "    ST_Intersects(g1.geom1,g1.geom2) AS they_intersect,\n",
    "    GeometryType(\n",
    "        ST_Difference(g1.geom2,g1.geom1) ) AS intersect_geom_type,\n",
    "    ST_Difference(g1.geom2,g1.geom1) AS intersect\n",
    "FROM (\n",
    "    SELECT ST_GeomFromText(\n",
    "        'POLYGON((\n",
    "            2 4.5,3 2.6,3 1.8,2 0,-1.5 2.2,\n",
    "            0.056 3.222,-1.5 4.2,2 6.5,2 4.5\n",
    "        ))'\n",
    "    ) AS geom1,\n",
    "    ST_GeomFromText('LINESTRING(-0.62 5.84,-0.8 0.59)') AS geom2) AS g1;\n",
    "\"\"\"\n",
    "    \n",
    "example_11_2_1_2 = gpd.GeoDataFrame.from_postgis(sql=sql, con=engine, geom_col=\"intersect\") #Note change of geom_col!\n",
    "example_11_2_1_2.head()"
   ]
  },
  {
   "cell_type": "code",
   "execution_count": 43,
   "id": "71e51f06-70da-4ba7-889e-ada6a5542450",
   "metadata": {},
   "outputs": [
    {
     "data": {
      "text/plain": [
       "<AxesSubplot:>"
      ]
     },
     "execution_count": 43,
     "metadata": {},
     "output_type": "execute_result"
    },
    {
     "data": {
      "image/png": "[encoded data removed]",
      "text/plain": [
       "<Figure size 432x288 with 1 Axes>"
      ]
     },
     "metadata": {
      "needs_background": "light"
     },
     "output_type": "display_data"
    }
   ],
   "source": [
    "poly.plot()"
   ]
  },
  {
   "cell_type": "code",
   "execution_count": 30,
   "id": "occupational-defense",
   "metadata": {},
   "outputs": [
    {
     "data": {
      "text/plain": [
       "<matplotlib.axes._subplots.AxesSubplot at 0x7ff320515550>"
      ]
     },
     "execution_count": 30,
     "metadata": {},
     "output_type": "execute_result"
    },
    {
     "data": {
      "image/png": "[encoded data removed]",
      "text/plain": [
       "<Figure size 432x288 with 1 Axes>"
      ]
     },
     "metadata": {
      "needs_background": "light"
     },
     "output_type": "display_data"
    }
   ],
   "source": [
    "example_11_2_1_2.plot()"
   ]
  },
  {
   "cell_type": "code",
   "execution_count": 31,
   "id": "peripheral-conversion",
   "metadata": {},
   "outputs": [
    {
     "data": {
      "text/html": [
       "<div>\n",
       "<style scoped>\n",
       "    .dataframe tbody tr th:only-of-type {\n",
       "        vertical-align: middle;\n",
       "    }\n",
       "\n",
       "    .dataframe tbody tr th {\n",
       "        vertical-align: top;\n",
       "    }\n",
       "\n",
       "    .dataframe thead th {\n",
       "        text-align: right;\n",
       "    }\n",
       "</style>\n",
       "<table border=\"1\" class=\"dataframe\">\n",
       "  <thead>\n",
       "    <tr style=\"text-align: right;\">\n",
       "      <th></th>\n",
       "      <th>they_intersect</th>\n",
       "      <th>intersect_geom_type</th>\n",
       "      <th>intersect</th>\n",
       "    </tr>\n",
       "  </thead>\n",
       "  <tbody>\n",
       "    <tr>\n",
       "      <th>0</th>\n",
       "      <td>True</td>\n",
       "      <td>GEOMETRYCOLLECTION</td>\n",
       "      <td>GEOMETRYCOLLECTION (LINESTRING (-0.62000 5.840...</td>\n",
       "    </tr>\n",
       "  </tbody>\n",
       "</table>\n",
       "</div>"
      ],
      "text/plain": [
       "   they_intersect intersect_geom_type  \\\n",
       "0            True  GEOMETRYCOLLECTION   \n",
       "\n",
       "                                           intersect  \n",
       "0  GEOMETRYCOLLECTION (LINESTRING (-0.62000 5.840...  "
      ]
     },
     "execution_count": 31,
     "metadata": {},
     "output_type": "execute_result"
    }
   ],
   "source": [
    "#The symmetric difference is a geometry collection\n",
    "sql = \"\"\"\n",
    "SELECT\n",
    "    ST_Intersects(g1.geom1,g1.geom2) AS they_intersect,\n",
    "    GeometryType(\n",
    "        ST_SymDifference(g1.geom1,g1.geom2)\n",
    "    ) AS intersect_geom_type,\n",
    "    ST_SymDifference(g1.geom2,g1.geom1) AS intersect\n",
    "FROM (\n",
    "    SELECT ST_GeomFromText(\n",
    "        'POLYGON((\n",
    "            2 4.5,3 2.6,3 1.8,2 0,-1.5 2.2,\n",
    "            0.056 3.222,-1.5 4.2,2 6.5,2 4.5\n",
    "        ))'\n",
    "    ) AS geom1,\n",
    "    ST_GeomFromText('LINESTRING(-0.62 5.84,-0.8 0.59)') AS geom2) AS g1;\n",
    "\"\"\"\n",
    "example_11_2_1_3 = gpd.GeoDataFrame.from_postgis(sql=sql, con=engine, geom_col=\"intersect\") #Note change of geom_col!\n",
    "example_11_2_1_3.head()"
   ]
  },
  {
   "cell_type": "code",
   "execution_count": 32,
   "id": "executive-birthday",
   "metadata": {},
   "outputs": [
    {
     "data": {
      "text/plain": [
       "<matplotlib.axes._subplots.AxesSubplot at 0x7ff3204491d0>"
      ]
     },
     "execution_count": 32,
     "metadata": {},
     "output_type": "execute_result"
    },
    {
     "data": {
      "image/png": "[encoded data removed]",
      "text/plain": [
       "<Figure size 432x288 with 1 Axes>"
      ]
     },
     "metadata": {
      "needs_background": "light"
     },
     "output_type": "display_data"
    }
   ],
   "source": [
    "example_11_2_1_3.plot()"
   ]
  },
  {
   "cell_type": "markdown",
   "id": "domestic-expansion",
   "metadata": {},
   "source": [
    "In the preceding listing, the first `SELECT` returns a polygon #1, which is pretty much the same polygon you started out with. The second `SELECT` returns a `multilinestring` composed of three `linestring`s where the `polygon` cuts through #2. Finally, the third `SELECT` returns a `geometrycollection` as expected, composed of a `multilinestring` and a `polygon` #3.\n",
    "\n",
    "![Image 3](./images/image_3.png)"
   ]
  },
  {
   "cell_type": "markdown",
   "id": "warming-means",
   "metadata": {},
   "source": [
    "# Splitting\n",
    "Textbook Chapter/Section: 11.2.2 \\\n",
    "Textbook Start Page: 316\n",
    "\n",
    "You just learned that using a `linestring` to slice a `polygon` with `ST_Difference` doesn’t work. For that, PostGIS offers another function called `ST_Split`. The `ST_Split` function can only be used with single geometries, not collections, and the blade you use to cut has to be one dimension lower than what you’re cutting up.\n",
    "\n",
    "The following listing demonstrates the use of `ST_Split`."
   ]
  },
  {
   "cell_type": "code",
   "execution_count": 8,
   "id": "supposed-celebration",
   "metadata": {},
   "outputs": [
    {
     "data": {
      "text/html": [
       "<div>\n",
       "<style scoped>\n",
       "    .dataframe tbody tr th:only-of-type {\n",
       "        vertical-align: middle;\n",
       "    }\n",
       "\n",
       "    .dataframe tbody tr th {\n",
       "        vertical-align: top;\n",
       "    }\n",
       "\n",
       "    .dataframe thead th {\n",
       "        text-align: right;\n",
       "    }\n",
       "</style>\n",
       "<table border=\"1\" class=\"dataframe\">\n",
       "  <thead>\n",
       "    <tr style=\"text-align: right;\">\n",
       "      <th></th>\n",
       "      <th>index</th>\n",
       "      <th>geom</th>\n",
       "    </tr>\n",
       "  </thead>\n",
       "  <tbody>\n",
       "    <tr>\n",
       "      <th>0</th>\n",
       "      <td>1</td>\n",
       "      <td>POLYGON ((2.00000 4.50000, 3.00000 2.60000, 3....</td>\n",
       "    </tr>\n",
       "    <tr>\n",
       "      <th>1</th>\n",
       "      <td>2</td>\n",
       "      <td>POLYGON ((-0.76073 1.73532, -1.50000 2.20000, ...</td>\n",
       "    </tr>\n",
       "    <tr>\n",
       "      <th>2</th>\n",
       "      <td>3</td>\n",
       "      <td>POLYGON ((-0.69361 3.69315, -1.50000 4.20000, ...</td>\n",
       "    </tr>\n",
       "  </tbody>\n",
       "</table>\n",
       "</div>"
      ],
      "text/plain": [
       "   index                                               geom\n",
       "0      1  POLYGON ((2.00000 4.50000, 3.00000 2.60000, 3....\n",
       "1      2  POLYGON ((-0.76073 1.73532, -1.50000 2.20000, ...\n",
       "2      3  POLYGON ((-0.69361 3.69315, -1.50000 4.20000, ..."
      ]
     },
     "execution_count": 8,
     "metadata": {},
     "output_type": "execute_result"
    }
   ],
   "source": [
    "sql = \"\"\"SELECT gd.path[1] AS index, gd.geom AS geom\n",
    "FROM (\n",
    "    SELECT\n",
    "        ST_GeomFromText(\n",
    "            'POLYGON((\n",
    "                2 4.5,3 2.6,3 1.8,2 0,-1.5 2.2,0.056\n",
    "            3.222,-1.5 4.2,2 6.5,2 4.5\n",
    "            ))'\n",
    ") AS geom1,\n",
    "        ST_GeomFromText('LINESTRING(-0.62 5.84,-0.8 0.59)') AS geom2\n",
    ") AS g1,\n",
    "  ST_Dump(ST_Split(g1.geom1, g1.geom2)) AS gd\"\"\"\n",
    "example_11_2_2 = gpd.GeoDataFrame.from_postgis(sql=sql, con=engine, geom_col=\"geom\") #Note change of geom_col!\n",
    "example_11_2_2.head()"
   ]
  },
  {
   "cell_type": "code",
   "execution_count": 9,
   "id": "empirical-terminology",
   "metadata": {},
   "outputs": [
    {
     "data": {
      "text/plain": [
       "<AxesSubplot:>"
      ]
     },
     "execution_count": 9,
     "metadata": {},
     "output_type": "execute_result"
    },
    {
     "data": {
      "image/png": "[encoded data removed]",
      "text/plain": [
       "<Figure size 432x288 with 1 Axes>"
      ]
     },
     "metadata": {
      "needs_background": "light"
     },
     "output_type": "display_data"
    }
   ],
   "source": [
    "example_11_2_2.plot()"
   ]
  },
  {
   "cell_type": "markdown",
   "id": "generous-colorado",
   "metadata": {},
   "source": [
    "The `ST_Split(A,B)` function always returns a geometry collection consisting of all parts of geometry `A` that result from splitting it with geometry `B`, even when the result is a single geometry.\n",
    "\n",
    "Because of the inconvenience of geometry collections, you’ll often see `ST_Split` combined with `ST_Dump`, as in the above listing, or with `ST_CollectionExtract` to simplify down to a single geometry where possible.\n",
    "\n",
    "![Image 4](./images/image_4.png)"
   ]
  },
  {
   "cell_type": "markdown",
   "id": "continent-sending",
   "metadata": {},
   "source": [
    "# Tessellating\n",
    "Textbook Chapter/Section: 11.2.3 \\\n",
    "Textbook Start Page: 318\n",
    "\n",
    "Dividing your polygon into regions using shapes such as rectangles, hexagons, and triangles is called tessellating. It’s often desirable to divide your regions into areas that have equal area or population for easier statistical analysis. In this section, we’ll demonstrate techniques for achieving equal-area regions.\n",
    "\n",
    "Tessellating looks like this:\n",
    "\n",
    "![Tessellating](https://www.math-salamanders.com/image-files/tessellating-triangles.gif)\n",
    "\n",
    "\n",
    "## CREATING A GRID AND SLICING TABLE GEOMETRIES WITH THE GRID\n",
    "In this example, you’ll slice the New York city boroughs into small rectangular blocks. Your map will look like this:\n",
    "\n",
    "![Image 5](./images/image_5.png)\n",
    "\n",
    "We will first start off with `ST_SquareGrid`. `ST_SquareGrid` is a set returning function that returns a table consisting of 3 columns `(i,j,geom)`. The `i` is the row number along the grid and `j` is the column number along the grid."
   ]
  },
  {
   "cell_type": "code",
   "execution_count": 10,
   "id": "supported-welding",
   "metadata": {},
   "outputs": [
    {
     "data": {
      "text/html": [
       "<div>\n",
       "<style scoped>\n",
       "    .dataframe tbody tr th:only-of-type {\n",
       "        vertical-align: middle;\n",
       "    }\n",
       "\n",
       "    .dataframe tbody tr th {\n",
       "        vertical-align: top;\n",
       "    }\n",
       "\n",
       "    .dataframe thead th {\n",
       "        text-align: right;\n",
       "    }\n",
       "</style>\n",
       "<table border=\"1\" class=\"dataframe\">\n",
       "  <thead>\n",
       "    <tr style=\"text-align: right;\">\n",
       "      <th></th>\n",
       "      <th>boroname</th>\n",
       "      <th>i</th>\n",
       "      <th>j</th>\n",
       "      <th>geom</th>\n",
       "    </tr>\n",
       "  </thead>\n",
       "  <tbody>\n",
       "    <tr>\n",
       "      <th>0</th>\n",
       "      <td>Staten Island</td>\n",
       "      <td>91</td>\n",
       "      <td>11</td>\n",
       "      <td>POLYGON ((920000.000 117907.700, 918916.902 11...</td>\n",
       "    </tr>\n",
       "    <tr>\n",
       "      <th>1</th>\n",
       "      <td>Staten Island</td>\n",
       "      <td>91</td>\n",
       "      <td>12</td>\n",
       "      <td>POLYGON ((912498.141 120000.000, 912287.069 12...</td>\n",
       "    </tr>\n",
       "    <tr>\n",
       "      <th>2</th>\n",
       "      <td>Staten Island</td>\n",
       "      <td>91</td>\n",
       "      <td>13</td>\n",
       "      <td>POLYGON ((915779.150 130000.000, 915731.347 13...</td>\n",
       "    </tr>\n",
       "    <tr>\n",
       "      <th>3</th>\n",
       "      <td>Staten Island</td>\n",
       "      <td>91</td>\n",
       "      <td>14</td>\n",
       "      <td>POLYGON ((916233.310 140000.000, 917776.001 14...</td>\n",
       "    </tr>\n",
       "    <tr>\n",
       "      <th>4</th>\n",
       "      <td>Staten Island</td>\n",
       "      <td>92</td>\n",
       "      <td>11</td>\n",
       "      <td>POLYGON ((930000.000 116834.215, 928239.005 11...</td>\n",
       "    </tr>\n",
       "  </tbody>\n",
       "</table>\n",
       "</div>"
      ],
      "text/plain": [
       "        boroname   i   j                                               geom\n",
       "0  Staten Island  91  11  POLYGON ((920000.000 117907.700, 918916.902 11...\n",
       "1  Staten Island  91  12  POLYGON ((912498.141 120000.000, 912287.069 12...\n",
       "2  Staten Island  91  13  POLYGON ((915779.150 130000.000, 915731.347 13...\n",
       "3  Staten Island  91  14  POLYGON ((916233.310 140000.000, 917776.001 14...\n",
       "4  Staten Island  92  11  POLYGON ((930000.000 116834.215, 928239.005 11..."
      ]
     },
     "execution_count": 10,
     "metadata": {},
     "output_type": "execute_result"
    }
   ],
   "source": [
    "sql = \"\"\"\n",
    "WITH bounds AS (\n",
    "     SELECT ST_SetSRID(ST_Extent(geom), ST_SRID(geom)) AS geom -- Creates a bounding box geometry covering the extent of the boroughs\n",
    "        FROM ch11.boroughs\n",
    "    GROUP BY ST_SRID(geom)\n",
    " ),\n",
    " grid AS (SELECT g.i, g.j, g.geom\n",
    "          FROM bounds, ST_SquareGrid(10000,bounds.geom) AS g\n",
    "          )                                                    -- Creates a square grid each square grid is of 10000 length/width units (feet)\n",
    " SELECT b.boroname, grid.i, grid.j,\n",
    "      CASE WHEN ST_Covers(b.geom,grid.geom) THEN grid.geom\n",
    "      ELSE ST_Intersection(b.geom, grid.geom) END AS geom      -- Clips the boroughs by the squares\n",
    " FROM ch11.boroughs AS b\n",
    "     INNER JOIN grid ON ST_Intersects(b.geom, grid.geom);\n",
    "\"\"\"\n",
    "\n",
    "example_11_2_3_1 = gpd.GeoDataFrame.from_postgis(sql=sql, con=engine, geom_col=\"geom\") #Note change of geom_col!\n",
    "example_11_2_3_1.head()"
   ]
  },
  {
   "cell_type": "code",
   "execution_count": 11,
   "id": "empty-warren",
   "metadata": {},
   "outputs": [
    {
     "data": {
      "text/plain": [
       "<AxesSubplot:>"
      ]
     },
     "execution_count": 11,
     "metadata": {},
     "output_type": "execute_result"
    },
    {
     "data": {
      "image/png": "[encoded data removed]",
      "text/plain": [
       "<Figure size 432x288 with 1 Axes>"
      ]
     },
     "metadata": {
      "needs_background": "light"
     },
     "output_type": "display_data"
    }
   ],
   "source": [
    "example_11_2_3_1.plot()"
   ]
  },
  {
   "cell_type": "code",
   "execution_count": 39,
   "id": "photographic-fraud",
   "metadata": {},
   "outputs": [],
   "source": [
    "# #Add to db\n",
    "# example_11_2_3_1.to_postgis(name=\"boroughs_square_grid\", schema=\"ch11\", con=engine)"
   ]
  },
  {
   "cell_type": "markdown",
   "id": "metallic-brisbane",
   "metadata": {},
   "source": [
    "The above code uses a grid where each square is 10,000 units in length/width and spans the full extent of NYC boroughs. Since the boroughs are in NY State plane feet (SRID=2263), the units of measure are square feet. When you clip the bouroughs by the grid, the resulting tiles have various shapes and sizes when they are on bourough boundaries. This may not be ideal if you want all your tiles to be the same size. In those cases you may want to forgo the clipping and just return the squares as is. Note that <3> uses a CASE statement. This is equivalent in result to just doing ST_Intersection, but because ST_Intersection is an intensive operation, you save a lot of processing cycles by just returning the square if it is completely covered by the borough.\n",
    "\n",
    "\n",
    "The above code defined a bounds that covered the whole area of interest and split that into squares and then clipped the geometries using those squares. One feature of the ST_SquareGrid function that is not obvious from the above code is that for any given SRID and size there is a unique dicing of grids that can be formed across all space. Which means for any given SRID and size a particular point will have exactly the same i,j, geom tile it intersects in."
   ]
  },
  {
   "cell_type": "code",
   "execution_count": 41,
   "id": "medical-queen",
   "metadata": {},
   "outputs": [
    {
     "data": {
      "text/html": [
       "<div>\n",
       "<style scoped>\n",
       "    .dataframe tbody tr th:only-of-type {\n",
       "        vertical-align: middle;\n",
       "    }\n",
       "\n",
       "    .dataframe tbody tr th {\n",
       "        vertical-align: top;\n",
       "    }\n",
       "\n",
       "    .dataframe thead th {\n",
       "        text-align: right;\n",
       "    }\n",
       "</style>\n",
       "<table border=\"1\" class=\"dataframe\">\n",
       "  <thead>\n",
       "    <tr style=\"text-align: right;\">\n",
       "      <th></th>\n",
       "      <th>boroname</th>\n",
       "      <th>i</th>\n",
       "      <th>j</th>\n",
       "      <th>geom</th>\n",
       "    </tr>\n",
       "  </thead>\n",
       "  <tbody>\n",
       "    <tr>\n",
       "      <th>0</th>\n",
       "      <td>Staten Island</td>\n",
       "      <td>91</td>\n",
       "      <td>11</td>\n",
       "      <td>POLYGON ((920000.000 117907.700, 918916.902 11...</td>\n",
       "    </tr>\n",
       "    <tr>\n",
       "      <th>1</th>\n",
       "      <td>Staten Island</td>\n",
       "      <td>91</td>\n",
       "      <td>12</td>\n",
       "      <td>POLYGON ((912498.141 120000.000, 912287.069 12...</td>\n",
       "    </tr>\n",
       "    <tr>\n",
       "      <th>2</th>\n",
       "      <td>Staten Island</td>\n",
       "      <td>91</td>\n",
       "      <td>13</td>\n",
       "      <td>POLYGON ((915779.150 130000.000, 915731.347 13...</td>\n",
       "    </tr>\n",
       "    <tr>\n",
       "      <th>3</th>\n",
       "      <td>Staten Island</td>\n",
       "      <td>91</td>\n",
       "      <td>14</td>\n",
       "      <td>POLYGON ((916233.310 140000.000, 917776.001 14...</td>\n",
       "    </tr>\n",
       "    <tr>\n",
       "      <th>4</th>\n",
       "      <td>Staten Island</td>\n",
       "      <td>92</td>\n",
       "      <td>11</td>\n",
       "      <td>POLYGON ((930000.000 116834.215, 928239.005 11...</td>\n",
       "    </tr>\n",
       "  </tbody>\n",
       "</table>\n",
       "</div>"
      ],
      "text/plain": [
       "        boroname   i   j                                               geom\n",
       "0  Staten Island  91  11  POLYGON ((920000.000 117907.700, 918916.902 11...\n",
       "1  Staten Island  91  12  POLYGON ((912498.141 120000.000, 912287.069 12...\n",
       "2  Staten Island  91  13  POLYGON ((915779.150 130000.000, 915731.347 13...\n",
       "3  Staten Island  91  14  POLYGON ((916233.310 140000.000, 917776.001 14...\n",
       "4  Staten Island  92  11  POLYGON ((930000.000 116834.215, 928239.005 11..."
      ]
     },
     "execution_count": 41,
     "metadata": {},
     "output_type": "execute_result"
    }
   ],
   "source": [
    "#Dividing the NYC boroughs bounds into rectangular blocks\n",
    "#This code creates a square grid each square grid is of 10000 sq units (feet)\n",
    "sql = \"\"\"\n",
    "SELECT b.boroname, grid.i, grid.j,\n",
    "    CASE WHEN ST_Covers(b.geom,grid.geom) THEN grid.geom\n",
    "      ELSE ST_Intersection(b.geom, grid.geom) END AS geom             -- Creates a bounding box geometry covering the extent of the boroughs\n",
    " FROM ch11.boroughs AS b\n",
    "     INNER JOIN ST_SquareGrid(10000,b.geom) AS grid                   -- Clips the boroughs by the squares\n",
    "      ON ST_Intersects(b.geom, grid.geom);\n",
    "\"\"\"\n",
    "\n",
    "example_11_2_3_2 = gpd.GeoDataFrame.from_postgis(sql=sql, con=engine, geom_col=\"geom\") #Note change of geom_col!\n",
    "example_11_2_3_2.head()"
   ]
  },
  {
   "cell_type": "code",
   "execution_count": 42,
   "id": "hollow-compression",
   "metadata": {},
   "outputs": [
    {
     "data": {
      "text/plain": [
       "<matplotlib.axes._subplots.AxesSubplot at 0x7ff321a9d290>"
      ]
     },
     "execution_count": 42,
     "metadata": {},
     "output_type": "execute_result"
    },
    {
     "data": {
      "image/png": "[encoded data removed]",
      "text/plain": [
       "<Figure size 432x288 with 1 Axes>"
      ]
     },
     "metadata": {
      "needs_background": "light"
     },
     "output_type": "display_data"
    }
   ],
   "source": [
    "example_11_2_3_2.plot() #Note it is the same result as before"
   ]
  },
  {
   "cell_type": "code",
   "execution_count": 43,
   "id": "primary-victoria",
   "metadata": {},
   "outputs": [],
   "source": [
    "#Add to db\n",
    "example_11_2_3_2.to_postgis(name=\"boroughs_square_grid2\", schema=\"ch11\", con=engine)"
   ]
  },
  {
   "cell_type": "markdown",
   "id": "oriental-charles",
   "metadata": {},
   "source": [
    "If this is a grid you’ll be using often, it’s best to make a physical table (materialize it) out of the bounds and use it to chop up your area as needed. However if this is one off chunking for specific areas or your area is huge and you want to do it in bits, then it is better to follow the listing 11.5 model.\n",
    "\n",
    "Often times a hexagonal grid works better for splitting space evenly as each hexagon has 6 neighbors it is equidistant to. This is not the case with squares. A popular gridding system for the world is the H3 scheme created by Uber for dividing driving regions. It uses hexagons https://eng.uber.com/h3/ to divide the earth and a dymaxion projection https://en.wikipedia.org/wiki/Dymaxion_map. This has the feature of allowing large hexagons to more or less contain smaller ones."
   ]
  },
  {
   "cell_type": "markdown",
   "id": "respiratory-calgary",
   "metadata": {},
   "source": [
    "# Sharding\n",
    "Textbook Chapter/Section: 11.2.3 \\\n",
    "Textbook Start Page: 327\n",
    "\n",
    "One common reason for breaking a geometry into smaller bits is for performance. The reason is that operations such as intersections and intersects work much faster on geometries with fewer points or smaller area. If you have such a need, the fastest sharding function is the `ST_Subdivide`(https://postgis.net/docs/ST_Subdivide.html) function. `ST_Subdivide` is a set returning function that returns a set of geometries where no geometry has more than max_vertices designated. It can work with areal, linear, and point geometries.\n",
    "\n",
    "This next example divides Queens such that no polygon has more than 1/4th total vertices of original."
   ]
  },
  {
   "cell_type": "code",
   "execution_count": 44,
   "id": "expensive-pressing",
   "metadata": {},
   "outputs": [
    {
     "data": {
      "text/html": [
       "<div>\n",
       "<style scoped>\n",
       "    .dataframe tbody tr th:only-of-type {\n",
       "        vertical-align: middle;\n",
       "    }\n",
       "\n",
       "    .dataframe tbody tr th {\n",
       "        vertical-align: top;\n",
       "    }\n",
       "\n",
       "    .dataframe thead th {\n",
       "        text-align: right;\n",
       "    }\n",
       "</style>\n",
       "<table border=\"1\" class=\"dataframe\">\n",
       "  <thead>\n",
       "    <tr style=\"text-align: right;\">\n",
       "      <th></th>\n",
       "      <th>bucket</th>\n",
       "      <th>geom</th>\n",
       "      <th>area</th>\n",
       "      <th>npoints</th>\n",
       "      <th>max_vertices</th>\n",
       "    </tr>\n",
       "  </thead>\n",
       "  <tbody>\n",
       "    <tr>\n",
       "      <th>0</th>\n",
       "      <td>1</td>\n",
       "      <td>POLYGON ((1016187.550 141290.140, 1011914.750 ...</td>\n",
       "      <td>3.266832e+08</td>\n",
       "      <td>26</td>\n",
       "      <td>239</td>\n",
       "    </tr>\n",
       "    <tr>\n",
       "      <th>1</th>\n",
       "      <td>2</td>\n",
       "      <td>POLYGON ((1039907.726 150741.984, 1034839.909 ...</td>\n",
       "      <td>5.422707e+08</td>\n",
       "      <td>73</td>\n",
       "      <td>239</td>\n",
       "    </tr>\n",
       "    <tr>\n",
       "      <th>2</th>\n",
       "      <td>3</td>\n",
       "      <td>POLYGON ((1048784.526 167596.255, 1048727.701 ...</td>\n",
       "      <td>2.061526e+08</td>\n",
       "      <td>166</td>\n",
       "      <td>239</td>\n",
       "    </tr>\n",
       "    <tr>\n",
       "      <th>3</th>\n",
       "      <td>4</td>\n",
       "      <td>POLYGON ((1059790.715 184428.326, 1059759.660 ...</td>\n",
       "      <td>2.899369e+08</td>\n",
       "      <td>88</td>\n",
       "      <td>239</td>\n",
       "    </tr>\n",
       "    <tr>\n",
       "      <th>4</th>\n",
       "      <td>5</td>\n",
       "      <td>POLYGON ((1031087.953 184428.326, 1022870.118 ...</td>\n",
       "      <td>5.098495e+08</td>\n",
       "      <td>161</td>\n",
       "      <td>239</td>\n",
       "    </tr>\n",
       "  </tbody>\n",
       "</table>\n",
       "</div>"
      ],
      "text/plain": [
       "   bucket                                               geom          area  \\\n",
       "0       1  POLYGON ((1016187.550 141290.140, 1011914.750 ...  3.266832e+08   \n",
       "1       2  POLYGON ((1039907.726 150741.984, 1034839.909 ...  5.422707e+08   \n",
       "2       3  POLYGON ((1048784.526 167596.255, 1048727.701 ...  2.061526e+08   \n",
       "3       4  POLYGON ((1059790.715 184428.326, 1059759.660 ...  2.899369e+08   \n",
       "4       5  POLYGON ((1031087.953 184428.326, 1022870.118 ...  5.098495e+08   \n",
       "\n",
       "   npoints  max_vertices  \n",
       "0       26           239  \n",
       "1       73           239  \n",
       "2      166           239  \n",
       "3       88           239  \n",
       "4      161           239  "
      ]
     },
     "execution_count": 44,
     "metadata": {},
     "output_type": "execute_result"
    }
   ],
   "source": [
    "sql = \"\"\"\n",
    "SELECT row_number() OVER() AS bucket,x.geom,\n",
    "  ST_Area(x.geom) AS area,\n",
    "  ST_NPoints(x.geom) AS npoints,\n",
    "  (ref.npoints/4)::integer As max_vertices\n",
    "FROM (SELECT geom,                                             -- Geometry to slice\n",
    "        ST_NPoints(geom) AS npoints\n",
    "      FROM ch11.boroughs WHERE boroname = 'Queens') AS ref\n",
    "         , LATERAL ST_Subdivide(ref.geom,\n",
    "                  (ref.npoints/4)::integer                     -- Max number shards\n",
    "                  ) AS x(geom) ;\n",
    "\"\"\"\n",
    "\n",
    "example_11_2_3_3 = gpd.GeoDataFrame.from_postgis(sql=sql, con=engine, geom_col=\"geom\") #Note change of geom_col!\n",
    "example_11_2_3_3.head()"
   ]
  },
  {
   "cell_type": "code",
   "execution_count": 45,
   "id": "difficult-plasma",
   "metadata": {},
   "outputs": [
    {
     "data": {
      "text/plain": [
       "<matplotlib.axes._subplots.AxesSubplot at 0x7ff321c45f50>"
      ]
     },
     "execution_count": 45,
     "metadata": {},
     "output_type": "execute_result"
    },
    {
     "data": {
      "image/png": "[encoded data removed]",
      "text/plain": [
       "<Figure size 432x288 with 1 Axes>"
      ]
     },
     "metadata": {
      "needs_background": "light"
     },
     "output_type": "display_data"
    }
   ],
   "source": [
    "example_11_2_3_3.plot()"
   ]
  },
  {
   "cell_type": "markdown",
   "id": "lonely-result",
   "metadata": {},
   "source": [
    "Here is a color-coded example of the above plot:\n",
    "    \n",
    "![Image 6](./images/image_6.png)\n",
    "\n",
    "\n",
    "\n",
    "\n",
    "You will often find `ST_Subdivide` paired with `ST_Segmentize`. `ST_Segmentize` is used to even out the segments so that when `ST_Subdivide` does the work of segmentizing, the areas have a better chance of being equal.\n",
    "\n",
    "In the above queries with `ST_Subdivide` use `LATERAL` join constructs. In the case of set-returning functions, the `LATERAL` keyword is optional so you will find people often ommitting `LATERAL` even though they are doing a `LATERAL` join."
   ]
  },
  {
   "cell_type": "markdown",
   "id": "expired-isolation",
   "metadata": {},
   "source": [
    "# Segmentizing `LINESTRING`s\n",
    "Textbook Chapter/Section: 11.3.1 \\\n",
    "Textbook Start Page: 330\n",
    "\n",
    "There are several reasons why you might want to break up a linestring into segments:\n",
    "- To improve the use of spatial indexes—a smaller linestring will have a smaller bounding box.\n",
    "- To prevent linestrings from stretching beyond one unit measure.\n",
    "- As a step toward topology and routing to determine shared edges.\n",
    "\n",
    "If you have long linestrings where the vertices are fairly far apart, you can inject intermediary points using the `ST_Segmentize` function. `ST_Segmentize` adds points to your linestring to make sure that no individual segments in the linestring exceed a given length. `ST_Segmentize` exists for both geometry and geography types.\n",
    "\n",
    "For the geometry version of `ST_Segmentize`, the measurement specified with the max length is in the units of the spatial reference system. For geography, the units are always meters.\n",
    "\n",
    "In the following listing, you’re segmentizing a 4 vertex linestring into 10,000-meter segments."
   ]
  },
  {
   "cell_type": "code",
   "execution_count": 14,
   "id": "noble-application",
   "metadata": {},
   "outputs": [
    {
     "data": {
      "text/html": [
       "<div>\n",
       "<style scoped>\n",
       "    .dataframe tbody tr th:only-of-type {\n",
       "        vertical-align: middle;\n",
       "    }\n",
       "\n",
       "    .dataframe tbody tr th {\n",
       "        vertical-align: top;\n",
       "    }\n",
       "\n",
       "    .dataframe thead th {\n",
       "        text-align: right;\n",
       "    }\n",
       "</style>\n",
       "<table border=\"1\" class=\"dataframe\">\n",
       "  <thead>\n",
       "    <tr style=\"text-align: right;\">\n",
       "      <th></th>\n",
       "      <th>geom</th>\n",
       "      <th>np_before</th>\n",
       "      <th>np_after</th>\n",
       "    </tr>\n",
       "  </thead>\n",
       "  <tbody>\n",
       "    <tr>\n",
       "      <th>0</th>\n",
       "      <td>LINESTRING (-117.16000 32.72000, -71.06000 42....</td>\n",
       "      <td>4</td>\n",
       "      <td>3585</td>\n",
       "    </tr>\n",
       "  </tbody>\n",
       "</table>\n",
       "</div>"
      ],
      "text/plain": [
       "                                                geom  np_before  np_after\n",
       "0  LINESTRING (-117.16000 32.72000, -71.06000 42....          4      3585"
      ]
     },
     "execution_count": 14,
     "metadata": {},
     "output_type": "execute_result"
    }
   ],
   "source": [
    "#This is our linestring\n",
    "sql = \"\"\"\n",
    "SELECT\n",
    "    geog::geometry AS geom,\n",
    "    ST_NPoints(geog::geometry) AS np_before,\n",
    "    ST_NPoints(ST_Segmentize(geog,10000)::geometry) AS np_after\n",
    "FROM ST_GeogFromText(\n",
    "    'LINESTRING(-117.16 32.72,-71.06 42.35,3.3974 6.449,120.96 23.70)'\n",
    ") AS geog;\n",
    "\"\"\"\n",
    "\n",
    "example_11_3_1_1 = gpd.GeoDataFrame.from_postgis(sql=sql, con=engine, geom_col=\"geom\") #Note change of geom_col!\n",
    "example_11_3_1_1.head()"
   ]
  },
  {
   "cell_type": "code",
   "execution_count": 15,
   "id": "primary-board",
   "metadata": {},
   "outputs": [
    {
     "data": {
      "text/plain": [
       "<AxesSubplot:>"
      ]
     },
     "execution_count": 15,
     "metadata": {},
     "output_type": "execute_result"
    },
    {
     "data": {
      "image/png": "[encoded data removed]",
      "text/plain": [
       "<Figure size 432x288 with 1 Axes>"
      ]
     },
     "metadata": {
      "needs_background": "light"
     },
     "output_type": "display_data"
    }
   ],
   "source": [
    "example_11_3_1_1.plot()"
   ]
  },
  {
   "cell_type": "markdown",
   "id": "worldwide-franchise",
   "metadata": {},
   "source": [
    "In this listing, you start with a 4-point linestring. After segmentizing, you end up with a 3,585-point linestring where the distance between any two adjacent points is no more than 10,000 meters. You cast the geography object to a geometry to use the `ST_NPoints` function. The `ST_NPoints` function does not exist for geography.\n",
    "\n",
    "As mentioned earlier, `ST_Subdivide` is often used with `ST_Segmentize`. This is because `ST_Subdivide` cuts at vertices, so if you wanted to then break apart your linestring into separate linestrings, you can use `ST_Subdivide`, but need to first cast to geometry and then back to geography as follows:"
   ]
  },
  {
   "cell_type": "code",
   "execution_count": 49,
   "id": "solar-haiti",
   "metadata": {},
   "outputs": [
    {
     "data": {
      "text/html": [
       "<div>\n",
       "<style scoped>\n",
       "    .dataframe tbody tr th:only-of-type {\n",
       "        vertical-align: middle;\n",
       "    }\n",
       "\n",
       "    .dataframe tbody tr th {\n",
       "        vertical-align: top;\n",
       "    }\n",
       "\n",
       "    .dataframe thead th {\n",
       "        text-align: right;\n",
       "    }\n",
       "</style>\n",
       "<table border=\"1\" class=\"dataframe\">\n",
       "  <thead>\n",
       "    <tr style=\"text-align: right;\">\n",
       "      <th></th>\n",
       "      <th>geo</th>\n",
       "      <th>np_after</th>\n",
       "    </tr>\n",
       "  </thead>\n",
       "  <tbody>\n",
       "    <tr>\n",
       "      <th>0</th>\n",
       "      <td>LINESTRING (-117.16000 32.72000, -117.08387 32...</td>\n",
       "      <td>270</td>\n",
       "    </tr>\n",
       "    <tr>\n",
       "      <th>1</th>\n",
       "      <td>LINESTRING (-94.55382 40.08841, -94.49497 40.1...</td>\n",
       "      <td>236</td>\n",
       "    </tr>\n",
       "    <tr>\n",
       "      <th>2</th>\n",
       "      <td>LINESTRING (-71.94764 42.35359, -71.84901 42.3...</td>\n",
       "      <td>152</td>\n",
       "    </tr>\n",
       "    <tr>\n",
       "      <th>3</th>\n",
       "      <td>LINESTRING (-57.63000 40.52939, -57.54303 40.5...</td>\n",
       "      <td>367</td>\n",
       "    </tr>\n",
       "    <tr>\n",
       "      <th>4</th>\n",
       "      <td>LINESTRING (-27.86500 29.73958, -27.81249 29.7...</td>\n",
       "      <td>230</td>\n",
       "    </tr>\n",
       "  </tbody>\n",
       "</table>\n",
       "</div>"
      ],
      "text/plain": [
       "                                                 geo  np_after\n",
       "0  LINESTRING (-117.16000 32.72000, -117.08387 32...       270\n",
       "1  LINESTRING (-94.55382 40.08841, -94.49497 40.1...       236\n",
       "2  LINESTRING (-71.94764 42.35359, -71.84901 42.3...       152\n",
       "3  LINESTRING (-57.63000 40.52939, -57.54303 40.5...       367\n",
       "4  LINESTRING (-27.86500 29.73958, -27.81249 29.7...       230"
      ]
     },
     "execution_count": 49,
     "metadata": {},
     "output_type": "execute_result"
    }
   ],
   "source": [
    "#This is our linestring\n",
    "sql = \"\"\"\n",
    "SELECT\n",
    "    sd.geom::geography AS geo,\n",
    "    ST_NPoints(sd.geom) AS np_after\n",
    "FROM ST_GeogFromText(\n",
    "    'LINESTRING(-117.16 32.72,-71.06 42.35,3.3974 6.449,120.96 23.70)'\n",
    ") AS geog,\n",
    "  LATERAL ST_Subdivide( ST_Segmentize(geog,10000)::geometry,\n",
    "                  3585/8) AS sd(geom);\n",
    "\"\"\"\n",
    "\n",
    "example_11_3_1_2 = gpd.GeoDataFrame.from_postgis(sql=sql, con=engine, geom_col=\"geo\") #Note change of geom_col!\n",
    "example_11_3_1_2.head()"
   ]
  },
  {
   "cell_type": "code",
   "execution_count": 50,
   "id": "bronze-democracy",
   "metadata": {},
   "outputs": [
    {
     "data": {
      "text/plain": [
       "<matplotlib.axes._subplots.AxesSubplot at 0x7ff320751ed0>"
      ]
     },
     "execution_count": 50,
     "metadata": {},
     "output_type": "execute_result"
    },
    {
     "data": {
      "image/png": "[encoded data removed]",
      "text/plain": [
       "<Figure size 432x288 with 1 Axes>"
      ]
     },
     "metadata": {
      "needs_background": "light"
     },
     "output_type": "display_data"
    }
   ],
   "source": [
    "example_11_3_1_2.plot()"
   ]
  },
  {
   "cell_type": "markdown",
   "id": "absent-maryland",
   "metadata": {},
   "source": [
    "# Scaling\n",
    "Textbook Chapter/Section: 11.4.2 \\\n",
    "Textbook Start Page: 337\n",
    "\n",
    "The scaling family of functions comes in four overloads, one for 2D `ST_Scale(geometry, xfactor, yfactor)`, one for 3D `ST_Scale(geometry, xfactor, yfactor, zfactor)`, one for any geometry dimension but will scales the coordinates based on a factor specified as a point `ST_Scale(geometry, factor)`, and the newest addition introduced in PostGIS 2.5 is a version that will scale same amount but about a specfied point `ST_Scale(geom, factor, geometry origin)`. (http://postgis.net/docs/ST_Scale.html).\n",
    "\n",
    "Scaling takes a coordinate and multiplies it by the factor parameters. If you pass in a factor between 1 and -1, you shrink the geometry. If you pass in negative factors, the geometry will flip in addition to scaling. Below shows an example of scaling a hexagon."
   ]
  },
  {
   "cell_type": "code",
   "execution_count": 68,
   "id": "sunrise-opposition",
   "metadata": {},
   "outputs": [
    {
     "data": {
      "text/html": [
       "<div>\n",
       "<style scoped>\n",
       "    .dataframe tbody tr th:only-of-type {\n",
       "        vertical-align: middle;\n",
       "    }\n",
       "\n",
       "    .dataframe tbody tr th {\n",
       "        vertical-align: top;\n",
       "    }\n",
       "\n",
       "    .dataframe thead th {\n",
       "        text-align: right;\n",
       "    }\n",
       "</style>\n",
       "<table border=\"1\" class=\"dataframe\">\n",
       "  <thead>\n",
       "    <tr style=\"text-align: right;\">\n",
       "      <th></th>\n",
       "      <th>xfactor</th>\n",
       "      <th>yfactor</th>\n",
       "      <th>zfactor</th>\n",
       "      <th>geom</th>\n",
       "      <th>scaled_geometry</th>\n",
       "      <th>scaled_using_pfactor</th>\n",
       "    </tr>\n",
       "  </thead>\n",
       "  <tbody>\n",
       "    <tr>\n",
       "      <th>0</th>\n",
       "      <td>0.5</td>\n",
       "      <td>0.5</td>\n",
       "      <td>0.0</td>\n",
       "      <td>POLYGON ((0.000 0.000, 64.000 64.000, 64.000 1...</td>\n",
       "      <td>0103000000010000000700000000000000000000000000...</td>\n",
       "      <td>0103000000010000000700000000000000000000000000...</td>\n",
       "    </tr>\n",
       "    <tr>\n",
       "      <th>1</th>\n",
       "      <td>1.0</td>\n",
       "      <td>0.5</td>\n",
       "      <td>0.0</td>\n",
       "      <td>POLYGON ((0.000 0.000, 64.000 64.000, 64.000 1...</td>\n",
       "      <td>0103000000010000000700000000000000000000000000...</td>\n",
       "      <td>0103000000010000000700000000000000000000000000...</td>\n",
       "    </tr>\n",
       "    <tr>\n",
       "      <th>2</th>\n",
       "      <td>1.5</td>\n",
       "      <td>0.5</td>\n",
       "      <td>0.0</td>\n",
       "      <td>POLYGON ((0.000 0.000, 64.000 64.000, 64.000 1...</td>\n",
       "      <td>0103000000010000000700000000000000000000000000...</td>\n",
       "      <td>0103000000010000000700000000000000000000000000...</td>\n",
       "    </tr>\n",
       "    <tr>\n",
       "      <th>3</th>\n",
       "      <td>2.0</td>\n",
       "      <td>0.5</td>\n",
       "      <td>0.0</td>\n",
       "      <td>POLYGON ((0.000 0.000, 64.000 64.000, 64.000 1...</td>\n",
       "      <td>0103000000010000000700000000000000000000000000...</td>\n",
       "      <td>0103000000010000000700000000000000000000000000...</td>\n",
       "    </tr>\n",
       "    <tr>\n",
       "      <th>4</th>\n",
       "      <td>0.5</td>\n",
       "      <td>0.5</td>\n",
       "      <td>0.5</td>\n",
       "      <td>POLYGON ((0.000 0.000, 64.000 64.000, 64.000 1...</td>\n",
       "      <td>0103000000010000000700000000000000000000000000...</td>\n",
       "      <td>0103000000010000000700000000000000000000000000...</td>\n",
       "    </tr>\n",
       "  </tbody>\n",
       "</table>\n",
       "</div>"
      ],
      "text/plain": [
       "   xfactor  yfactor  zfactor  \\\n",
       "0      0.5      0.5      0.0   \n",
       "1      1.0      0.5      0.0   \n",
       "2      1.5      0.5      0.0   \n",
       "3      2.0      0.5      0.0   \n",
       "4      0.5      0.5      0.5   \n",
       "\n",
       "                                                geom  \\\n",
       "0  POLYGON ((0.000 0.000, 64.000 64.000, 64.000 1...   \n",
       "1  POLYGON ((0.000 0.000, 64.000 64.000, 64.000 1...   \n",
       "2  POLYGON ((0.000 0.000, 64.000 64.000, 64.000 1...   \n",
       "3  POLYGON ((0.000 0.000, 64.000 64.000, 64.000 1...   \n",
       "4  POLYGON ((0.000 0.000, 64.000 64.000, 64.000 1...   \n",
       "\n",
       "                                     scaled_geometry  \\\n",
       "0  0103000000010000000700000000000000000000000000...   \n",
       "1  0103000000010000000700000000000000000000000000...   \n",
       "2  0103000000010000000700000000000000000000000000...   \n",
       "3  0103000000010000000700000000000000000000000000...   \n",
       "4  0103000000010000000700000000000000000000000000...   \n",
       "\n",
       "                                scaled_using_pfactor  \n",
       "0  0103000000010000000700000000000000000000000000...  \n",
       "1  0103000000010000000700000000000000000000000000...  \n",
       "2  0103000000010000000700000000000000000000000000...  \n",
       "3  0103000000010000000700000000000000000000000000...  \n",
       "4  0103000000010000000700000000000000000000000000...  "
      ]
     },
     "execution_count": 68,
     "metadata": {},
     "output_type": "execute_result"
    }
   ],
   "source": [
    "sql = \"\"\"\n",
    "SELECT\n",
    "    xfactor, yfactor, zfactor, geom,                                                                  -- Scale in x and y direction\n",
    "    ST_Scale(hex.geom, xfactor, yfactor) AS scaled_geometry,                                          -- Scaling values\n",
    "    ST_Scale(hex.geom, ST_MakePoint(xfactor,yfactor, zfactor) ) AS scaled_using_pfactor               -- Scale using point factor\n",
    "FROM (\n",
    "        SELECT ST_GeomFromText(\n",
    "            'POLYGON((0 0,64 64,64 128,0 192, -64 128,-64 64,0 0))'\n",
    "        ) AS geom                                                                                     -- Original hexagon\n",
    "    ) AS hex\n",
    "    CROSS JOIN\n",
    "    (SELECT x*0.5 AS xfactor FROM generate_series(1,4) AS x) AS xf\n",
    "    CROSS JOIN\n",
    "    (SELECT y*0.5 AS yfactor FROM generate_series(1,4) AS y) AS yf\n",
    "    CROSS JOIN\n",
    "    (SELECT z*0.5 AS zfactor FROM generate_series(0,1) AS z) AS zf;\n",
    "\"\"\"\n",
    "hexagon_orig = gpd.GeoDataFrame.from_postgis(sql=sql, con=engine, geom_col=\"geom\") #Note change of geom_col!\n",
    "hexagon_orig.head()"
   ]
  },
  {
   "cell_type": "code",
   "execution_count": 69,
   "id": "electrical-rubber",
   "metadata": {},
   "outputs": [
    {
     "data": {
      "text/plain": [
       "<matplotlib.axes._subplots.AxesSubplot at 0x7ff321226cd0>"
      ]
     },
     "execution_count": 69,
     "metadata": {},
     "output_type": "execute_result"
    },
    {
     "data": {
      "image/png": "[encoded data removed]",
      "text/plain": [
       "<Figure size 432x288 with 1 Axes>"
      ]
     },
     "metadata": {
      "needs_background": "light"
     },
     "output_type": "display_data"
    }
   ],
   "source": [
    "#Original Hexagon\n",
    "hexagon_orig.plot()"
   ]
  },
  {
   "cell_type": "code",
   "execution_count": 70,
   "id": "valid-recipient",
   "metadata": {},
   "outputs": [
    {
     "data": {
      "text/plain": [
       "<matplotlib.axes._subplots.AxesSubplot at 0x7ff32162c8d0>"
      ]
     },
     "execution_count": 70,
     "metadata": {},
     "output_type": "execute_result"
    },
    {
     "data": {
      "image/png": "[encoded data removed]",
      "text/plain": [
       "<Figure size 432x288 with 1 Axes>"
      ]
     },
     "metadata": {
      "needs_background": "light"
     },
     "output_type": "display_data"
    }
   ],
   "source": [
    "#Scaled Hexagon\n",
    "hexagon_scaled = gpd.GeoDataFrame.from_postgis(sql=sql, con=engine, geom_col=\"scaled_geometry\") #Note change of geom_col!\n",
    "hexagon_scaled.plot()"
   ]
  },
  {
   "cell_type": "code",
   "execution_count": 71,
   "id": "linear-newton",
   "metadata": {},
   "outputs": [
    {
     "data": {
      "text/plain": [
       "<matplotlib.axes._subplots.AxesSubplot at 0x7ff3225476d0>"
      ]
     },
     "execution_count": 71,
     "metadata": {},
     "output_type": "execute_result"
    },
    {
     "data": {
      "image/png": "[encoded data removed]",
      "text/plain": [
       "<Figure size 432x288 with 1 Axes>"
      ]
     },
     "metadata": {
      "needs_background": "light"
     },
     "output_type": "display_data"
    }
   ],
   "source": [
    "#Scaled Hexagon Point Factor\n",
    "hexagon_point = gpd.GeoDataFrame.from_postgis(sql=sql, con=engine, geom_col=\"scaled_using_pfactor\") #Note change of geom_col!\n",
    "hexagon_point.plot()"
   ]
  },
  {
   "cell_type": "markdown",
   "id": "possible-soviet",
   "metadata": {},
   "source": [
    "You start with a hexagonal polygon #1 and shrink and expand the geometry in the X and Y directions from 50% of its size to twice its size by using a cross join that generates numbers from 0 to 2 in X and 0 to 2 in Y, incrementing .5 for each step #2. The results are shown below:\n",
    "\n",
    "![Image 7](./images/image_7.png)\n",
    "\n",
    "\n",
    "\n",
    "The scaling multiplies the coordinates. Because the hexagon starts at the origin, all scaled geometries still have their bases at the origin. Normally when you scale, you want to keep the centroid constant. See below for an exampe:"
   ]
  },
  {
   "cell_type": "code",
   "execution_count": 72,
   "id": "steady-frame",
   "metadata": {},
   "outputs": [
    {
     "data": {
      "text/plain": [
       "<matplotlib.axes._subplots.AxesSubplot at 0x7ff3225fb0d0>"
      ]
     },
     "execution_count": 72,
     "metadata": {},
     "output_type": "execute_result"
    },
    {
     "data": {
      "image/png": "[encoded data removed]",
      "text/plain": [
       "<Figure size 432x288 with 1 Axes>"
      ]
     },
     "metadata": {
      "needs_background": "light"
     },
     "output_type": "display_data"
    }
   ],
   "source": [
    "sql = \"\"\"\n",
    "SELECT xfactor, yfactor,\n",
    "        ST_Scale(hex.geom, ST_MakePoint(xfactor, yfactor), ST_Centroid(hex.geom) )\n",
    "        AS scaled_geometry\n",
    "FROM (\n",
    "        SELECT ST_GeomFromText(\n",
    "            'POLYGON((0 0,64 64,64 128,0 192,-64 128, -64 64,0 0))'\n",
    "        ) AS geom\n",
    "    ) AS hex\n",
    "    CROSS JOIN\n",
    "    (SELECT x*0.5 AS xfactor FROM generate_series(1,4) AS x) AS xf\n",
    "    CROSS JOIN\n",
    "    (SELECT y*0.5 AS yfactor FROM generate_series(1,4) AS y) AS yf;\n",
    "\"\"\"\n",
    "centroid = gpd.GeoDataFrame.from_postgis(sql=sql, con=engine, geom_col=\"scaled_geometry\") #Note change of geom_col!\n",
    "centroid.plot()"
   ]
  },
  {
   "cell_type": "markdown",
   "id": "annual-talent",
   "metadata": {},
   "source": [
    "Here you scale a hexagon from half to twice its size in the X and Y directions about the centroid so the centroid remains unaltered. See below:\n",
    "\n",
    "![Image 8](./images/image_8.png)"
   ]
  },
  {
   "cell_type": "markdown",
   "id": "narrative-moore",
   "metadata": {},
   "source": [
    "# Rotating\n",
    "Textbook Chapter/Section: 11.4.3 \\\n",
    "Textbook Start Page: 340\n",
    "\n",
    "`ST_RotateX`, `ST_RotateY`, `ST_RotateZ`, and `ST_Rotate` rotate a geometry about the `X`, `Y`, or `Z` axis in radian units. `ST_Rotate` and `ST_RotateZ` are the same because the default axis of rotation is `Z`. `ST_RotateX`, `ST_RotateY`, `ST_RotateZ`, and `ST_Rotate` rotate a geometry about the `X`, `Y`, or `Z` axis in radian units. `ST_Rotate` and `ST_RotateZ` are the same because the default axis of rotation is `Z`.\n",
    "\n",
    "These functions are rarely used in isolation because their default behavior is to rotate the geometry about the `(0,0)` origin rather than about the centroid. You can pass in an optional point argument called `pointOrigin`. When this argument is specified, rotation is about that point; otherwise, rotation is about the origin.\n",
    "\n",
    "The following listing rotates a hexagon about its centroid in increments of 45 degrees."
   ]
  },
  {
   "cell_type": "code",
   "execution_count": 78,
   "id": "hollywood-container",
   "metadata": {},
   "outputs": [
    {
     "data": {
      "text/plain": [
       "<matplotlib.axes._subplots.AxesSubplot at 0x7ff32246c650>"
      ]
     },
     "execution_count": 78,
     "metadata": {},
     "output_type": "execute_result"
    },
    {
     "data": {
      "image/png": "[encoded data removed]",
      "text/plain": [
       "<Figure size 432x288 with 1 Axes>"
      ]
     },
     "metadata": {
      "needs_background": "light"
     },
     "output_type": "display_data"
    }
   ],
   "source": [
    "#This is our original hexagon\n",
    "sql = \"\"\"\n",
    "SELECT\n",
    "    hex.geom as orig_geom,\n",
    "    rotrad/pi()*180 AS deg,\n",
    "    ST_Rotate(hex.geom,rotrad,\n",
    "    ST_Centroid(hex.geom)) AS rotated_geometry\n",
    "FROM (\n",
    "        SELECT ST_GeomFromText(\n",
    "            'POLYGON((0 0,64 64,64 128,0 192,-64 128,-64 64,0 0))'\n",
    "        ) AS geom\n",
    "    ) AS hex\n",
    "CROSS JOIN (\n",
    "        SELECT 2*pi()*x*45.0/360 AS rotrad\n",
    "            FROM generate_series(0,6) AS x\n",
    ") AS xf;\n",
    "\"\"\"\n",
    "orig_item = gpd.GeoDataFrame.from_postgis(sql=sql, con=engine, geom_col=\"orig_geom\") #Note change of geom_col!\n",
    "orig_item.plot()"
   ]
  },
  {
   "cell_type": "code",
   "execution_count": 80,
   "id": "military-retro",
   "metadata": {},
   "outputs": [
    {
     "data": {
      "text/plain": [
       "<matplotlib.axes._subplots.AxesSubplot at 0x7ff32260e590>"
      ]
     },
     "execution_count": 80,
     "metadata": {},
     "output_type": "execute_result"
    },
    {
     "data": {
      "image/png": "[encoded data removed]",
      "text/plain": [
       "<Figure size 432x288 with 1 Axes>"
      ]
     },
     "metadata": {
      "needs_background": "light"
     },
     "output_type": "display_data"
    }
   ],
   "source": [
    "rotate = gpd.GeoDataFrame.from_postgis(sql=sql, con=engine, geom_col=\"rotated_geometry\") #Note change of geom_col!\n",
    "rotate.plot()"
   ]
  },
  {
   "cell_type": "markdown",
   "id": "existing-bradley",
   "metadata": {},
   "source": [
    "The above plot looks like a big blob...here is a better representation:\n",
    "\n",
    "![Image 9](./images/image_9.png)"
   ]
  },
  {
   "cell_type": "code",
   "execution_count": null,
   "id": "expired-eligibility",
   "metadata": {},
   "outputs": [],
   "source": []
  }
 ],
 "metadata": {
  "kernelspec": {
   "display_name": "reeu2021",
   "language": "python",
   "name": "tdm-reeu2021"
  },
  "language_info": {
   "codemirror_mode": {
    "name": "ipython",
    "version": 3
   },
   "file_extension": ".py",
   "mimetype": "text/x-python",
   "name": "python",
   "nbconvert_exporter": "python",
   "pygments_lexer": "ipython3",
   "version": "3.8.5"
  }
 },
 "nbformat": 4,
 "nbformat_minor": 5
}
