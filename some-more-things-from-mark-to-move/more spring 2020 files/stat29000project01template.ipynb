{
 "cells": [
  {
   "cell_type": "markdown",
   "metadata": {},
   "source": [
    "# Project 1 Solutions\n",
    "by Firstname Lastname"
   ]
  },
  {
   "cell_type": "markdown",
   "metadata": {},
   "source": [
    "Peer Collaborators (if any) and nature of the collaboration ..."
   ]
  },
  {
   "cell_type": "markdown",
   "metadata": {},
   "source": [
    "TA help sought (if any) ..."
   ]
  },
  {
   "cell_type": "markdown",
   "metadata": {},
   "source": [
    "Online resources used (if any) and weblink for location of resources ..."
   ]
  },
  {
   "cell_type": "markdown",
   "metadata": {},
   "source": [
    "## Question 1"
   ]
  },
  {
   "cell_type": "code",
   "execution_count": null,
   "metadata": {},
   "outputs": [],
   "source": [
    "# 1a (2 pts)\n",
    "# Comment about method of solution: ........\n",
    "Solution itself ... (put raw code here without hashtag)"
   ]
  },
  {
   "cell_type": "code",
   "execution_count": null,
   "metadata": {},
   "outputs": [],
   "source": [
    "# 1b (1 pt)\n",
    "# Comment about method of solution: ........\n",
    "Solution itself ... (put raw code here without hashtag)"
   ]
  },
  {
   "cell_type": "markdown",
   "metadata": {},
   "source": [
    "## Question 2"
   ]
  },
  {
   "cell_type": "code",
   "execution_count": null,
   "metadata": {},
   "outputs": [],
   "source": [
    "# 2a (1 pt)\n",
    "# Comment about method of solution: ........\n",
    "Solution itself ... (put raw code here without hashtag)"
   ]
  },
  {
   "cell_type": "code",
   "execution_count": null,
   "metadata": {},
   "outputs": [],
   "source": [
    "# 2b (1 pt)\n",
    "# Comment about method of solution: ........\n",
    "Solution itself ... (put raw code here without hashtag)"
   ]
  },
  {
   "cell_type": "code",
   "execution_count": null,
   "metadata": {},
   "outputs": [],
   "source": [
    "# 2c (1 pt)\n",
    "# Comment about method of solution: ........\n",
    "Solution itself ... (put raw code here without hashtag)"
   ]
  },
  {
   "cell_type": "code",
   "execution_count": null,
   "metadata": {},
   "outputs": [],
   "source": [
    "# 2d (1 pt)\n",
    "# Comment about method of solution: ........\n",
    "Solution itself ... (put raw code here without hashtag)"
   ]
  },
  {
   "cell_type": "code",
   "execution_count": null,
   "metadata": {},
   "outputs": [],
   "source": [
    "# 2e (optional)\n",
    "# Comment about method of solution: ........\n",
    "Solution itself ... (put raw code here without hashtag)"
   ]
  },
  {
   "cell_type": "markdown",
   "metadata": {},
   "source": [
    "## Question 3"
   ]
  },
  {
   "cell_type": "code",
   "execution_count": null,
   "metadata": {},
   "outputs": [],
   "source": [
    "# 3a (1 pt)\n",
    "# Comment about method of solution: ........\n",
    "Solution itself ... (put raw code here without hashtag)"
   ]
  },
  {
   "cell_type": "code",
   "execution_count": null,
   "metadata": {},
   "outputs": [],
   "source": [
    "# 3b (1 pt)\n",
    "# Comment about method of solution: ........\n",
    "Solution itself ... (put raw code here without hashtag)"
   ]
  },
  {
   "cell_type": "code",
   "execution_count": null,
   "metadata": {},
   "outputs": [],
   "source": [
    "# 3c (1 pt)\n",
    "# Comment about method of solution: ........\n",
    "Solution itself ... (put raw code here without hashtag)"
   ]
  }
 ],
 "metadata": {
  "kernelspec": {
   "display_name": "R",
   "language": "R",
   "name": "ir"
  },
  "language_info": {
   "codemirror_mode": "r",
   "file_extension": ".r",
   "mimetype": "text/x-r-source",
   "name": "R",
   "pygments_lexer": "r",
   "version": "3.6.2"
  }
 },
 "nbformat": 4,
 "nbformat_minor": 2
}
