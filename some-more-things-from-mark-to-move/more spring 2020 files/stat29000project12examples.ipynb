{
 "cells": [
  {
   "cell_type": "markdown",
   "metadata": {},
   "source": [
    "# STAT 29000 Project 12 Examples"
   ]
  },
  {
   "cell_type": "markdown",
   "metadata": {},
   "source": [
    "Here are a list of some good resources to learn about python and classes:\n",
    "\n",
    "- https://realpython.com/python3-object-oriented-programming/\n",
    "- https://www.w3schools.com/python/python_classes.asp\n",
    "- https://jeffknupp.com/blog/2014/06/18/improve-your-python-python-classes-and-object-oriented-programming/\n",
    "- https://realpython.com/instance-class-and-static-methods-demystified/"
   ]
  },
  {
   "cell_type": "markdown",
   "metadata": {},
   "source": [
    "## Some terminology"
   ]
  },
  {
   "cell_type": "markdown",
   "metadata": {},
   "source": [
    "We are going to use the following code (a very much overused example, but it is overused for a reason) to help us define some terminology:"
   ]
  },
  {
   "cell_type": "code",
   "execution_count": 58,
   "metadata": {},
   "outputs": [],
   "source": [
    "import math\n",
    "\n",
    "class Pet:\n",
    "    \n",
    "    domesticated = True\n",
    "    \n",
    "    def __init__(self, name, age, gender, height, weight, is_fixed=False):\n",
    "        self.name = name\n",
    "        self.age = age\n",
    "        self.gender = gender\n",
    "        self.height = height\n",
    "        self.weight = weight\n",
    "        self.is_fixed = is_fixed\n",
    "        \n",
    "    def sound(self):\n",
    "        return(f'Hello there, my name is {self.name}, and I\\'m a pet.')\n",
    "    \n",
    "    @staticmethod\n",
    "    def calculate_bmi(height, weight):\n",
    "        return(weight / math.pow(height, 2) * 703)\n",
    "    \n",
    "    def is_overweight(self):\n",
    "        return(self.calculate_bmi(self.height, self.weight) > 24)\n",
    "        \n",
    "    @classmethod\n",
    "    def from_dict(cls, d):\n",
    "        \n",
    "        print(\"In from_dict, and cls is:\", cls)\n",
    "        \n",
    "        is_fixed = False\n",
    "        if d.get(\"name\"):\n",
    "            name = d.get(\"name\")\n",
    "        if d.get(\"age\"):\n",
    "            age = d.get(\"age\")\n",
    "        if d.get(\"gender\"):\n",
    "            gender = d.get(\"gender\")\n",
    "        if d.get(\"height\"):\n",
    "            height = d.get(\"height\")\n",
    "        if d.get(\"weight\"):\n",
    "            weight = d.get(\"weight\")\n",
    "        if d.get(\"is_fixed\"):\n",
    "            is_fixed = d.get(\"is_fixed\")\n",
    "            \n",
    "        return cls(name, age, gender, height, weight, is_fixed)\n",
    "    \n",
    "class Dog(Pet):\n",
    "    \n",
    "    def sound(self):\n",
    "        return(f'Ruff ruff!')"
   ]
  },
  {
   "cell_type": "markdown",
   "metadata": {},
   "source": [
    "**Pet** is a **class**. You can create an **instance** of a **Pet** **class**, or a **Pet** **object**, like this:"
   ]
  },
  {
   "cell_type": "code",
   "execution_count": 36,
   "metadata": {},
   "outputs": [],
   "source": [
    "my_pet = Pet(\"Ziva\", .25, \"Female\", .5, 10, True)\n",
    "\n",
    "# or\n",
    "my_pet = Pet(name=\"Ziva\", age=.25, gender=\"Female\", height=.5, weight=10, is_fixed=True)"
   ]
  },
  {
   "cell_type": "markdown",
   "metadata": {},
   "source": [
    "**age, name, gender, height, weight, is_fixed** are instance attributes. They can be accessed via an **instance** of the **Pet** **class** using the \".\" syntax:"
   ]
  },
  {
   "cell_type": "code",
   "execution_count": 38,
   "metadata": {},
   "outputs": [
    {
     "name": "stdout",
     "output_type": "stream",
     "text": [
      "Ziva\n",
      "0.25\n"
     ]
    }
   ],
   "source": [
    "print(my_pet.name)\n",
    "print(my_pet.age)"
   ]
  },
  {
   "cell_type": "markdown",
   "metadata": {},
   "source": [
    "**domesticated** is a **class attribute**. It can be accessed via an **instance** of the **class** or from the **class** itself:"
   ]
  },
  {
   "cell_type": "code",
   "execution_count": 40,
   "metadata": {},
   "outputs": [
    {
     "name": "stdout",
     "output_type": "stream",
     "text": [
      "True\n",
      "True\n"
     ]
    }
   ],
   "source": [
    "print(my_pet.domesticated) # via instance of the Pet class\n",
    "print(Pet.domesticated) # via the class itself"
   ]
  },
  {
   "cell_type": "markdown",
   "metadata": {},
   "source": [
    "**sound** and **is_overweight** are **methods** of the **Pet** **class**. You can call the **methods** using the \".\" syntax. The first argument to the methods are `self`. `self` is simply `my_pet` in this case. These methods accept `self` so that it can modify the instance's state or instance attributes. When a method is called using the \".\" syntax, `self` is automatically passed as the first argument.:"
   ]
  },
  {
   "cell_type": "code",
   "execution_count": 43,
   "metadata": {},
   "outputs": [
    {
     "name": "stdout",
     "output_type": "stream",
     "text": [
      "Hello there, my name is Ziva, and I'm a pet.\n",
      "True\n"
     ]
    }
   ],
   "source": [
    "print(my_pet.sound()) # What a weird sound for a Pet to make\n",
    "print(my_pet.is_overweight()) # oh no, we need more walks"
   ]
  },
  {
   "cell_type": "markdown",
   "metadata": {},
   "source": [
    "**calculate_bmi** is a **static method** of the **Pet** **class**. Static methods are methods that don't take either `self` or the class as arguments. A static method does not modify individual object's states (like `my_pet`) or the class's state (like `Pet.domesticated`). In addition, when a static method is called using the \".\" syntax, `self` is *not* passed as the first argument. Generally, a static method may be appropriate if the method is loosely coupled to the object. "
   ]
  },
  {
   "cell_type": "code",
   "execution_count": 46,
   "metadata": {},
   "outputs": [
    {
     "name": "stdout",
     "output_type": "stream",
     "text": [
      "33.744\n",
      "33.744\n"
     ]
    }
   ],
   "source": [
    "print(Pet.calculate_bmi(50, 120))\n",
    "print(my_pet.calculate_bmi(50, 120))"
   ]
  },
  {
   "cell_type": "code",
   "execution_count": 47,
   "metadata": {},
   "outputs": [
    {
     "ename": "TypeError",
     "evalue": "calculate_bmi() missing 2 required positional arguments: 'height' and 'weight'",
     "output_type": "error",
     "traceback": [
      "\u001b[0;31m---------------------------------------------------------------------------\u001b[0m",
      "\u001b[0;31mTypeError\u001b[0m                                 Traceback (most recent call last)",
      "\u001b[0;32m<ipython-input-47-ff6784889423>\u001b[0m in \u001b[0;36m<module>\u001b[0;34m\u001b[0m\n\u001b[1;32m      1\u001b[0m \u001b[0;31m# this will NOT work, calculate_bmi is not passed `self`\u001b[0m\u001b[0;34m\u001b[0m\u001b[0;34m\u001b[0m\u001b[0m\n\u001b[0;32m----> 2\u001b[0;31m \u001b[0mprint\u001b[0m\u001b[0;34m(\u001b[0m\u001b[0mmy_pet\u001b[0m\u001b[0;34m.\u001b[0m\u001b[0mcalculate_bmi\u001b[0m\u001b[0;34m(\u001b[0m\u001b[0;34m)\u001b[0m\u001b[0;34m)\u001b[0m\u001b[0;34m\u001b[0m\u001b[0m\n\u001b[0m",
      "\u001b[0;31mTypeError\u001b[0m: calculate_bmi() missing 2 required positional arguments: 'height' and 'weight'"
     ]
    }
   ],
   "source": [
    "# this will NOT work, calculate_bmi is not passed `self`\n",
    "print(my_pet.calculate_bmi())"
   ]
  },
  {
   "cell_type": "markdown",
   "metadata": {},
   "source": [
    "**from_dict** is a **class method** of the **Pet class**. Similarly to how regular methods accept `self` as the first argument, and are automatically passed `self` as the first argument when called, **class method**'s accept `cls` as the first argument, and are automatically passed `cls` as the first argument when called. `cls` is simply the class, which is **Pet** in this case."
   ]
  },
  {
   "cell_type": "code",
   "execution_count": 53,
   "metadata": {},
   "outputs": [
    {
     "name": "stdout",
     "output_type": "stream",
     "text": [
      "<class '__main__.Pet'>\n",
      "In from_dict, and cls is: <class '__main__.Pet'>\n",
      "In from_dict, and cls is: <class '__main__.Pet'>\n"
     ]
    }
   ],
   "source": [
    "d = {\"name\": \"Ziva\", \"age\": .25, \"gender\": \"Female\", \"height\": .5, \"weight\": 10, \"is_fixed\": True}\n",
    "\n",
    "# Pet and cls are the same:\n",
    "print(Pet)\n",
    "Pet.from_dict(d)\n",
    "\n",
    "# Our from_dict class method is used to create a pet from a dict rather than the normal method:\n",
    "my_pet = Pet(\"Ziva\", .25, \"Female\", .5, 10, True)\n",
    "\n",
    "# is the same as:\n",
    "my_pet = Pet.from_dict(d)"
   ]
  },
  {
   "cell_type": "markdown",
   "metadata": {},
   "source": [
    "**Dog** is a **class**. **Pet** is a **parent class** because **Dog** inherits from it. **Dog** is a **child class** because it inherits from **Pet**. You can create an **instance** of a **Dog** **class**, like this:"
   ]
  },
  {
   "cell_type": "code",
   "execution_count": 61,
   "metadata": {},
   "outputs": [
    {
     "name": "stdout",
     "output_type": "stream",
     "text": [
      "Hello there, my name is Ziva, and I'm a pet.\n",
      "Ruff ruff!\n",
      "True\n",
      "True\n"
     ]
    }
   ],
   "source": [
    "my_dog = Dog(\"Ziva\", .25, \"Female\", .5, 10, True)\n",
    "\n",
    "# this is the sound of a pet\n",
    "print(my_pet.sound())\n",
    "\n",
    "# but a dog, a dog sounds like this:\n",
    "print(my_dog.sound())\n",
    "\n",
    "# We said our dog inherits from the pet, what does this mean?\n",
    "# It means we can do this with our Dog, even though we did\n",
    "# not explictly define this function or the class attribute for \n",
    "# Dog. Dog inherits this from its parent, Pet. Very cool!\n",
    "print(my_dog.is_overweight())\n",
    "print(my_dog.domesticated)"
   ]
  },
  {
   "cell_type": "markdown",
   "metadata": {},
   "source": [
    "What's up with this funky `__init__` function? This is called a **dunder method**. Dunder methods are a special set of predefined methods that you can use to make your classes even better. They all start and end with double underscores. Note that although they look odd, they are just functions and can be called just like any other function. We will explore **dunder methods** as a part of this project! If you are antsy to read more before doing, [here](https://dbader.org/blog/python-dunder-methods) is an article to read.\n",
    "\n",
    "`__init__` is the special constructor dunder method. Just like regular methods, the first argument is `self`, and each following argument are the arguments you would actually feed the class in order to create the object. For example:"
   ]
  },
  {
   "cell_type": "code",
   "execution_count": null,
   "metadata": {},
   "outputs": [],
   "source": [
    "my_dog = Dog(\"Ziva\", .25, \"Female\", .5, 10, True)"
   ]
  },
  {
   "cell_type": "markdown",
   "metadata": {},
   "source": [
    "`my_dog` is a **Dog** and a **Dog** inherits the `__init__` method of the **Pet** class. "
   ]
  },
  {
   "cell_type": "code",
   "execution_count": null,
   "metadata": {},
   "outputs": [],
   "source": [
    "def __init__(self, name, age, gender, height, weight, is_fixed=False):\n",
    "    self.name = name\n",
    "    self.age = age\n",
    "    self.gender = gender\n",
    "    self.height = height\n",
    "    self.weight = weight\n",
    "    self.is_fixed = is_fixed"
   ]
  },
  {
   "cell_type": "markdown",
   "metadata": {},
   "source": [
    "As you can see, this method is very boring. It takes the first argument, `self`, and sets its instance attributes: name, age, gender, height, weight, and is_fixed to the provided values. "
   ]
  },
  {
   "cell_type": "code",
   "execution_count": 62,
   "metadata": {},
   "outputs": [
    {
     "name": "stdout",
     "output_type": "stream",
     "text": [
      "0.25\n",
      "Ziva\n"
     ]
    }
   ],
   "source": [
    "my_dog = Dog(\"Ziva\", .25, \"Female\", .5, 10, True)\n",
    "\n",
    "# so this is what the inside of the `__init__` method looks like when\n",
    "# we make `my_dog`\n",
    "def __init__(self, name, age, gender, height, weight, is_fixed=False):\n",
    "    # self.name is None, name is \"Ziva\"\n",
    "    self.name = name\n",
    "    \n",
    "    # self.age is None, age is .25\n",
    "    self.age = age\n",
    "    \n",
    "    # self.gender is None, gender is \"Female\"\n",
    "    self.gender = gender\n",
    "    \n",
    "    # self.height is None, height is .5\n",
    "    self.height = height\n",
    "    \n",
    "    # self.weight is None, weight is 10\n",
    "    self.weight = weight\n",
    "    \n",
    "    # self.is_fixed is None, and is_fixed is True\n",
    "    self.is_fixed = is_fixed\n",
    "    \n",
    "# and now we can see that all the instance attributes: self.name, ..., self.is_fixed, have properly set values\n",
    "print(my_dog.age)\n",
    "print(my_dog.name)\n",
    "\n",
    "# if we didn't have the __init__ method, the result of the my_dog.age, and my_dog.name would be None"
   ]
  },
  {
   "cell_type": "markdown",
   "metadata": {},
   "source": [
    "Believe it or not, classes can inherit from mulitple parent classes, who can also be children of multiple parent classes. It doesn't take a lot to end up with an extremely confusing and hard to navigate code base. [Composition](https://en.wikipedia.org/wiki/Composition_over_inheritance) is another programming principle that has better flexibility and often ends up producing easier to maintain code."
   ]
  }
 ],
 "metadata": {
  "kernelspec": {
   "display_name": "Python 3",
   "language": "python",
   "name": "python3"
  },
  "language_info": {
   "codemirror_mode": {
    "name": "ipython",
    "version": 3
   },
   "file_extension": ".py",
   "mimetype": "text/x-python",
   "name": "python",
   "nbconvert_exporter": "python",
   "pygments_lexer": "ipython3",
   "version": "3.6.4"
  }
 },
 "nbformat": 4,
 "nbformat_minor": 4
}
