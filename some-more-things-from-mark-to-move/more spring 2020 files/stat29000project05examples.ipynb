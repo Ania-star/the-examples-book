{
 "cells": [
  {
   "cell_type": "markdown",
   "metadata": {},
   "source": [
    "# STAT29000 Project 5 Examples"
   ]
  },
  {
   "cell_type": "markdown",
   "metadata": {},
   "source": [
    "The only new topic introduced in this project is scripts. The following are links to resources to learn more about scripts. \n",
    "\n",
    "- https://realpython.com/python-main-function/\n",
    "- https://realpython.com/run-python-scripts/\n",
    "- https://www.tutorialspoint.com/python3/python_command_line_arguments.htm\n",
    "- https://www.pythonforbeginners.com/system/python-sys-argv\n",
    "- https://docs.python.org/3/howto/argparse.html\n",
    "\n",
    "Don't be intimidated by this project. It looks long, but often times a question part is just a small modification of the previous part. I'd highly recommend reading (or at least skimming) the resources above. They will help you get a better understanding and definitely help you with this project.\n",
    "\n",
    "Question 1 deals with writing a script and using `sys.argv` to handle arguments. Arguments are simply the text that occur after the command. For example, in `cp myfile.txt ~/superimportantproject/myfile2.txt`, `cp` is the command, and `myfile.txt` is the first arguments, and `~/superimportantproject/myfile2.txt` is the second argument.\n",
    "\n",
    "Question 2 deals with re-working the same script in Question 1. We make it more robust and use a package called `argparse` instead of `sys.argv`. You *definitely* want to read [this](https://docs.python.org/3/howto/argparse.html) resource before/during solving this problem. It will provide you with everything you need to solve these problems.\n",
    "\n",
    "Question 3 brings our `media` package back into the picture. You'll have to set up our parser using `argparse` like in question 2. After that all you have to do is use and understand functions from the up-to-date `media` package, and one function from `sklearn`. The rest is provided for you!"
   ]
  }
 ],
 "metadata": {
  "kernelspec": {
   "display_name": "Python 3",
   "language": "python",
   "name": "python3"
  },
  "language_info": {
   "codemirror_mode": {
    "name": "ipython",
    "version": 3
   },
   "file_extension": ".py",
   "mimetype": "text/x-python",
   "name": "python",
   "nbconvert_exporter": "python",
   "pygments_lexer": "ipython3",
   "version": "3.8.0"
  }
 },
 "nbformat": 4,
 "nbformat_minor": 2
}
