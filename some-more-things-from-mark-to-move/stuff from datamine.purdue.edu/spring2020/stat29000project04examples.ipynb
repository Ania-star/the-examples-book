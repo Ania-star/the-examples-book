{
 "cells": [
  {
   "cell_type": "markdown",
   "metadata": {},
   "source": [
    "# STAT29000 Project 4 Examples"
   ]
  },
  {
   "cell_type": "code",
   "execution_count": 1,
   "metadata": {},
   "outputs": [
    {
     "name": "stdout",
     "output_type": "stream",
     "text": [
      "Successfully loaded the media library.\n",
      "\n",
      "    Return dataframe where all of the provided words \n",
      "    are found in the movie title in the pre-loaded movies \n",
      "    dataset. Case insensitive.\n",
      "    \n"
     ]
    }
   ],
   "source": [
    "# Important Note\n",
    "# You will need to make sure that the provided 'media' folder/package that was provided for you is \n",
    "# in the same location as this examples notebook.\n",
    "\n",
    "from media.rottentomatoes import datasets as ds\n",
    "from media.rottentomatoes.utilities import search\n",
    "\n",
    "print(search.__doc__)"
   ]
  },
  {
   "cell_type": "code",
   "execution_count": 4,
   "metadata": {},
   "outputs": [
    {
     "name": "stdout",
     "output_type": "stream",
     "text": [
      "['Cinemaphile.org', 'ComingSoon.net', 'Movies.com', 'TheMovieReport.com', 'rec.arts.movies.reviews', 'I.E. Weekly', 'MovieCrypt.com', 'jackiekcooper.com', 'smh.com.au', 'Movies.com']\n"
     ]
    }
   ],
   "source": [
    "# Lets write a function that takes a pandas Series and returns any potential websites in the Series\n",
    "# Lets say our method involves splitting a word up by \".\". Note that this isn't a good method.\n",
    "# We just want to demonstrate how functions can have functions.\n",
    "def get_websites(series):\n",
    "    \"\"\"\n",
    "    This is called a docstring. Its highly recommended that you write\n",
    "    docstrings for your functions to help describe what the function does. \n",
    "    \n",
    "    You can access docstrings of a function by print(function.__doc__).\n",
    "    \n",
    "    Sometimes docstrings are used to automatically create great documentation\n",
    "    websites. Take a look:\n",
    "    \n",
    "    https://github.com/scikit-learn/scikit-learn/blob/master/sklearn/feature_selection/_from_model.py\n",
    "    \n",
    "    and the associated documentation\n",
    "    \n",
    "    https://scikit-learn.org/stable/modules/generated/sklearn.feature_selection.SelectFromModel.html\n",
    "    \n",
    "    Google even published what it believes is the \"best\" docstring style is: \n",
    "    \n",
    "    https://google.github.io/styleguide/pyguide.html\n",
    "    \"\"\"\n",
    "    \n",
    "    # Sometimes an internal \"helper\" function can be useful and make a function easier to read\n",
    "    # ... I'm not claiming this is the case here, but it could be useful to see one in action\n",
    "    \n",
    "    # when a function starts with a single leading _, it is an \"internal use\" indicator,\n",
    "    # and if you import functions from a module using the *, these functions aren't imported.\n",
    "    def _my_helper_function(publication_name: str):\n",
    "        return publication_name.split(\".\")\n",
    "    \n",
    "    # here, is another use of the _ character. normally, if we are looping through a Pandas\n",
    "    # series using the iteritems() method, we get both an index AND the element. For example,\n",
    "    # the loops commented out below, don't ever use the index (idx). \n",
    "    \n",
    "#     for idx, item in series.iteritems():\n",
    "#         our_list = _my_helper_function(item)\n",
    "#         if len(our_list) > 1:\n",
    "#             print(item)\n",
    "            \n",
    "    # Here, the _ behaves just like (idx) does in the code above (you can even print(_) \n",
    "    # in the loop if you wanted to). The only difference is it is a clear indicator\n",
    "    # to the user that whatever is usually there, we don't really use.\n",
    "    list_to_return = []\n",
    "    for _, item in series.iteritems():\n",
    "        our_list = _my_helper_function(item)\n",
    "        if len(our_list) > 1:\n",
    "            list_to_return.append(item)\n",
    "    \n",
    "    return list_to_return\n",
    "\n",
    "websites = get_websites(ds.reviews['critic_publication'])\n",
    "print(websites[:10])"
   ]
  },
  {
   "cell_type": "code",
   "execution_count": 5,
   "metadata": {},
   "outputs": [
    {
     "name": "stdout",
     "output_type": "stream",
     "text": [
      "!\"#$%&'()*+,-./:;<=>?@[\\]^_`{|}~\n",
      "['!', '\"', '#', '$', '%', '&', \"'\", '(', ')', '*', '+', ',', '-', '.', '/', ':', ';', '<', '=', '>', '?', '@', '[', '\\\\', ']', '^', '_', '`', '{', '|', '}', '~']\n"
     ]
    }
   ],
   "source": [
    "import string\n",
    "\n",
    "# super easy way to get punctuation characters\n",
    "print(string.punctuation)\n",
    "\n",
    "# you can even do this\n",
    "print(list(string.punctuation))"
   ]
  },
  {
   "cell_type": "code",
   "execution_count": 21,
   "metadata": {},
   "outputs": [
    {
     "name": "stdout",
     "output_type": "stream",
     "text": [
      "[('9', '1'), ('9', '2'), ('9', '3')]\n",
      "[9, 18, 27]\n"
     ]
    }
   ],
   "source": [
    "# zip is a pretty useful function to learn\n",
    "# https://docs.python.org/3/library/functions.html#zip\n",
    "\n",
    "print(list(zip(list('999'), list('123'))))\n",
    "\n",
    "example = [int(nine)*int(ok) for nine, ok in zip(list('999'), list('123'))]\n",
    "\n",
    "print(example)"
   ]
  },
  {
   "cell_type": "code",
   "execution_count": 11,
   "metadata": {},
   "outputs": [
    {
     "name": "stdout",
     "output_type": "stream",
     "text": [
      "                                       rt_id  \\\n",
      "5240                             dirty_harry   \n",
      "5510  dumb_and_dumberer_when_harry_met_lloyd   \n",
      "\n",
      "                                  movie_title  \\\n",
      "5240                              Dirty Harry   \n",
      "5510  Dumb and Dumberer: When Harry Met Lloyd   \n",
      "\n",
      "                                             movie_info  \\\n",
      "5240  \"You've got to ask yourself a question: 'do I ...   \n",
      "5510  Set in 1986, when mentally challenged best fri...   \n",
      "\n",
      "                                      critics_consensus  \\\n",
      "5240  As tough and taciturn as its no-nonsense hero,...   \n",
      "5510  This lame prequel induces more groans than lau...   \n",
      "\n",
      "                                       poster_image_url rating  \\\n",
      "5240  https://resizing.flixster.com/PoID1a1hMYzCTrnc...      R   \n",
      "5510  https://resizing.flixster.com/VNT_d4bM66IkCo4N...  PG-13   \n",
      "\n",
      "                                    genre    directors  \\\n",
      "5240  Classics, Drama, Mystery & Suspense   Don Siegel   \n",
      "5510                               Comedy  Troy Miller   \n",
      "\n",
      "                                            writers  \\\n",
      "5240  Rita M. Fink, Harry Julian Fink, Dean Riesner   \n",
      "5510       Robert Brenner, Troy Miller, Brian Hartt   \n",
      "\n",
      "                                                   cast  ...  \\\n",
      "5240  Clint Eastwood, Andrew Robinson, Harry Guardin...  ...   \n",
      "5510  Eric Christian Olsen, Derek Richardson, Rachel...  ...   \n",
      "\n",
      "            studio_name tomatometer_status  tomatometer_rating  \\\n",
      "5240  Warner Home Video    Certified Fresh                  91   \n",
      "5510    New Line Cinema             Rotten                  10   \n",
      "\n",
      "     tomatometer_count audience_status  audience_rating  audience_count  \\\n",
      "5240                44         Upright             90.0         76705.0   \n",
      "5510               119         Spilled             23.0        258904.0   \n",
      "\n",
      "     audience_top_critics_count  audience_fresh_critics_count  \\\n",
      "5240                          6                            40   \n",
      "5510                         34                            12   \n",
      "\n",
      "      audience_rotten_critics_count  \n",
      "5240                              4  \n",
      "5510                            107  \n",
      "\n",
      "[2 rows x 23 columns]\n",
      "['Although Order of the Phoenix is not a great movie, it is a pretty good one, in part because it does not strain to overwhelm the audience with noise and sensation.', 'A sombre and at times curiously sober movie, handsomely designed as always, atmospherically lit and confidently performed.', \"If Yates and Goldenberg haven't given the story shape, they have given it pace - something missing from the bloated and (to my disenchanted eyes) dreary book: even if the moments don't always connect, few of them are dull.\", 'Saved by a wonderful performance from Imelda Staunton as sadistic teacher Dolores Umbridge, this pink-loving disciplinarian provides the best laughs, such as the plates on her wall adorned with moving cute kittens.', 'Mostly Hogwarts.', \"Harry's got quite a lot on his plate this time around and that's both the strength and weakness of Order of the Phoenix.\", 'On the screen, the stories, now in their fourth set of hands, feel uncomfortably fractured. Thank heavens for books.', 'Author J.K. Rowling clearly knew a totalitarian regime when she saw one, and never hesitated to call out the toadies and enablers along with her big baddie.', 'Director David Yates, the first Brit to helm the series, invests \"Order of the Phoenix\" with a very sinister tone from his opening frames...', \"Did I mention that, for all its portentousness, this is the best Harry Potter picture yet? In some ways, it improves on J.\\u2009K. Rowling's novel, which is punishingly protracted and builds to a climactic wand-off better seen than read.\"]\n",
      "Although Order of the Phoenix is not a great movie, it is a pretty good one, in part because it does not strain to overwhelm the audience with noise and sensation.\n"
     ]
    }
   ],
   "source": [
    "# here is an example using the `search` function that was provided to you\n",
    "from media.rottentomatoes.utilities import search\n",
    "\n",
    "print(search(\"harry\").head(2))\n",
    "\n",
    "# here is an example using the updated `get_reviews` function provided to you\n",
    "from media.rottentomatoes.reviews import get_reviews\n",
    "\n",
    "my_corpus, _ = get_reviews(\"harry_potter_and_the_order_of_the_phoenix\", 50)\n",
    "my_document = my_corpus[0]\n",
    "\n",
    "print(my_corpus[:10])\n",
    "print(my_document)"
   ]
  },
  {
   "cell_type": "code",
   "execution_count": 13,
   "metadata": {},
   "outputs": [
    {
     "name": "stdout",
     "output_type": "stream",
     "text": [
      "a\n",
      "B\n",
      "c\n",
      "D\n",
      "e\n",
      "F\n",
      "g\n",
      "H\n",
      "i\n",
      "J\n",
      "k\n",
      "L\n",
      "m\n",
      "N\n",
      "o\n",
      "P\n",
      "q\n",
      "R\n",
      "s\n",
      "T\n",
      "u\n",
      "V\n",
      "w\n",
      "X\n",
      "y\n",
      "Z\n",
      "a-b-c-d-e-f-g-h-i-j-k-l-m-n-o-p-q-r-s-t-u-v-w-x-y-z\n",
      "A-b-C-d-E-f-G-h-I-j-K-l-M-n-O-p-Q-r-S-t-U-v-W-x-Y-z\n"
     ]
    }
   ],
   "source": [
    "# Dont forget enumerate, a useful function.\n",
    "for index, value in enumerate(list(string.ascii_lowercase)):\n",
    "    if index % 2 == 0:\n",
    "        print(value)\n",
    "    else:\n",
    "        print(value.upper())\n",
    "        \n",
    "# Join is another function you should remember\n",
    "print('-'.join(string.ascii_lowercase))\n",
    "print('-'.join(tuple(letter.upper() if idx % 2 ==0 else letter.lower() for idx, letter in enumerate(string.ascii_lowercase))))"
   ]
  },
  {
   "cell_type": "code",
   "execution_count": 27,
   "metadata": {},
   "outputs": [
    {
     "name": "stdout",
     "output_type": "stream",
     "text": [
      "THIS IS AN EXAMPLE OF A DOCUMENT. BLAH BLAH BLAH\n",
      "this is an example of a document. blah blah blah\n",
      "['This', 'is', 'an', 'example', 'of', 'a', 'document.', 'blah', 'blah', 'blah']\n",
      "['This is an example ', ' a document. blah blah blah']\n",
      "3\n",
      "3\n",
      "['THIS', 'IS', 'AN', 'EXAMPLE', 'OF', 'A', 'DOCUMENT.', 'BLAH', 'BLAH', 'BLAH']\n"
     ]
    }
   ],
   "source": [
    "document = \"This is an example of a document. blah blah blah\"\n",
    "\n",
    "# here are some examples using popular string methods\n",
    "print(document.upper())\n",
    "print(document.lower())\n",
    "print(document.split())\n",
    "print(document.split(\"of\")) # you can split on anthing\n",
    "print(document.count(\"blah\"))\n",
    "\n",
    "# you can \"chain\" these methods too\n",
    "print(document.split().count(\"blah\"))\n",
    "print(document.upper().split())"
   ]
  }
 ],
 "metadata": {
  "kernelspec": {
   "display_name": "Python 3",
   "language": "python",
   "name": "python3"
  },
  "language_info": {
   "codemirror_mode": {
    "name": "ipython",
    "version": 3
   },
   "file_extension": ".py",
   "mimetype": "text/x-python",
   "name": "python",
   "nbconvert_exporter": "python",
   "pygments_lexer": "ipython3",
   "version": "3.6.4"
  }
 },
 "nbformat": 4,
 "nbformat_minor": 2
}
