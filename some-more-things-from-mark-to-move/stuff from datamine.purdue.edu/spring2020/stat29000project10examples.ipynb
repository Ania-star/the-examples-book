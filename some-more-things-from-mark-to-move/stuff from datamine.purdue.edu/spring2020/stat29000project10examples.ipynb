{
 "cells": [
  {
   "cell_type": "markdown",
   "metadata": {},
   "source": [
    "# STAT29000 Project 10 Examples"
   ]
  },
  {
   "cell_type": "markdown",
   "metadata": {},
   "source": [
    "In this project we are working with `SQLAlchemy`, in Python, to interact with an SQLite database. "
   ]
  },
  {
   "cell_type": "markdown",
   "metadata": {},
   "source": [
    "You can find a set of examples [here](https://datamine.purdue.edu/seminars/spring2020/stat19000project09examples.pdf) or on scholar:\n",
    "\n",
    "`/class/datamine/data/spring2020/stat19000project09examples.pdf`.\n",
    "\n",
    "In this notebook, I will run through the same set of queries using SQLAlchemy. I will demonstrate how to run direct queries using SQL syntax, as well as the ORM way of doing things.\n",
    "\n",
    "In addition, you can find more SQL examples (including joins) [here](https://datamine.purdue.edu/seminars/spring2020/stat19000project10examples.pdf) or on scholar:\n",
    "\n",
    "`/class/datamine/data/spring2020/stat19000project10examples.pdf`."
   ]
  },
  {
   "cell_type": "markdown",
   "metadata": {},
   "source": [
    "In addition to what we've provided here, please take the time to look through [this](https://www.fullstackpython.com/object-relational-mappers-orms.html). At first, looking at the SQLAlchemy code, it may not be immediately apparent why this is useful. However, if you look at some examples using the [Django ORM](https://docs.djangoproject.com/en/3.0/topics/db/queries/), it may be more clear how an ORM may help abstract certain concepts away and simplify things for people unfamiliar with SQL, but familiar with Python."
   ]
  },
  {
   "cell_type": "code",
   "execution_count": 3,
   "metadata": {},
   "outputs": [],
   "source": [
    "import sqlalchemy as db"
   ]
  },
  {
   "cell_type": "code",
   "execution_count": 5,
   "metadata": {},
   "outputs": [
    {
     "name": "stdout",
     "output_type": "stream",
     "text": [
      "(1, 'Adams', 'Andrew', 'General Manager', None, '1962-02-18 00:00:00', '2002-08-14 00:00:00', '11120 Jasper Ave NW', 'Edmonton', 'AB', 'Canada', 'T5K 2N1', '+1 (780) 428-9482', '+1 (780) 428-3457', 'andrew@chinookcorp.com')\n",
      "(2, 'Edwards', 'Nancy', 'Sales Manager', 1, '1958-12-08 00:00:00', '2002-05-01 00:00:00', '825 8 Ave SW', 'Calgary', 'AB', 'Canada', 'T2P 2T3', '+1 (403) 262-3443', '+1 (403) 262-3322', 'nancy@chinookcorp.com')\n",
      "(3, 'Peacock', 'Jane', 'Sales Support Agent', 2, '1973-08-29 00:00:00', '2002-04-01 00:00:00', '1111 6 Ave SW', 'Calgary', 'AB', 'Canada', 'T2P 5M5', '+1 (403) 262-3443', '+1 (403) 262-6712', 'jane@chinookcorp.com')\n",
      "(4, 'Park', 'Margaret', 'Sales Support Agent', 2, '1947-09-19 00:00:00', '2003-05-03 00:00:00', '683 10 Street SW', 'Calgary', 'AB', 'Canada', 'T2P 5G3', '+1 (403) 263-4423', '+1 (403) 263-4289', 'margaret@chinookcorp.com')\n",
      "(5, 'Johnson', 'Steve', 'Sales Support Agent', 2, '1965-03-03 00:00:00', '2003-10-17 00:00:00', '7727B 41 Ave', 'Calgary', 'AB', 'Canada', 'T3B 1Y7', '1 (780) 836-9987', '1 (780) 836-9543', 'steve@chinookcorp.com')\n",
      "(6, 'Mitchell', 'Michael', 'IT Manager', 1, '1973-07-01 00:00:00', '2003-10-17 00:00:00', '5827 Bowness Road NW', 'Calgary', 'AB', 'Canada', 'T3B 0C5', '+1 (403) 246-9887', '+1 (403) 246-9899', 'michael@chinookcorp.com')\n",
      "(7, 'King', 'Robert', 'IT Staff', 6, '1970-05-29 00:00:00', '2004-01-02 00:00:00', '590 Columbia Boulevard West', 'Lethbridge', 'AB', 'Canada', 'T1K 5N8', '+1 (403) 456-9986', '+1 (403) 456-8485', 'robert@chinookcorp.com')\n",
      "(8, 'Callahan', 'Laura', 'IT Staff', 6, '1968-01-09 00:00:00', '2004-03-04 00:00:00', '923 7 ST NW', 'Lethbridge', 'AB', 'Canada', 'T1H 1Y8', '+1 (403) 467-3351', '+1 (403) 467-8772', 'laura@chinookcorp.com')\n",
      "(1, 'Adams', 'Andrew', 'General Manager', None, datetime.datetime(1962, 2, 18, 0, 0), datetime.datetime(2002, 8, 14, 0, 0), '11120 Jasper Ave NW', 'Edmonton', 'AB', 'Canada', 'T5K 2N1', '+1 (780) 428-9482', '+1 (780) 428-3457', 'andrew@chinookcorp.com')\n",
      "(2, 'Edwards', 'Nancy', 'Sales Manager', 1, datetime.datetime(1958, 12, 8, 0, 0), datetime.datetime(2002, 5, 1, 0, 0), '825 8 Ave SW', 'Calgary', 'AB', 'Canada', 'T2P 2T3', '+1 (403) 262-3443', '+1 (403) 262-3322', 'nancy@chinookcorp.com')\n",
      "(3, 'Peacock', 'Jane', 'Sales Support Agent', 2, datetime.datetime(1973, 8, 29, 0, 0), datetime.datetime(2002, 4, 1, 0, 0), '1111 6 Ave SW', 'Calgary', 'AB', 'Canada', 'T2P 5M5', '+1 (403) 262-3443', '+1 (403) 262-6712', 'jane@chinookcorp.com')\n",
      "(4, 'Park', 'Margaret', 'Sales Support Agent', 2, datetime.datetime(1947, 9, 19, 0, 0), datetime.datetime(2003, 5, 3, 0, 0), '683 10 Street SW', 'Calgary', 'AB', 'Canada', 'T2P 5G3', '+1 (403) 263-4423', '+1 (403) 263-4289', 'margaret@chinookcorp.com')\n",
      "(5, 'Johnson', 'Steve', 'Sales Support Agent', 2, datetime.datetime(1965, 3, 3, 0, 0), datetime.datetime(2003, 10, 17, 0, 0), '7727B 41 Ave', 'Calgary', 'AB', 'Canada', 'T3B 1Y7', '1 (780) 836-9987', '1 (780) 836-9543', 'steve@chinookcorp.com')\n",
      "(6, 'Mitchell', 'Michael', 'IT Manager', 1, datetime.datetime(1973, 7, 1, 0, 0), datetime.datetime(2003, 10, 17, 0, 0), '5827 Bowness Road NW', 'Calgary', 'AB', 'Canada', 'T3B 0C5', '+1 (403) 246-9887', '+1 (403) 246-9899', 'michael@chinookcorp.com')\n",
      "(7, 'King', 'Robert', 'IT Staff', 6, datetime.datetime(1970, 5, 29, 0, 0), datetime.datetime(2004, 1, 2, 0, 0), '590 Columbia Boulevard West', 'Lethbridge', 'AB', 'Canada', 'T1K 5N8', '+1 (403) 456-9986', '+1 (403) 456-8485', 'robert@chinookcorp.com')\n",
      "(8, 'Callahan', 'Laura', 'IT Staff', 6, datetime.datetime(1968, 1, 9, 0, 0), datetime.datetime(2004, 3, 4, 0, 0), '923 7 ST NW', 'Lethbridge', 'AB', 'Canada', 'T1H 1Y8', '+1 (403) 467-3351', '+1 (403) 467-8772', 'laura@chinookcorp.com')\n"
     ]
    },
    {
     "ename": "NameError",
     "evalue": "name 'connection' is not defined",
     "output_type": "error",
     "traceback": [
      "\u001b[0;31m---------------------------------------------------------------------------\u001b[0m",
      "\u001b[0;31mNameError\u001b[0m                                 Traceback (most recent call last)",
      "\u001b[0;32m<ipython-input-5-78f640e01b12>\u001b[0m in \u001b[0;36m<module>\u001b[0;34m\u001b[0m\n\u001b[1;32m     26\u001b[0m \u001b[0;31m# over with. So instead of:\u001b[0m\u001b[0;34m\u001b[0m\u001b[0;34m\u001b[0m\u001b[0m\n\u001b[1;32m     27\u001b[0m \u001b[0mcon\u001b[0m \u001b[0;34m=\u001b[0m \u001b[0mengine\u001b[0m\u001b[0;34m.\u001b[0m\u001b[0mconnect\u001b[0m\u001b[0;34m(\u001b[0m\u001b[0;34m)\u001b[0m\u001b[0;34m\u001b[0m\u001b[0m\n\u001b[0;32m---> 28\u001b[0;31m \u001b[0mresult\u001b[0m \u001b[0;34m=\u001b[0m \u001b[0mconnection\u001b[0m\u001b[0;34m.\u001b[0m\u001b[0mexecute\u001b[0m\u001b[0;34m(\u001b[0m\u001b[0;34m\"SELECT * FROM employees;\"\u001b[0m\u001b[0;34m)\u001b[0m\u001b[0;34m\u001b[0m\u001b[0m\n\u001b[0m\u001b[1;32m     29\u001b[0m \u001b[0mprint\u001b[0m\u001b[0;34m(\u001b[0m\u001b[0mresult\u001b[0m\u001b[0;34m)\u001b[0m\u001b[0;34m\u001b[0m\u001b[0m\n\u001b[1;32m     30\u001b[0m \u001b[0mconnection\u001b[0m\u001b[0;34m.\u001b[0m\u001b[0mclose\u001b[0m\u001b[0;34m(\u001b[0m\u001b[0;34m)\u001b[0m\u001b[0;34m\u001b[0m\u001b[0m\n",
      "\u001b[0;31mNameError\u001b[0m: name 'connection' is not defined"
     ]
    }
   ],
   "source": [
    "# First, we must establish a connection with the database.\n",
    "engine = db.create_engine(\"sqlite:////class/datamine/data/spring2020/chinook.db\")\n",
    "\n",
    "# Then, to run direct, SQL queries:\n",
    "with engine.connect() as con:\n",
    "    result = con.execute(\"SELECT * FROM employees;\")\n",
    "    for r in result:\n",
    "        print(r)\n",
    "    \n",
    "# Or, use the ORM\n",
    "employees_table = db.Table('employees', db.MetaData(), autoload=True, autoload_with=engine)\n",
    "\n",
    "# Form the query\n",
    "query = db.select([employees_table])\n",
    "\n",
    "# Execute query\n",
    "with engine.connect() as con:\n",
    "    result = con.execute(query)\n",
    "    for r in result:\n",
    "        print(r)\n",
    "        \n",
    "# Note that the with ____ as ___ syntax is nothing to be afraid of.\n",
    "# Without going into too much detail, it basically ensures that something is\n",
    "# done at the start and end of the code block. In this case, it ensures that\n",
    "# the connection to the database is automatically closed after the block is\n",
    "# over with. So instead of:\n",
    "connection = engine.connect()\n",
    "result = connection.execute(\"SELECT * FROM employees;\")\n",
    "print(result)\n",
    "connection.close()\n",
    "\n",
    "# You can do:\n",
    "with engine.connect() as con:\n",
    "    result = con.execute(\"SELECT * FROM employees;\")\n",
    "    print(result)\n",
    "    \n",
    "# Although it isn't necessarily easier, using this notation helps ensure\n",
    "# you don't accidentally forget to close the connection."
   ]
  },
  {
   "cell_type": "markdown",
   "metadata": {},
   "source": [
    "Let's start running through some examples shall we?"
   ]
  },
  {
   "cell_type": "code",
   "execution_count": 6,
   "metadata": {},
   "outputs": [
    {
     "name": "stdout",
     "output_type": "stream",
     "text": [
      "dict_keys(['albums', 'artists', 'customers', 'employees', 'genres', 'invoice_items', 'invoices', 'tracks', 'media_types', 'playlist_track', 'playlists', 'sqlite_sequence', 'sqlite_stat1'])\n"
     ]
    },
    {
     "data": {
      "text/plain": [
       "['albums',\n",
       " 'artists',\n",
       " 'customers',\n",
       " 'employees',\n",
       " 'genres',\n",
       " 'invoice_items',\n",
       " 'invoices',\n",
       " 'media_types',\n",
       " 'playlist_track',\n",
       " 'playlists',\n",
       " 'sqlite_sequence',\n",
       " 'sqlite_stat1',\n",
       " 'tracks']"
      ]
     },
     "execution_count": 6,
     "metadata": {},
     "output_type": "execute_result"
    }
   ],
   "source": [
    "metadata = db.MetaData()\n",
    "metadata.reflect(bind=engine)\n",
    "\n",
    "# What are the tables in the database?\n",
    "print(metadata.tables.keys())\n",
    "\n",
    "# or\n",
    "inspector = db.engine.reflection.Inspector.from_engine(engine)\n",
    "inspector.get_table_names()"
   ]
  },
  {
   "cell_type": "markdown",
   "metadata": {},
   "source": [
    "You can think of a database index just like the index of a text book. Without the index the way to find something is to scan page by page. This is slow. The index allows us to look for a topic alphabetically and turn directly to the corresponding page. At a very high level, a database index is a way to sacrifice space for speed. We need to add a good chunk of pages to the book, but now we can find things much faster. "
   ]
  },
  {
   "cell_type": "code",
   "execution_count": 7,
   "metadata": {},
   "outputs": [
    {
     "name": "stdout",
     "output_type": "stream",
     "text": [
      "{'name': 'IFK_AlbumArtistId', 'column_names': ['ArtistId'], 'unique': 0}\n",
      "{'name': 'IFK_CustomerSupportRepId', 'column_names': ['SupportRepId'], 'unique': 0}\n",
      "{'name': 'IFK_EmployeeReportsTo', 'column_names': ['ReportsTo'], 'unique': 0}\n",
      "{'name': 'IFK_InvoiceLineTrackId', 'column_names': ['TrackId'], 'unique': 0}\n",
      "{'name': 'IFK_InvoiceLineInvoiceId', 'column_names': ['InvoiceId'], 'unique': 0}\n",
      "{'name': 'IFK_InvoiceCustomerId', 'column_names': ['CustomerId'], 'unique': 0}\n",
      "{'name': 'IFK_PlaylistTrackTrackId', 'column_names': ['TrackId'], 'unique': 0}\n",
      "{'name': 'IFK_TrackMediaTypeId', 'column_names': ['MediaTypeId'], 'unique': 0}\n",
      "{'name': 'IFK_TrackGenreId', 'column_names': ['GenreId'], 'unique': 0}\n",
      "{'name': 'IFK_TrackAlbumId', 'column_names': ['AlbumId'], 'unique': 0}\n"
     ]
    }
   ],
   "source": [
    "# Are there any indices?\n",
    "for table in inspector.get_table_names():\n",
    "    for index in inspector.get_indexes(table):\n",
    "        print(index)"
   ]
  },
  {
   "cell_type": "code",
   "execution_count": 8,
   "metadata": {},
   "outputs": [
    {
     "name": "stdout",
     "output_type": "stream",
     "text": [
      "(1, 'Adams', 'Andrew', 'General Manager', None, '1962-02-18 00:00:00', '2002-08-14 00:00:00', '11120 Jasper Ave NW', 'Edmonton', 'AB', 'Canada', 'T5K 2N1', '+1 (780) 428-9482', '+1 (780) 428-3457', 'andrew@chinookcorp.com')\n",
      "(1, 'Adams', 'Andrew', 'General Manager', None, datetime.datetime(1962, 2, 18, 0, 0), datetime.datetime(2002, 8, 14, 0, 0), '11120 Jasper Ave NW', 'Edmonton', 'AB', 'Canada', 'T5K 2N1', '+1 (780) 428-9482', '+1 (780) 428-3457', 'andrew@chinookcorp.com')\n"
     ]
    }
   ],
   "source": [
    "# select all of the columns for the first employee only\n",
    "with engine.connect() as con:\n",
    "    result = con.execute(\"SELECT * FROM employees LIMIT(1);\")\n",
    "    for row in result:\n",
    "        print(row)\n",
    "        \n",
    "# or \n",
    "with engine.connect() as con:\n",
    "    query = db.select([metadata.tables[\"employees\"]]).limit(1)\n",
    "    result = con.execute(query)\n",
    "    for row in result:\n",
    "        print(row)"
   ]
  },
  {
   "cell_type": "code",
   "execution_count": 9,
   "metadata": {},
   "outputs": [
    {
     "name": "stdout",
     "output_type": "stream",
     "text": [
      "['employees.EmployeeId', 'employees.LastName', 'employees.FirstName', 'employees.Title', 'employees.ReportsTo', 'employees.BirthDate', 'employees.HireDate', 'employees.Address', 'employees.City', 'employees.State', 'employees.Country', 'employees.PostalCode', 'employees.Phone', 'employees.Fax', 'employees.Email']\n",
      "['employees.EmployeeId', 'employees.LastName', 'employees.FirstName', 'employees.Title', 'employees.ReportsTo', 'employees.BirthDate', 'employees.HireDate', 'employees.Address', 'employees.City', 'employees.State', 'employees.Country', 'employees.PostalCode', 'employees.Phone', 'employees.Fax', 'employees.Email']\n",
      "('Andrew', 'Adams')\n",
      "('Andrew', 'Adams')\n"
     ]
    }
   ],
   "source": [
    "# How do you get the column names of a table?\n",
    "print(metadata.tables[\"employees\"].columns)\n",
    "print(metadata.tables[\"employees\"].c)\n",
    "\n",
    "# select the first and last name for the first employee only\n",
    "with engine.connect() as con:\n",
    "    result = con.execute(\"SELECT FirstName, LastName FROM employees LIMIT(1);\")\n",
    "    for row in result:\n",
    "        print(row)\n",
    "        \n",
    "# or \n",
    "with engine.connect() as con:\n",
    "    query = db.select([metadata.tables[\"employees\"].c.FirstName, metadata.tables[\"employees\"].c.LastName]).limit(1)\n",
    "    result = con.execute(query)\n",
    "    for row in result:\n",
    "        print(row)"
   ]
  },
  {
   "cell_type": "markdown",
   "metadata": {},
   "source": [
    "At this point in time, you may notice that knowing SQL syntax can definitely be beneficial. The SQL version is shorter and arguably easier to read. With that being said, the ORM can make it easy for those who are familiar with Python but not familiar with SQL."
   ]
  },
  {
   "cell_type": "code",
   "execution_count": 10,
   "metadata": {},
   "outputs": [],
   "source": [
    "# Let's make things look nicer:\n",
    "Albums = metadata.tables[\"albums\"]\n",
    "Artists = metadata.tables[\"artists\"]\n",
    "Customers = metadata.tables[\"customers\"]\n",
    "Employees = metadata.tables[\"employees\"]\n",
    "Genres = metadata.tables[\"genres\"]\n",
    "InvoiceItems = metadata.tables[\"invoice_items\"]\n",
    "Invoices = metadata.tables[\"invoices\"]\n",
    "MediaTypes = metadata.tables[\"media_types\"]\n",
    "Playlists = metadata.tables[\"playlists\"]\n",
    "PlaylistTrack = metadata.tables[\"playlist_track\"]"
   ]
  },
  {
   "cell_type": "code",
   "execution_count": 13,
   "metadata": {},
   "outputs": [
    {
     "name": "stdout",
     "output_type": "stream",
     "text": [
      "('Andrew', 'Adams')\n",
      "('Andrew', 'Adams')\n"
     ]
    }
   ],
   "source": [
    "# select all of the first and last name for the first employee only\n",
    "with engine.connect() as con:\n",
    "    result = con.execute(\"SELECT FirstName, LastName FROM employees LIMIT(1);\")\n",
    "    for row in result:\n",
    "        print(row)\n",
    "        \n",
    "# or \n",
    "with engine.connect() as con:\n",
    "    query = db.select([Employees.c.FirstName, Employees.c.LastName]).limit(1)\n",
    "    result = con.execute(query)\n",
    "    for row in result:\n",
    "        print(row)"
   ]
  },
  {
   "cell_type": "code",
   "execution_count": 14,
   "metadata": {},
   "outputs": [
    {
     "name": "stdout",
     "output_type": "stream",
     "text": [
      "('Andrew', 'Adams')\n"
     ]
    }
   ],
   "source": [
    "# Note that case doesn't matter for the pure SQL version, but it does for the ORM portion\n",
    "\n",
    "# select all of the first and last name for the first employee\n",
    "with engine.connect() as con:\n",
    "    result = con.execute(\"select firstname, lastname from employees limit(1);\")\n",
    "    for row in result:\n",
    "        print(row)"
   ]
  },
  {
   "cell_type": "code",
   "execution_count": 15,
   "metadata": {},
   "outputs": [
    {
     "name": "stdout",
     "output_type": "stream",
     "text": [
      "('Andrew', 'Adams')\n",
      "('Nancy', 'Edwards')\n",
      "('Andrew', 'Adams')\n",
      "('Nancy', 'Edwards')\n"
     ]
    }
   ],
   "source": [
    "with engine.connect() as con:\n",
    "    result = con.execute(\"SELECT FirstName, LastName FROM employees LIMIT(2);\")\n",
    "    for row in result:\n",
    "        print(row)\n",
    "        \n",
    "# or \n",
    "with engine.connect() as con:\n",
    "    query = db.select([Employees.c.FirstName, Employees.c.LastName]).limit(2)\n",
    "    result = con.execute(query)\n",
    "    for row in result:\n",
    "        print(row)"
   ]
  },
  {
   "cell_type": "code",
   "execution_count": 16,
   "metadata": {},
   "outputs": [
    {
     "name": "stdout",
     "output_type": "stream",
     "text": [
      "('Andrew', 'Adams')\n",
      "('Nancy', 'Edwards')\n",
      "('Jane', 'Peacock')\n",
      "('Margaret', 'Park')\n",
      "('Steve', 'Johnson')\n",
      "('Michael', 'Mitchell')\n",
      "('Robert', 'King')\n",
      "('Laura', 'Callahan')\n",
      "('Andrew', 'Adams')\n",
      "('Nancy', 'Edwards')\n",
      "('Jane', 'Peacock')\n",
      "('Margaret', 'Park')\n",
      "('Steve', 'Johnson')\n",
      "('Michael', 'Mitchell')\n",
      "('Robert', 'King')\n",
      "('Laura', 'Callahan')\n"
     ]
    }
   ],
   "source": [
    "# select the first and last name for all of the employees\n",
    "with engine.connect() as con:\n",
    "    result = con.execute(\"SELECT FirstName, LastName FROM employees;\")\n",
    "    for row in result:\n",
    "        print(row)\n",
    "        \n",
    "# or \n",
    "with engine.connect() as con:\n",
    "    query = db.select([Employees.c.FirstName, Employees.c.LastName])\n",
    "    result = con.execute(query)\n",
    "    for row in result:\n",
    "        print(row)"
   ]
  },
  {
   "cell_type": "code",
   "execution_count": 17,
   "metadata": {},
   "outputs": [
    {
     "name": "stdout",
     "output_type": "stream",
     "text": [
      "('Andrew', 'Andrew', 'Adams')\n",
      "('Andrew', 'Adams')\n"
     ]
    }
   ],
   "source": [
    "# Note that in SQL if you select the same column twice, it appears twice\n",
    "with engine.connect() as con:\n",
    "    result = con.execute(\"SELECT FirstName, Firstname, LastName FROM employees LIMIT(1);\")\n",
    "    for row in result:\n",
    "        print(row)\n",
    "        \n",
    "# BUT, using the orm, it does not\n",
    "with engine.connect() as con:\n",
    "    query = db.select([Employees.c.FirstName, Employees.c.FirstName, Employees.c.LastName]).limit(1)\n",
    "    result = con.execute(query)\n",
    "    for row in result:\n",
    "        print(row)"
   ]
  },
  {
   "cell_type": "code",
   "execution_count": 19,
   "metadata": {},
   "outputs": [
    {
     "name": "stdout",
     "output_type": "stream",
     "text": [
      "('Michael', 'Mitchell')\n",
      "('Robert', 'King')\n",
      "('Michael', 'Mitchell')\n",
      "('Robert', 'King')\n"
     ]
    }
   ],
   "source": [
    "# Let's get the first 2 names after the 5th name\n",
    "with engine.connect() as con:\n",
    "    result = con.execute(\"SELECT FirstName, LastName FROM employees LIMIT(2) OFFSET(5);\")\n",
    "    for row in result:\n",
    "        print(row)\n",
    "        \n",
    "with engine.connect() as con:\n",
    "    query = db.select([Employees.c.FirstName, Employees.c.LastName]).limit(2).offset(5)\n",
    "    result = con.execute(query)\n",
    "    for row in result:\n",
    "        print(row)"
   ]
  },
  {
   "cell_type": "code",
   "execution_count": 20,
   "metadata": {},
   "outputs": [
    {
     "name": "stdout",
     "output_type": "stream",
     "text": [
      "('Robert', 'King')\n",
      "('Laura', 'Callahan')\n",
      "('Robert', 'King')\n",
      "('Laura', 'Callahan')\n"
     ]
    }
   ],
   "source": [
    "# What if we wanted the last two names?\n",
    "with engine.connect() as con:\n",
    "    result = con.execute(\"SELECT FirstName, LastName FROM employees LIMIT(2) OFFSET(6);\")\n",
    "    for row in result:\n",
    "        print(row)\n",
    "        \n",
    "with engine.connect() as con:\n",
    "    query = db.select([Employees.c.FirstName, Employees.c.LastName]).limit(2).offset(6)\n",
    "    result = con.execute(query)\n",
    "    for row in result:\n",
    "        print(row)\n",
    "        \n",
    "# But as soon as the database adds a new row, this won't work. "
   ]
  },
  {
   "cell_type": "code",
   "execution_count": 24,
   "metadata": {},
   "outputs": [
    {
     "name": "stdout",
     "output_type": "stream",
     "text": [
      "(1, 'Adams', 'Andrew', 'General Manager', None, '1962-02-18 00:00:00', '2002-08-14 00:00:00', '11120 Jasper Ave NW', 'Edmonton', 'AB', 'Canada', 'T5K 2N1', '+1 (780) 428-9482', '+1 (780) 428-3457', 'andrew@chinookcorp.com')\n",
      "(2, 'Edwards', 'Nancy', 'Sales Manager', 1, '1958-12-08 00:00:00', '2002-05-01 00:00:00', '825 8 Ave SW', 'Calgary', 'AB', 'Canada', 'T2P 2T3', '+1 (403) 262-3443', '+1 (403) 262-3322', 'nancy@chinookcorp.com')\n",
      "(3, 'Peacock', 'Jane', 'Sales Support Agent', 2, '1973-08-29 00:00:00', '2002-04-01 00:00:00', '1111 6 Ave SW', 'Calgary', 'AB', 'Canada', 'T2P 5M5', '+1 (403) 262-3443', '+1 (403) 262-6712', 'jane@chinookcorp.com')\n",
      "(4, 'Park', 'Margaret', 'Sales Support Agent', 2, '1947-09-19 00:00:00', '2003-05-03 00:00:00', '683 10 Street SW', 'Calgary', 'AB', 'Canada', 'T2P 5G3', '+1 (403) 263-4423', '+1 (403) 263-4289', 'margaret@chinookcorp.com')\n",
      "(5, 'Johnson', 'Steve', 'Sales Support Agent', 2, '1965-03-03 00:00:00', '2003-10-17 00:00:00', '7727B 41 Ave', 'Calgary', 'AB', 'Canada', 'T3B 1Y7', '1 (780) 836-9987', '1 (780) 836-9543', 'steve@chinookcorp.com')\n",
      "(6, 'Mitchell', 'Michael', 'IT Manager', 1, '1973-07-01 00:00:00', '2003-10-17 00:00:00', '5827 Bowness Road NW', 'Calgary', 'AB', 'Canada', 'T3B 0C5', '+1 (403) 246-9887', '+1 (403) 246-9899', 'michael@chinookcorp.com')\n",
      "(7, 'King', 'Robert', 'IT Staff', 6, '1970-05-29 00:00:00', '2004-01-02 00:00:00', '590 Columbia Boulevard West', 'Lethbridge', 'AB', 'Canada', 'T1K 5N8', '+1 (403) 456-9986', '+1 (403) 456-8485', 'robert@chinookcorp.com')\n",
      "(8, 'Callahan', 'Laura', 'IT Staff', 6, '1968-01-09 00:00:00', '2004-03-04 00:00:00', '923 7 ST NW', 'Lethbridge', 'AB', 'Canada', 'T1H 1Y8', '+1 (403) 467-3351', '+1 (403) 467-8772', 'laura@chinookcorp.com')\n",
      "(1, 'Adams', 'Andrew', 'General Manager', None, datetime.datetime(1962, 2, 18, 0, 0), datetime.datetime(2002, 8, 14, 0, 0), '11120 Jasper Ave NW', 'Edmonton', 'AB', 'Canada', 'T5K 2N1', '+1 (780) 428-9482', '+1 (780) 428-3457', 'andrew@chinookcorp.com')\n",
      "(2, 'Edwards', 'Nancy', 'Sales Manager', 1, datetime.datetime(1958, 12, 8, 0, 0), datetime.datetime(2002, 5, 1, 0, 0), '825 8 Ave SW', 'Calgary', 'AB', 'Canada', 'T2P 2T3', '+1 (403) 262-3443', '+1 (403) 262-3322', 'nancy@chinookcorp.com')\n",
      "(3, 'Peacock', 'Jane', 'Sales Support Agent', 2, datetime.datetime(1973, 8, 29, 0, 0), datetime.datetime(2002, 4, 1, 0, 0), '1111 6 Ave SW', 'Calgary', 'AB', 'Canada', 'T2P 5M5', '+1 (403) 262-3443', '+1 (403) 262-6712', 'jane@chinookcorp.com')\n",
      "(4, 'Park', 'Margaret', 'Sales Support Agent', 2, datetime.datetime(1947, 9, 19, 0, 0), datetime.datetime(2003, 5, 3, 0, 0), '683 10 Street SW', 'Calgary', 'AB', 'Canada', 'T2P 5G3', '+1 (403) 263-4423', '+1 (403) 263-4289', 'margaret@chinookcorp.com')\n",
      "(5, 'Johnson', 'Steve', 'Sales Support Agent', 2, datetime.datetime(1965, 3, 3, 0, 0), datetime.datetime(2003, 10, 17, 0, 0), '7727B 41 Ave', 'Calgary', 'AB', 'Canada', 'T3B 1Y7', '1 (780) 836-9987', '1 (780) 836-9543', 'steve@chinookcorp.com')\n",
      "(6, 'Mitchell', 'Michael', 'IT Manager', 1, datetime.datetime(1973, 7, 1, 0, 0), datetime.datetime(2003, 10, 17, 0, 0), '5827 Bowness Road NW', 'Calgary', 'AB', 'Canada', 'T3B 0C5', '+1 (403) 246-9887', '+1 (403) 246-9899', 'michael@chinookcorp.com')\n",
      "(7, 'King', 'Robert', 'IT Staff', 6, datetime.datetime(1970, 5, 29, 0, 0), datetime.datetime(2004, 1, 2, 0, 0), '590 Columbia Boulevard West', 'Lethbridge', 'AB', 'Canada', 'T1K 5N8', '+1 (403) 456-9986', '+1 (403) 456-8485', 'robert@chinookcorp.com')\n",
      "(8, 'Callahan', 'Laura', 'IT Staff', 6, datetime.datetime(1968, 1, 9, 0, 0), datetime.datetime(2004, 3, 4, 0, 0), '923 7 ST NW', 'Lethbridge', 'AB', 'Canada', 'T1H 1Y8', '+1 (403) 467-3351', '+1 (403) 467-8772', 'laura@chinookcorp.com')\n",
      "['employees.EmployeeId', 'employees.LastName', 'employees.FirstName', 'employees.Title', 'employees.ReportsTo', 'employees.BirthDate', 'employees.HireDate', 'employees.Address', 'employees.City', 'employees.State', 'employees.Country', 'employees.PostalCode', 'employees.Phone', 'employees.Fax', 'employees.Email']\n"
     ]
    }
   ],
   "source": [
    "# So how is the order currently determined?\n",
    "with engine.connect() as con:\n",
    "    result = con.execute(\"SELECT * FROM employees;\")\n",
    "    for row in result:\n",
    "        print(row)\n",
    "        \n",
    "with engine.connect() as con:\n",
    "    query = db.select([Employees])\n",
    "    result = con.execute(query)\n",
    "    for row in result:\n",
    "        print(row)\n",
    "        \n",
    "# Order is determined by the first column, which is?\n",
    "print(Employees.c)\n",
    "\n",
    "# EmployeeId"
   ]
  },
  {
   "cell_type": "code",
   "execution_count": 28,
   "metadata": {},
   "outputs": [
    {
     "name": "stdout",
     "output_type": "stream",
     "text": [
      "(8, 'Callahan', 'Laura', 'IT Staff', 6, '1968-01-09 00:00:00', '2004-03-04 00:00:00', '923 7 ST NW', 'Lethbridge', 'AB', 'Canada', 'T1H 1Y8', '+1 (403) 467-3351', '+1 (403) 467-8772', 'laura@chinookcorp.com')\n",
      "(7, 'King', 'Robert', 'IT Staff', 6, '1970-05-29 00:00:00', '2004-01-02 00:00:00', '590 Columbia Boulevard West', 'Lethbridge', 'AB', 'Canada', 'T1K 5N8', '+1 (403) 456-9986', '+1 (403) 456-8485', 'robert@chinookcorp.com')\n",
      "(6, 'Mitchell', 'Michael', 'IT Manager', 1, '1973-07-01 00:00:00', '2003-10-17 00:00:00', '5827 Bowness Road NW', 'Calgary', 'AB', 'Canada', 'T3B 0C5', '+1 (403) 246-9887', '+1 (403) 246-9899', 'michael@chinookcorp.com')\n",
      "(5, 'Johnson', 'Steve', 'Sales Support Agent', 2, '1965-03-03 00:00:00', '2003-10-17 00:00:00', '7727B 41 Ave', 'Calgary', 'AB', 'Canada', 'T3B 1Y7', '1 (780) 836-9987', '1 (780) 836-9543', 'steve@chinookcorp.com')\n",
      "(4, 'Park', 'Margaret', 'Sales Support Agent', 2, '1947-09-19 00:00:00', '2003-05-03 00:00:00', '683 10 Street SW', 'Calgary', 'AB', 'Canada', 'T2P 5G3', '+1 (403) 263-4423', '+1 (403) 263-4289', 'margaret@chinookcorp.com')\n",
      "(3, 'Peacock', 'Jane', 'Sales Support Agent', 2, '1973-08-29 00:00:00', '2002-04-01 00:00:00', '1111 6 Ave SW', 'Calgary', 'AB', 'Canada', 'T2P 5M5', '+1 (403) 262-3443', '+1 (403) 262-6712', 'jane@chinookcorp.com')\n",
      "(2, 'Edwards', 'Nancy', 'Sales Manager', 1, '1958-12-08 00:00:00', '2002-05-01 00:00:00', '825 8 Ave SW', 'Calgary', 'AB', 'Canada', 'T2P 2T3', '+1 (403) 262-3443', '+1 (403) 262-3322', 'nancy@chinookcorp.com')\n",
      "(1, 'Adams', 'Andrew', 'General Manager', None, '1962-02-18 00:00:00', '2002-08-14 00:00:00', '11120 Jasper Ave NW', 'Edmonton', 'AB', 'Canada', 'T5K 2N1', '+1 (780) 428-9482', '+1 (780) 428-3457', 'andrew@chinookcorp.com')\n",
      "(8, 'Callahan', 'Laura', 'IT Staff', 6, datetime.datetime(1968, 1, 9, 0, 0), datetime.datetime(2004, 3, 4, 0, 0), '923 7 ST NW', 'Lethbridge', 'AB', 'Canada', 'T1H 1Y8', '+1 (403) 467-3351', '+1 (403) 467-8772', 'laura@chinookcorp.com')\n",
      "(7, 'King', 'Robert', 'IT Staff', 6, datetime.datetime(1970, 5, 29, 0, 0), datetime.datetime(2004, 1, 2, 0, 0), '590 Columbia Boulevard West', 'Lethbridge', 'AB', 'Canada', 'T1K 5N8', '+1 (403) 456-9986', '+1 (403) 456-8485', 'robert@chinookcorp.com')\n",
      "(6, 'Mitchell', 'Michael', 'IT Manager', 1, datetime.datetime(1973, 7, 1, 0, 0), datetime.datetime(2003, 10, 17, 0, 0), '5827 Bowness Road NW', 'Calgary', 'AB', 'Canada', 'T3B 0C5', '+1 (403) 246-9887', '+1 (403) 246-9899', 'michael@chinookcorp.com')\n",
      "(5, 'Johnson', 'Steve', 'Sales Support Agent', 2, datetime.datetime(1965, 3, 3, 0, 0), datetime.datetime(2003, 10, 17, 0, 0), '7727B 41 Ave', 'Calgary', 'AB', 'Canada', 'T3B 1Y7', '1 (780) 836-9987', '1 (780) 836-9543', 'steve@chinookcorp.com')\n",
      "(4, 'Park', 'Margaret', 'Sales Support Agent', 2, datetime.datetime(1947, 9, 19, 0, 0), datetime.datetime(2003, 5, 3, 0, 0), '683 10 Street SW', 'Calgary', 'AB', 'Canada', 'T2P 5G3', '+1 (403) 263-4423', '+1 (403) 263-4289', 'margaret@chinookcorp.com')\n",
      "(3, 'Peacock', 'Jane', 'Sales Support Agent', 2, datetime.datetime(1973, 8, 29, 0, 0), datetime.datetime(2002, 4, 1, 0, 0), '1111 6 Ave SW', 'Calgary', 'AB', 'Canada', 'T2P 5M5', '+1 (403) 262-3443', '+1 (403) 262-6712', 'jane@chinookcorp.com')\n",
      "(2, 'Edwards', 'Nancy', 'Sales Manager', 1, datetime.datetime(1958, 12, 8, 0, 0), datetime.datetime(2002, 5, 1, 0, 0), '825 8 Ave SW', 'Calgary', 'AB', 'Canada', 'T2P 2T3', '+1 (403) 262-3443', '+1 (403) 262-3322', 'nancy@chinookcorp.com')\n",
      "(1, 'Adams', 'Andrew', 'General Manager', None, datetime.datetime(1962, 2, 18, 0, 0), datetime.datetime(2002, 8, 14, 0, 0), '11120 Jasper Ave NW', 'Edmonton', 'AB', 'Canada', 'T5K 2N1', '+1 (780) 428-9482', '+1 (780) 428-3457', 'andrew@chinookcorp.com')\n"
     ]
    }
   ],
   "source": [
    "# Let's dig into that more later.\n",
    "# Another way to get the last two names, would then be to use DESC and ORDER BY\n",
    "with engine.connect() as con:\n",
    "    result = con.execute(\"SELECT * FROM employees ORDER BY EmployeeId DESC;\")\n",
    "    for row in result:\n",
    "        print(row)\n",
    "        \n",
    "with engine.connect() as con:\n",
    "    query = db.select([Employees]).order_by(db.desc(\"EmployeeId\"))\n",
    "    result = con.execute(query)\n",
    "    for row in result:\n",
    "        print(row)"
   ]
  },
  {
   "cell_type": "code",
   "execution_count": 29,
   "metadata": {},
   "outputs": [
    {
     "name": "stdout",
     "output_type": "stream",
     "text": [
      "(8, 'Callahan', 'Laura', 'IT Staff', 6, '1968-01-09 00:00:00', '2004-03-04 00:00:00', '923 7 ST NW', 'Lethbridge', 'AB', 'Canada', 'T1H 1Y8', '+1 (403) 467-3351', '+1 (403) 467-8772', 'laura@chinookcorp.com')\n",
      "(7, 'King', 'Robert', 'IT Staff', 6, '1970-05-29 00:00:00', '2004-01-02 00:00:00', '590 Columbia Boulevard West', 'Lethbridge', 'AB', 'Canada', 'T1K 5N8', '+1 (403) 456-9986', '+1 (403) 456-8485', 'robert@chinookcorp.com')\n",
      "(8, 'Callahan', 'Laura', 'IT Staff', 6, datetime.datetime(1968, 1, 9, 0, 0), datetime.datetime(2004, 3, 4, 0, 0), '923 7 ST NW', 'Lethbridge', 'AB', 'Canada', 'T1H 1Y8', '+1 (403) 467-3351', '+1 (403) 467-8772', 'laura@chinookcorp.com')\n",
      "(7, 'King', 'Robert', 'IT Staff', 6, datetime.datetime(1970, 5, 29, 0, 0), datetime.datetime(2004, 1, 2, 0, 0), '590 Columbia Boulevard West', 'Lethbridge', 'AB', 'Canada', 'T1K 5N8', '+1 (403) 456-9986', '+1 (403) 456-8485', 'robert@chinookcorp.com')\n"
     ]
    }
   ],
   "source": [
    "# Now we just need to add the limit back\n",
    "with engine.connect() as con:\n",
    "    result = con.execute(\"SELECT * FROM employees ORDER BY EmployeeId DESC LIMIT(2);\")\n",
    "    for row in result:\n",
    "        print(row)\n",
    "        \n",
    "with engine.connect() as con:\n",
    "    query = db.select([Employees]).order_by(db.desc(\"EmployeeId\")).limit(2)\n",
    "    result = con.execute(query)\n",
    "    for row in result:\n",
    "        print(row)"
   ]
  },
  {
   "cell_type": "code",
   "execution_count": 30,
   "metadata": {},
   "outputs": [
    {
     "name": "stdout",
     "output_type": "stream",
     "text": [
      "(1, 'Adams', 'Andrew', 'General Manager', None, '1962-02-18 00:00:00', '2002-08-14 00:00:00', '11120 Jasper Ave NW', 'Edmonton', 'AB', 'Canada', 'T5K 2N1', '+1 (780) 428-9482', '+1 (780) 428-3457', 'andrew@chinookcorp.com')\n",
      "(2, 'Edwards', 'Nancy', 'Sales Manager', 1, '1958-12-08 00:00:00', '2002-05-01 00:00:00', '825 8 Ave SW', 'Calgary', 'AB', 'Canada', 'T2P 2T3', '+1 (403) 262-3443', '+1 (403) 262-3322', 'nancy@chinookcorp.com')\n",
      "(3, 'Peacock', 'Jane', 'Sales Support Agent', 2, '1973-08-29 00:00:00', '2002-04-01 00:00:00', '1111 6 Ave SW', 'Calgary', 'AB', 'Canada', 'T2P 5M5', '+1 (403) 262-3443', '+1 (403) 262-6712', 'jane@chinookcorp.com')\n",
      "(4, 'Park', 'Margaret', 'Sales Support Agent', 2, '1947-09-19 00:00:00', '2003-05-03 00:00:00', '683 10 Street SW', 'Calgary', 'AB', 'Canada', 'T2P 5G3', '+1 (403) 263-4423', '+1 (403) 263-4289', 'margaret@chinookcorp.com')\n",
      "(5, 'Johnson', 'Steve', 'Sales Support Agent', 2, '1965-03-03 00:00:00', '2003-10-17 00:00:00', '7727B 41 Ave', 'Calgary', 'AB', 'Canada', 'T3B 1Y7', '1 (780) 836-9987', '1 (780) 836-9543', 'steve@chinookcorp.com')\n",
      "(6, 'Mitchell', 'Michael', 'IT Manager', 1, '1973-07-01 00:00:00', '2003-10-17 00:00:00', '5827 Bowness Road NW', 'Calgary', 'AB', 'Canada', 'T3B 0C5', '+1 (403) 246-9887', '+1 (403) 246-9899', 'michael@chinookcorp.com')\n",
      "(7, 'King', 'Robert', 'IT Staff', 6, '1970-05-29 00:00:00', '2004-01-02 00:00:00', '590 Columbia Boulevard West', 'Lethbridge', 'AB', 'Canada', 'T1K 5N8', '+1 (403) 456-9986', '+1 (403) 456-8485', 'robert@chinookcorp.com')\n",
      "(8, 'Callahan', 'Laura', 'IT Staff', 6, '1968-01-09 00:00:00', '2004-03-04 00:00:00', '923 7 ST NW', 'Lethbridge', 'AB', 'Canada', 'T1H 1Y8', '+1 (403) 467-3351', '+1 (403) 467-8772', 'laura@chinookcorp.com')\n",
      "(1, 'Adams', 'Andrew', 'General Manager', None, datetime.datetime(1962, 2, 18, 0, 0), datetime.datetime(2002, 8, 14, 0, 0), '11120 Jasper Ave NW', 'Edmonton', 'AB', 'Canada', 'T5K 2N1', '+1 (780) 428-9482', '+1 (780) 428-3457', 'andrew@chinookcorp.com')\n",
      "(2, 'Edwards', 'Nancy', 'Sales Manager', 1, datetime.datetime(1958, 12, 8, 0, 0), datetime.datetime(2002, 5, 1, 0, 0), '825 8 Ave SW', 'Calgary', 'AB', 'Canada', 'T2P 2T3', '+1 (403) 262-3443', '+1 (403) 262-3322', 'nancy@chinookcorp.com')\n",
      "(3, 'Peacock', 'Jane', 'Sales Support Agent', 2, datetime.datetime(1973, 8, 29, 0, 0), datetime.datetime(2002, 4, 1, 0, 0), '1111 6 Ave SW', 'Calgary', 'AB', 'Canada', 'T2P 5M5', '+1 (403) 262-3443', '+1 (403) 262-6712', 'jane@chinookcorp.com')\n",
      "(4, 'Park', 'Margaret', 'Sales Support Agent', 2, datetime.datetime(1947, 9, 19, 0, 0), datetime.datetime(2003, 5, 3, 0, 0), '683 10 Street SW', 'Calgary', 'AB', 'Canada', 'T2P 5G3', '+1 (403) 263-4423', '+1 (403) 263-4289', 'margaret@chinookcorp.com')\n",
      "(5, 'Johnson', 'Steve', 'Sales Support Agent', 2, datetime.datetime(1965, 3, 3, 0, 0), datetime.datetime(2003, 10, 17, 0, 0), '7727B 41 Ave', 'Calgary', 'AB', 'Canada', 'T3B 1Y7', '1 (780) 836-9987', '1 (780) 836-9543', 'steve@chinookcorp.com')\n",
      "(6, 'Mitchell', 'Michael', 'IT Manager', 1, datetime.datetime(1973, 7, 1, 0, 0), datetime.datetime(2003, 10, 17, 0, 0), '5827 Bowness Road NW', 'Calgary', 'AB', 'Canada', 'T3B 0C5', '+1 (403) 246-9887', '+1 (403) 246-9899', 'michael@chinookcorp.com')\n",
      "(7, 'King', 'Robert', 'IT Staff', 6, datetime.datetime(1970, 5, 29, 0, 0), datetime.datetime(2004, 1, 2, 0, 0), '590 Columbia Boulevard West', 'Lethbridge', 'AB', 'Canada', 'T1K 5N8', '+1 (403) 456-9986', '+1 (403) 456-8485', 'robert@chinookcorp.com')\n",
      "(8, 'Callahan', 'Laura', 'IT Staff', 6, datetime.datetime(1968, 1, 9, 0, 0), datetime.datetime(2004, 3, 4, 0, 0), '923 7 ST NW', 'Lethbridge', 'AB', 'Canada', 'T1H 1Y8', '+1 (403) 467-3351', '+1 (403) 467-8772', 'laura@chinookcorp.com')\n"
     ]
    }
   ],
   "source": [
    "# ORDER BY goes in ascending order, but you can be explicit if you want to be\n",
    "with engine.connect() as con:\n",
    "    result = con.execute(\"SELECT * FROM employees ORDER BY EmployeeId ASC;\")\n",
    "    for row in result:\n",
    "        print(row)\n",
    "        \n",
    "with engine.connect() as con:\n",
    "    query = db.select([Employees]).order_by(db.asc(\"EmployeeId\"))\n",
    "    result = con.execute(query)\n",
    "    for row in result:\n",
    "        print(row)"
   ]
  },
  {
   "cell_type": "code",
   "execution_count": 31,
   "metadata": {},
   "outputs": [
    {
     "name": "stdout",
     "output_type": "stream",
     "text": [
      "('General Manager',)\n",
      "('Sales Manager',)\n",
      "('Sales Support Agent',)\n",
      "('Sales Support Agent',)\n",
      "('Sales Support Agent',)\n",
      "('IT Manager',)\n",
      "('IT Staff',)\n",
      "('IT Staff',)\n",
      "('General Manager',)\n",
      "('Sales Manager',)\n",
      "('Sales Support Agent',)\n",
      "('Sales Support Agent',)\n",
      "('Sales Support Agent',)\n",
      "('IT Manager',)\n",
      "('IT Staff',)\n",
      "('IT Staff',)\n"
     ]
    }
   ],
   "source": [
    "# Let's look at the title column\n",
    "with engine.connect() as con:\n",
    "    result = con.execute(\"SELECT title FROM employees;\")\n",
    "    for row in result:\n",
    "        print(row)\n",
    "        \n",
    "with engine.connect() as con:\n",
    "    query = db.select([Employees.c.Title])\n",
    "    result = con.execute(query)\n",
    "    for row in result:\n",
    "        print(row)"
   ]
  },
  {
   "cell_type": "code",
   "execution_count": 33,
   "metadata": {},
   "outputs": [
    {
     "name": "stdout",
     "output_type": "stream",
     "text": [
      "('General Manager',)\n",
      "('Sales Manager',)\n",
      "('Sales Support Agent',)\n",
      "('IT Manager',)\n",
      "('IT Staff',)\n",
      "('General Manager',)\n",
      "('Sales Manager',)\n",
      "('Sales Support Agent',)\n",
      "('IT Manager',)\n",
      "('IT Staff',)\n"
     ]
    }
   ],
   "source": [
    "# The result is redundant. What if we just wanted a list of titles but there were 10000 employees!\n",
    "# This is where SELECT DISTINCT comes in handy. SELECT DISTINCT returns only unique results or unique \n",
    "# combinations depending on what column(s) you SELECT DISTINCT\n",
    "with engine.connect() as con:\n",
    "    result = con.execute(\"SELECT DISTINCT title FROM employees;\")\n",
    "    for row in result:\n",
    "        print(row)\n",
    "        \n",
    "with engine.connect() as con:\n",
    "    query = db.select([Employees.c.Title]).distinct()\n",
    "    result = con.execute(query)\n",
    "    for row in result:\n",
    "        print(row)"
   ]
  },
  {
   "cell_type": "code",
   "execution_count": 34,
   "metadata": {},
   "outputs": [
    {
     "name": "stdout",
     "output_type": "stream",
     "text": [
      "('General Manager', 'Andrew')\n",
      "('Sales Manager', 'Nancy')\n",
      "('Sales Support Agent', 'Jane')\n",
      "('Sales Support Agent', 'Margaret')\n",
      "('Sales Support Agent', 'Steve')\n",
      "('IT Manager', 'Michael')\n",
      "('IT Staff', 'Robert')\n",
      "('IT Staff', 'Laura')\n",
      "('General Manager', 'Andrew')\n",
      "('Sales Manager', 'Nancy')\n",
      "('Sales Support Agent', 'Jane')\n",
      "('Sales Support Agent', 'Margaret')\n",
      "('Sales Support Agent', 'Steve')\n",
      "('IT Manager', 'Michael')\n",
      "('IT Staff', 'Robert')\n",
      "('IT Staff', 'Laura')\n"
     ]
    }
   ],
   "source": [
    "# But if you wanted firstname/title combos (of which all are unique), you'd get:\n",
    "with engine.connect() as con:\n",
    "    result = con.execute(\"SELECT DISTINCT title, firstname FROM employees;\")\n",
    "    for row in result:\n",
    "        print(row)\n",
    "        \n",
    "with engine.connect() as con:\n",
    "    query = db.select([Employees.c.Title, Employees.c.FirstName]).distinct()\n",
    "    result = con.execute(query)\n",
    "    for row in result:\n",
    "        print(row)"
   ]
  },
  {
   "cell_type": "code",
   "execution_count": 36,
   "metadata": {},
   "outputs": [
    {
     "name": "stdout",
     "output_type": "stream",
     "text": [
      "(0.99,)\n",
      "(Decimal('0.99'),)\n"
     ]
    },
    {
     "name": "stderr",
     "output_type": "stream",
     "text": [
      "/home/kamstut/.pyenv/versions/3.6.4/lib/python3.6/site-packages/sqlalchemy/sql/sqltypes.py:666: SAWarning: Dialect sqlite+pysqlite does *not* support Decimal objects natively, and SQLAlchemy must convert from floating point - rounding errors and other issues may occur. Please consider storing Decimal numbers as strings or integers on this platform for lossless storage.\n",
      "  \"storage.\" % (dialect.name, dialect.driver)\n"
     ]
    }
   ],
   "source": [
    "# SQL also has some built in function including but not limited to: MIN, MAX, COUNT, SUM, AVG\n",
    "with engine.connect() as con:\n",
    "    result = con.execute(\"SELECT MIN(Total) FROM invoices;\")\n",
    "    for row in result:\n",
    "        print(row)\n",
    "        \n",
    "with engine.connect() as con:\n",
    "    query = db.select([db.sql.func.Min(Invoices.c.Total)])\n",
    "    result = con.execute(query)\n",
    "    for row in result:\n",
    "        print(row)\n",
    "        \n",
    "# Note: Just ignore the warning, its unimportant for now."
   ]
  },
  {
   "cell_type": "code",
   "execution_count": 49,
   "metadata": {},
   "outputs": [
    {
     "data": {
      "text/plain": [
       "INTEGER()"
      ]
     },
     "execution_count": 49,
     "metadata": {},
     "output_type": "execute_result"
    }
   ],
   "source": [
    "# We can also check out the schema of a table to see how it was built\n",
    "# The schema info is stored in the metadata\n",
    "metadata.tables\n",
    "metadata.tables.get(\"albums\").c.AlbumId.type"
   ]
  },
  {
   "cell_type": "code",
   "execution_count": 50,
   "metadata": {},
   "outputs": [
    {
     "name": "stdout",
     "output_type": "stream",
     "text": [
      "(25.86,)\n",
      "(Decimal('25.86'),)\n"
     ]
    }
   ],
   "source": [
    "with engine.connect() as con:\n",
    "    result = con.execute(\"SELECT MAX(Total) FROM invoices;\")\n",
    "    for row in result:\n",
    "        print(row)\n",
    "        \n",
    "with engine.connect() as con:\n",
    "    query = db.select([db.sql.func.Max(Invoices.c.Total)])\n",
    "    result = con.execute(query)\n",
    "    for row in result:\n",
    "        print(row)"
   ]
  },
  {
   "cell_type": "code",
   "execution_count": 51,
   "metadata": {},
   "outputs": [
    {
     "name": "stdout",
     "output_type": "stream",
     "text": [
      "(5.651941747572825,)\n",
      "(5.651941747572825,)\n"
     ]
    }
   ],
   "source": [
    "with engine.connect() as con:\n",
    "    result = con.execute(\"SELECT AVG(Total) FROM invoices;\")\n",
    "    for row in result:\n",
    "        print(row)\n",
    "        \n",
    "with engine.connect() as con:\n",
    "    query = db.select([db.sql.func.Avg(Invoices.c.Total)])\n",
    "    result = con.execute(query)\n",
    "    for row in result:\n",
    "        print(row)"
   ]
  },
  {
   "cell_type": "code",
   "execution_count": 54,
   "metadata": {},
   "outputs": [
    {
     "name": "stdout",
     "output_type": "stream",
     "text": [
      "(5.651941747572825,)\n",
      "(5.651941747572825,)\n"
     ]
    }
   ],
   "source": [
    "# Important note: LIMIT doesn't effect the functions. They will operate on the entire row\n",
    "with engine.connect() as con:\n",
    "    result = con.execute(\"SELECT AVG(Total) FROM invoices LIMIT(2);\")\n",
    "    for row in result:\n",
    "        print(row)\n",
    "        \n",
    "with engine.connect() as con:\n",
    "    query = db.select([db.sql.func.Avg(Invoices.c.Total)]).limit(2)\n",
    "    result = con.execute(query)\n",
    "    for row in result:\n",
    "        print(row)"
   ]
  },
  {
   "cell_type": "code",
   "execution_count": 55,
   "metadata": {},
   "outputs": [
    {
     "name": "stdout",
     "output_type": "stream",
     "text": [
      "(2328.600000000004,)\n",
      "(Decimal('2328.60'),)\n"
     ]
    }
   ],
   "source": [
    "# Same behavior for all function...\n",
    "with engine.connect() as con:\n",
    "    result = con.execute(\"SELECT SUM(Total) FROM invoices LIMIT(2);\")\n",
    "    for row in result:\n",
    "        print(row)\n",
    "        \n",
    "with engine.connect() as con:\n",
    "    query = db.select([db.sql.func.Sum(Invoices.c.Total)]).limit(2)\n",
    "    result = con.execute(query)\n",
    "    for row in result:\n",
    "        print(row)"
   ]
  },
  {
   "cell_type": "code",
   "execution_count": 57,
   "metadata": {},
   "outputs": [
    {
     "name": "stdout",
     "output_type": "stream",
     "text": [
      "(412,)\n",
      "(412,)\n"
     ]
    }
   ],
   "source": [
    "# Count is useful too. It counts the number of rows when COUNT(*), otherwise if it is COUNT(column_name), \n",
    "# it returns the count of non null values\n",
    "with engine.connect() as con:\n",
    "    result = con.execute(\"SELECT COUNT(*) FROM invoices;\")\n",
    "    for row in result:\n",
    "        print(row)\n",
    "        \n",
    "with engine.connect() as con:\n",
    "    query = db.select([db.sql.func.Count(Invoices)])\n",
    "    result = con.execute(query)\n",
    "    for row in result:\n",
    "        print(row)"
   ]
  },
  {
   "cell_type": "code",
   "execution_count": 59,
   "metadata": {},
   "outputs": [
    {
     "name": "stdout",
     "output_type": "stream",
     "text": [
      "(25, 10, '2009-04-09 00:00:00', 'Rua Dr. Falcão Filho, 155', 'São Paulo', 'SP', 'Brazil', '01007-010', 8.91)\n",
      "(34, 12, '2009-05-23 00:00:00', 'Praça Pio X, 119', 'Rio de Janeiro', 'RJ', 'Brazil', '20040-020', 0.99)\n",
      "(35, 13, '2009-06-05 00:00:00', 'Qe 7 Bloco G', 'Brasília', 'DF', 'Brazil', '71020-677', 1.98)\n",
      "(57, 11, '2009-09-06 00:00:00', 'Av. Paulista, 2022', 'São Paulo', 'SP', 'Brazil', '01310-200', 1.98)\n",
      "(58, 13, '2009-09-07 00:00:00', 'Qe 7 Bloco G', 'Brasília', 'DF', 'Brazil', '71020-677', 3.96)\n",
      "(68, 11, '2009-10-17 00:00:00', 'Av. Paulista, 2022', 'São Paulo', 'SP', 'Brazil', '01310-200', 13.86)\n",
      "(80, 13, '2009-12-10 00:00:00', 'Qe 7 Bloco G', 'Brasília', 'DF', 'Brazil', '71020-677', 5.94)\n",
      "(98, 1, '2010-03-11 00:00:00', 'Av. Brigadeiro Faria Lima, 2170', 'São José dos Campos', 'SP', 'Brazil', '12227-000', 3.98)\n",
      "(121, 1, '2010-06-13 00:00:00', 'Av. Brigadeiro Faria Lima, 2170', 'São José dos Campos', 'SP', 'Brazil', '12227-000', 3.96)\n",
      "(123, 11, '2010-06-17 00:00:00', 'Av. Paulista, 2022', 'São Paulo', 'SP', 'Brazil', '01310-200', 8.91)\n",
      "(132, 13, '2010-07-31 00:00:00', 'Qe 7 Bloco G', 'Brasília', 'DF', 'Brazil', '71020-677', 0.99)\n",
      "(143, 1, '2010-09-15 00:00:00', 'Av. Brigadeiro Faria Lima, 2170', 'São José dos Campos', 'SP', 'Brazil', '12227-000', 5.94)\n",
      "(154, 10, '2010-11-14 00:00:00', 'Rua Dr. Falcão Filho, 155', 'São Paulo', 'SP', 'Brazil', '01007-010', 1.98)\n",
      "(155, 12, '2010-11-14 00:00:00', 'Praça Pio X, 119', 'Rio de Janeiro', 'RJ', 'Brazil', '20040-020', 1.98)\n",
      "(166, 12, '2010-12-25 00:00:00', 'Praça Pio X, 119', 'Rio de Janeiro', 'RJ', 'Brazil', '20040-020', 13.86)\n",
      "(177, 10, '2011-02-16 00:00:00', 'Rua Dr. Falcão Filho, 155', 'São Paulo', 'SP', 'Brazil', '01007-010', 3.96)\n",
      "(195, 1, '2011-05-06 00:00:00', 'Av. Brigadeiro Faria Lima, 2170', 'São José dos Campos', 'SP', 'Brazil', '12227-000', 0.99)\n",
      "(199, 10, '2011-05-21 00:00:00', 'Rua Dr. Falcão Filho, 155', 'São Paulo', 'SP', 'Brazil', '01007-010', 5.94)\n",
      "(221, 12, '2011-08-25 00:00:00', 'Praça Pio X, 119', 'Rio de Janeiro', 'RJ', 'Brazil', '20040-020', 8.91)\n",
      "(251, 10, '2012-01-09 00:00:00', 'Rua Dr. Falcão Filho, 155', 'São Paulo', 'SP', 'Brazil', '01007-010', 0.99)\n",
      "(252, 11, '2012-01-22 00:00:00', 'Av. Paulista, 2022', 'São Paulo', 'SP', 'Brazil', '01310-200', 1.98)\n",
      "(253, 13, '2012-01-22 00:00:00', 'Qe 7 Bloco G', 'Brasília', 'DF', 'Brazil', '71020-677', 1.98)\n",
      "(264, 13, '2012-03-03 00:00:00', 'Qe 7 Bloco G', 'Brasília', 'DF', 'Brazil', '71020-677', 13.86)\n",
      "(275, 11, '2012-04-25 00:00:00', 'Av. Paulista, 2022', 'São Paulo', 'SP', 'Brazil', '01310-200', 3.96)\n",
      "(297, 11, '2012-07-28 00:00:00', 'Av. Paulista, 2022', 'São Paulo', 'SP', 'Brazil', '01310-200', 5.94)\n",
      "(316, 1, '2012-10-27 00:00:00', 'Av. Brigadeiro Faria Lima, 2170', 'São José dos Campos', 'SP', 'Brazil', '12227-000', 1.98)\n",
      "(319, 13, '2012-11-01 00:00:00', 'Qe 7 Bloco G', 'Brasília', 'DF', 'Brazil', '71020-677', 8.91)\n",
      "(327, 1, '2012-12-07 00:00:00', 'Av. Brigadeiro Faria Lima, 2170', 'São José dos Campos', 'SP', 'Brazil', '12227-000', 13.86)\n",
      "(349, 11, '2013-03-18 00:00:00', 'Av. Paulista, 2022', 'São Paulo', 'SP', 'Brazil', '01310-200', 0.99)\n",
      "(350, 12, '2013-03-31 00:00:00', 'Praça Pio X, 119', 'Rio de Janeiro', 'RJ', 'Brazil', '20040-020', 1.98)\n",
      "(372, 10, '2013-07-02 00:00:00', 'Rua Dr. Falcão Filho, 155', 'São Paulo', 'SP', 'Brazil', '01007-010', 1.98)\n",
      "(373, 12, '2013-07-03 00:00:00', 'Praça Pio X, 119', 'Rio de Janeiro', 'RJ', 'Brazil', '20040-020', 3.96)\n",
      "(382, 1, '2013-08-07 00:00:00', 'Av. Brigadeiro Faria Lima, 2170', 'São José dos Campos', 'SP', 'Brazil', '12227-000', 8.91)\n",
      "(383, 10, '2013-08-12 00:00:00', 'Rua Dr. Falcão Filho, 155', 'São Paulo', 'SP', 'Brazil', '01007-010', 13.86)\n",
      "(395, 12, '2013-10-05 00:00:00', 'Praça Pio X, 119', 'Rio de Janeiro', 'RJ', 'Brazil', '20040-020', 5.94)\n",
      "(25, 10, datetime.datetime(2009, 4, 9, 0, 0), 'Rua Dr. Falcão Filho, 155', 'São Paulo', 'SP', 'Brazil', '01007-010', Decimal('8.91'))\n",
      "(34, 12, datetime.datetime(2009, 5, 23, 0, 0), 'Praça Pio X, 119', 'Rio de Janeiro', 'RJ', 'Brazil', '20040-020', Decimal('0.99'))\n",
      "(35, 13, datetime.datetime(2009, 6, 5, 0, 0), 'Qe 7 Bloco G', 'Brasília', 'DF', 'Brazil', '71020-677', Decimal('1.98'))\n",
      "(57, 11, datetime.datetime(2009, 9, 6, 0, 0), 'Av. Paulista, 2022', 'São Paulo', 'SP', 'Brazil', '01310-200', Decimal('1.98'))\n",
      "(58, 13, datetime.datetime(2009, 9, 7, 0, 0), 'Qe 7 Bloco G', 'Brasília', 'DF', 'Brazil', '71020-677', Decimal('3.96'))\n",
      "(68, 11, datetime.datetime(2009, 10, 17, 0, 0), 'Av. Paulista, 2022', 'São Paulo', 'SP', 'Brazil', '01310-200', Decimal('13.86'))\n",
      "(80, 13, datetime.datetime(2009, 12, 10, 0, 0), 'Qe 7 Bloco G', 'Brasília', 'DF', 'Brazil', '71020-677', Decimal('5.94'))\n",
      "(98, 1, datetime.datetime(2010, 3, 11, 0, 0), 'Av. Brigadeiro Faria Lima, 2170', 'São José dos Campos', 'SP', 'Brazil', '12227-000', Decimal('3.98'))\n",
      "(121, 1, datetime.datetime(2010, 6, 13, 0, 0), 'Av. Brigadeiro Faria Lima, 2170', 'São José dos Campos', 'SP', 'Brazil', '12227-000', Decimal('3.96'))\n",
      "(123, 11, datetime.datetime(2010, 6, 17, 0, 0), 'Av. Paulista, 2022', 'São Paulo', 'SP', 'Brazil', '01310-200', Decimal('8.91'))\n",
      "(132, 13, datetime.datetime(2010, 7, 31, 0, 0), 'Qe 7 Bloco G', 'Brasília', 'DF', 'Brazil', '71020-677', Decimal('0.99'))\n",
      "(143, 1, datetime.datetime(2010, 9, 15, 0, 0), 'Av. Brigadeiro Faria Lima, 2170', 'São José dos Campos', 'SP', 'Brazil', '12227-000', Decimal('5.94'))\n",
      "(154, 10, datetime.datetime(2010, 11, 14, 0, 0), 'Rua Dr. Falcão Filho, 155', 'São Paulo', 'SP', 'Brazil', '01007-010', Decimal('1.98'))\n",
      "(155, 12, datetime.datetime(2010, 11, 14, 0, 0), 'Praça Pio X, 119', 'Rio de Janeiro', 'RJ', 'Brazil', '20040-020', Decimal('1.98'))\n",
      "(166, 12, datetime.datetime(2010, 12, 25, 0, 0), 'Praça Pio X, 119', 'Rio de Janeiro', 'RJ', 'Brazil', '20040-020', Decimal('13.86'))\n",
      "(177, 10, datetime.datetime(2011, 2, 16, 0, 0), 'Rua Dr. Falcão Filho, 155', 'São Paulo', 'SP', 'Brazil', '01007-010', Decimal('3.96'))\n",
      "(195, 1, datetime.datetime(2011, 5, 6, 0, 0), 'Av. Brigadeiro Faria Lima, 2170', 'São José dos Campos', 'SP', 'Brazil', '12227-000', Decimal('0.99'))\n",
      "(199, 10, datetime.datetime(2011, 5, 21, 0, 0), 'Rua Dr. Falcão Filho, 155', 'São Paulo', 'SP', 'Brazil', '01007-010', Decimal('5.94'))\n",
      "(221, 12, datetime.datetime(2011, 8, 25, 0, 0), 'Praça Pio X, 119', 'Rio de Janeiro', 'RJ', 'Brazil', '20040-020', Decimal('8.91'))\n",
      "(251, 10, datetime.datetime(2012, 1, 9, 0, 0), 'Rua Dr. Falcão Filho, 155', 'São Paulo', 'SP', 'Brazil', '01007-010', Decimal('0.99'))\n",
      "(252, 11, datetime.datetime(2012, 1, 22, 0, 0), 'Av. Paulista, 2022', 'São Paulo', 'SP', 'Brazil', '01310-200', Decimal('1.98'))\n",
      "(253, 13, datetime.datetime(2012, 1, 22, 0, 0), 'Qe 7 Bloco G', 'Brasília', 'DF', 'Brazil', '71020-677', Decimal('1.98'))\n",
      "(264, 13, datetime.datetime(2012, 3, 3, 0, 0), 'Qe 7 Bloco G', 'Brasília', 'DF', 'Brazil', '71020-677', Decimal('13.86'))\n",
      "(275, 11, datetime.datetime(2012, 4, 25, 0, 0), 'Av. Paulista, 2022', 'São Paulo', 'SP', 'Brazil', '01310-200', Decimal('3.96'))\n",
      "(297, 11, datetime.datetime(2012, 7, 28, 0, 0), 'Av. Paulista, 2022', 'São Paulo', 'SP', 'Brazil', '01310-200', Decimal('5.94'))\n",
      "(316, 1, datetime.datetime(2012, 10, 27, 0, 0), 'Av. Brigadeiro Faria Lima, 2170', 'São José dos Campos', 'SP', 'Brazil', '12227-000', Decimal('1.98'))\n",
      "(319, 13, datetime.datetime(2012, 11, 1, 0, 0), 'Qe 7 Bloco G', 'Brasília', 'DF', 'Brazil', '71020-677', Decimal('8.91'))\n",
      "(327, 1, datetime.datetime(2012, 12, 7, 0, 0), 'Av. Brigadeiro Faria Lima, 2170', 'São José dos Campos', 'SP', 'Brazil', '12227-000', Decimal('13.86'))\n",
      "(349, 11, datetime.datetime(2013, 3, 18, 0, 0), 'Av. Paulista, 2022', 'São Paulo', 'SP', 'Brazil', '01310-200', Decimal('0.99'))\n",
      "(350, 12, datetime.datetime(2013, 3, 31, 0, 0), 'Praça Pio X, 119', 'Rio de Janeiro', 'RJ', 'Brazil', '20040-020', Decimal('1.98'))\n",
      "(372, 10, datetime.datetime(2013, 7, 2, 0, 0), 'Rua Dr. Falcão Filho, 155', 'São Paulo', 'SP', 'Brazil', '01007-010', Decimal('1.98'))\n",
      "(373, 12, datetime.datetime(2013, 7, 3, 0, 0), 'Praça Pio X, 119', 'Rio de Janeiro', 'RJ', 'Brazil', '20040-020', Decimal('3.96'))\n",
      "(382, 1, datetime.datetime(2013, 8, 7, 0, 0), 'Av. Brigadeiro Faria Lima, 2170', 'São José dos Campos', 'SP', 'Brazil', '12227-000', Decimal('8.91'))\n",
      "(383, 10, datetime.datetime(2013, 8, 12, 0, 0), 'Rua Dr. Falcão Filho, 155', 'São Paulo', 'SP', 'Brazil', '01007-010', Decimal('13.86'))\n",
      "(395, 12, datetime.datetime(2013, 10, 5, 0, 0), 'Praça Pio X, 119', 'Rio de Janeiro', 'RJ', 'Brazil', '20040-020', Decimal('5.94'))\n"
     ]
    }
   ],
   "source": [
    "# What if we want to condition our queries? For example, we want only invoices for Brazil.\n",
    "# This is where the WHERE clause comes in handy:\n",
    "with engine.connect() as con:\n",
    "    result = con.execute(\"SELECT * FROM invoices WHERE BillingCountry='Brazil';\")\n",
    "    for row in result:\n",
    "        print(row)\n",
    "        \n",
    "with engine.connect() as con:\n",
    "    query = db.select([Invoices]).where(Invoices.c.BillingCountry==\"Brazil\")\n",
    "    result = con.execute(query)\n",
    "    for row in result:\n",
    "        print(row)"
   ]
  },
  {
   "cell_type": "code",
   "execution_count": 60,
   "metadata": {},
   "outputs": [
    {
     "name": "stdout",
     "output_type": "stream",
     "text": [
      "(190.09999999999997,)\n",
      "(Decimal('190.10'),)\n"
     ]
    }
   ],
   "source": [
    "# And it can be combined with functions too, finding the total for Brazil invoices\n",
    "with engine.connect() as con:\n",
    "    result = con.execute(\"SELECT SUM(Total) FROM invoices WHERE BillingCountry='Brazil';\")\n",
    "    for row in result:\n",
    "        print(row)\n",
    "        \n",
    "with engine.connect() as con:\n",
    "    query = db.select([db.sql.func.Sum(Invoices.c.Total)]).where(Invoices.c.BillingCountry==\"Brazil\")\n",
    "    result = con.execute(query)\n",
    "    for row in result:\n",
    "        print(row)"
   ]
  },
  {
   "cell_type": "code",
   "execution_count": 61,
   "metadata": {},
   "outputs": [
    {
     "name": "stdout",
     "output_type": "stream",
     "text": [
      "(5, 23, '2009-01-11 00:00:00', '69 Salem Street', 'Boston', 'MA', 'USA', '2113', 13.86)\n",
      "(12, 2, '2009-02-11 00:00:00', 'Theodor-Heuss-Straße 34', 'Stuttgart', None, 'Germany', '70174', 13.86)\n",
      "(19, 40, '2009-03-14 00:00:00', '8, Rue Hanovre', 'Paris', None, 'France', '75002', 13.86)\n",
      "(26, 19, '2009-04-14 00:00:00', '1 Infinite Loop', 'Cupertino', 'CA', 'USA', '95014', 13.86)\n",
      "(33, 57, '2009-05-15 00:00:00', 'Calle Lira, 198', 'Santiago', None, 'Chile', None, 13.86)\n",
      "(40, 36, '2009-06-15 00:00:00', 'Tauentzienstraße 8', 'Berlin', None, 'Germany', '10789', 13.86)\n",
      "(47, 15, '2009-07-16 00:00:00', '700 W Pender Street', 'Vancouver', 'BC', 'Canada', 'V6C 1G8', 13.86)\n",
      "(54, 53, '2009-08-16 00:00:00', '113 Lupus St', 'London', None, 'United Kingdom', 'SW1V 3EN', 13.86)\n",
      "(61, 32, '2009-09-16 00:00:00', '696 Osborne Street', 'Winnipeg', 'MB', 'Canada', 'R3L 2B9', 13.86)\n",
      "(68, 11, '2009-10-17 00:00:00', 'Av. Paulista, 2022', 'São Paulo', 'SP', 'Brazil', '01310-200', 13.86)\n",
      "(75, 49, '2009-11-17 00:00:00', 'Ordynacka 10', 'Warsaw', None, 'Poland', '00-358', 13.86)\n",
      "(82, 28, '2009-12-18 00:00:00', '302 S 700 E', 'Salt Lake City', 'UT', 'USA', '84102', 13.86)\n",
      "(110, 3, '2010-04-21 00:00:00', '1498 rue Bélanger', 'Montréal', 'QC', 'Canada', 'H2G 1A7', 13.86)\n",
      "(117, 41, '2010-05-22 00:00:00', '11, Place Bellecour', 'Lyon', None, 'France', '69002', 13.86)\n",
      "(124, 20, '2010-06-22 00:00:00', '541 Del Medio Avenue', 'Mountain View', 'CA', 'USA', '94040-111', 13.86)\n",
      "(131, 58, '2010-07-23 00:00:00', '12,Community Centre', 'Delhi', None, 'India', '110017', 13.86)\n",
      "(138, 37, '2010-08-23 00:00:00', 'Berger Straße 10', 'Frankfurt', None, 'Germany', '60316', 13.86)\n",
      "(145, 16, '2010-09-23 00:00:00', '1600 Amphitheatre Parkway', 'Mountain View', 'CA', 'USA', '94043-1351', 13.86)\n",
      "(152, 54, '2010-10-24 00:00:00', '110 Raeburn Pl', 'Edinburgh ', None, 'United Kingdom', 'EH4 1HH', 13.86)\n",
      "(159, 33, '2010-11-24 00:00:00', '5112 48 Street', 'Yellowknife', 'NT', 'Canada', 'X1A 1N6', 13.86)\n",
      "(166, 12, '2010-12-25 00:00:00', 'Praça Pio X, 119', 'Rio de Janeiro', 'RJ', 'Brazil', '20040-020', 13.86)\n",
      "(173, 50, '2011-01-25 00:00:00', 'C/ San Bernardo 85', 'Madrid', None, 'Spain', '28015', 13.86)\n",
      "(180, 29, '2011-02-25 00:00:00', '796 Dundas Street West', 'Toronto', 'ON', 'Canada', 'M6J 1V1', 13.86)\n",
      "(187, 8, '2011-03-28 00:00:00', 'Grétrystraat 63', 'Brussels', None, 'Belgium', '1000', 13.86)\n",
      "(215, 42, '2011-07-30 00:00:00', '9, Place Louis Barthou', 'Bordeaux', None, 'France', '33000', 13.86)\n",
      "(222, 21, '2011-08-30 00:00:00', '801 W 4th Street', 'Reno', 'NV', 'USA', '89503', 13.86)\n",
      "(229, 59, '2011-09-30 00:00:00', '3,Raj Bhavan Road', 'Bangalore', None, 'India', '560001', 13.86)\n",
      "(236, 38, '2011-10-31 00:00:00', 'Barbarossastraße 19', 'Berlin', None, 'Germany', '10779', 13.86)\n",
      "(243, 17, '2011-12-01 00:00:00', '1 Microsoft Way', 'Redmond', 'WA', 'USA', '98052-8300', 13.86)\n",
      "(250, 55, '2012-01-01 00:00:00', '421 Bourke Street', 'Sidney', 'NSW', 'Australia', '2010', 13.86)\n",
      "(257, 34, '2012-02-01 00:00:00', 'Rua da Assunção 53', 'Lisbon', None, 'Portugal', None, 13.86)\n",
      "(264, 13, '2012-03-03 00:00:00', 'Qe 7 Bloco G', 'Brasília', 'DF', 'Brazil', '71020-677', 13.86)\n",
      "(271, 51, '2012-04-03 00:00:00', 'Celsiusg. 9', 'Stockholm', None, 'Sweden', '11230', 13.86)\n",
      "(278, 30, '2012-05-04 00:00:00', '230 Elgin Street', 'Ottawa', 'ON', 'Canada', 'K2P 1L7', 13.86)\n",
      "(285, 9, '2012-06-04 00:00:00', 'Sønder Boulevard 51', 'Copenhagen', None, 'Denmark', '1720', 13.86)\n",
      "(292, 47, '2012-07-05 00:00:00', 'Via Degli Scipioni, 43', 'Rome', 'RM', 'Italy', '00192', 13.86)\n",
      "(320, 22, '2012-11-06 00:00:00', '120 S Orange Ave', 'Orlando', 'FL', 'USA', '32801', 13.86)\n",
      "(327, 1, '2012-12-07 00:00:00', 'Av. Brigadeiro Faria Lima, 2170', 'São José dos Campos', 'SP', 'Brazil', '12227-000', 13.86)\n",
      "(334, 39, '2013-01-07 00:00:00', '4, Rue Milton', 'Paris', None, 'France', '75009', 13.86)\n",
      "(341, 18, '2013-02-07 00:00:00', '627 Broadway', 'New York', 'NY', 'USA', '10012-2612', 13.86)\n",
      "(348, 56, '2013-03-10 00:00:00', '307 Macacha Güemes', 'Buenos Aires', None, 'Argentina', '1106', 13.86)\n",
      "(355, 35, '2013-04-10 00:00:00', 'Rua dos Campeões Europeus de Viena, 4350', 'Porto', None, 'Portugal', None, 13.86)\n",
      "(362, 14, '2013-05-11 00:00:00', '8210 111 ST NW', 'Edmonton', 'AB', 'Canada', 'T6G 2C7', 13.86)\n",
      "(369, 52, '2013-06-11 00:00:00', '202 Hoxton Street', 'London', None, 'United Kingdom', 'N1 5LH', 13.86)\n",
      "(376, 31, '2013-07-12 00:00:00', '194A Chain Lake Drive', 'Halifax', 'NS', 'Canada', 'B3S 1C5', 13.86)\n",
      "(383, 10, '2013-08-12 00:00:00', 'Rua Dr. Falcão Filho, 155', 'São Paulo', 'SP', 'Brazil', '01007-010', 13.86)\n",
      "(390, 48, '2013-09-12 00:00:00', 'Lijnbaansgracht 120bg', 'Amsterdam', 'VV', 'Netherlands', '1016', 13.86)\n",
      "(397, 27, '2013-10-13 00:00:00', '1033 N Park Ave', 'Tucson', 'AZ', 'USA', '85719', 13.86)\n",
      "(411, 44, '2013-12-14 00:00:00', 'Porthaninkatu 9', 'Helsinki', None, 'Finland', '00530', 13.86)\n",
      "(5, 23, datetime.datetime(2009, 1, 11, 0, 0), '69 Salem Street', 'Boston', 'MA', 'USA', '2113', Decimal('13.86'))\n",
      "(12, 2, datetime.datetime(2009, 2, 11, 0, 0), 'Theodor-Heuss-Straße 34', 'Stuttgart', None, 'Germany', '70174', Decimal('13.86'))\n",
      "(19, 40, datetime.datetime(2009, 3, 14, 0, 0), '8, Rue Hanovre', 'Paris', None, 'France', '75002', Decimal('13.86'))\n",
      "(26, 19, datetime.datetime(2009, 4, 14, 0, 0), '1 Infinite Loop', 'Cupertino', 'CA', 'USA', '95014', Decimal('13.86'))\n",
      "(33, 57, datetime.datetime(2009, 5, 15, 0, 0), 'Calle Lira, 198', 'Santiago', None, 'Chile', None, Decimal('13.86'))\n",
      "(40, 36, datetime.datetime(2009, 6, 15, 0, 0), 'Tauentzienstraße 8', 'Berlin', None, 'Germany', '10789', Decimal('13.86'))\n",
      "(47, 15, datetime.datetime(2009, 7, 16, 0, 0), '700 W Pender Street', 'Vancouver', 'BC', 'Canada', 'V6C 1G8', Decimal('13.86'))\n",
      "(54, 53, datetime.datetime(2009, 8, 16, 0, 0), '113 Lupus St', 'London', None, 'United Kingdom', 'SW1V 3EN', Decimal('13.86'))\n",
      "(61, 32, datetime.datetime(2009, 9, 16, 0, 0), '696 Osborne Street', 'Winnipeg', 'MB', 'Canada', 'R3L 2B9', Decimal('13.86'))\n",
      "(68, 11, datetime.datetime(2009, 10, 17, 0, 0), 'Av. Paulista, 2022', 'São Paulo', 'SP', 'Brazil', '01310-200', Decimal('13.86'))\n",
      "(75, 49, datetime.datetime(2009, 11, 17, 0, 0), 'Ordynacka 10', 'Warsaw', None, 'Poland', '00-358', Decimal('13.86'))\n",
      "(82, 28, datetime.datetime(2009, 12, 18, 0, 0), '302 S 700 E', 'Salt Lake City', 'UT', 'USA', '84102', Decimal('13.86'))\n",
      "(110, 3, datetime.datetime(2010, 4, 21, 0, 0), '1498 rue Bélanger', 'Montréal', 'QC', 'Canada', 'H2G 1A7', Decimal('13.86'))\n",
      "(117, 41, datetime.datetime(2010, 5, 22, 0, 0), '11, Place Bellecour', 'Lyon', None, 'France', '69002', Decimal('13.86'))\n",
      "(124, 20, datetime.datetime(2010, 6, 22, 0, 0), '541 Del Medio Avenue', 'Mountain View', 'CA', 'USA', '94040-111', Decimal('13.86'))\n",
      "(131, 58, datetime.datetime(2010, 7, 23, 0, 0), '12,Community Centre', 'Delhi', None, 'India', '110017', Decimal('13.86'))\n",
      "(138, 37, datetime.datetime(2010, 8, 23, 0, 0), 'Berger Straße 10', 'Frankfurt', None, 'Germany', '60316', Decimal('13.86'))\n",
      "(145, 16, datetime.datetime(2010, 9, 23, 0, 0), '1600 Amphitheatre Parkway', 'Mountain View', 'CA', 'USA', '94043-1351', Decimal('13.86'))\n",
      "(152, 54, datetime.datetime(2010, 10, 24, 0, 0), '110 Raeburn Pl', 'Edinburgh ', None, 'United Kingdom', 'EH4 1HH', Decimal('13.86'))\n",
      "(159, 33, datetime.datetime(2010, 11, 24, 0, 0), '5112 48 Street', 'Yellowknife', 'NT', 'Canada', 'X1A 1N6', Decimal('13.86'))\n",
      "(166, 12, datetime.datetime(2010, 12, 25, 0, 0), 'Praça Pio X, 119', 'Rio de Janeiro', 'RJ', 'Brazil', '20040-020', Decimal('13.86'))\n",
      "(173, 50, datetime.datetime(2011, 1, 25, 0, 0), 'C/ San Bernardo 85', 'Madrid', None, 'Spain', '28015', Decimal('13.86'))\n",
      "(180, 29, datetime.datetime(2011, 2, 25, 0, 0), '796 Dundas Street West', 'Toronto', 'ON', 'Canada', 'M6J 1V1', Decimal('13.86'))\n",
      "(187, 8, datetime.datetime(2011, 3, 28, 0, 0), 'Grétrystraat 63', 'Brussels', None, 'Belgium', '1000', Decimal('13.86'))\n",
      "(215, 42, datetime.datetime(2011, 7, 30, 0, 0), '9, Place Louis Barthou', 'Bordeaux', None, 'France', '33000', Decimal('13.86'))\n",
      "(222, 21, datetime.datetime(2011, 8, 30, 0, 0), '801 W 4th Street', 'Reno', 'NV', 'USA', '89503', Decimal('13.86'))\n",
      "(229, 59, datetime.datetime(2011, 9, 30, 0, 0), '3,Raj Bhavan Road', 'Bangalore', None, 'India', '560001', Decimal('13.86'))\n",
      "(236, 38, datetime.datetime(2011, 10, 31, 0, 0), 'Barbarossastraße 19', 'Berlin', None, 'Germany', '10779', Decimal('13.86'))\n",
      "(243, 17, datetime.datetime(2011, 12, 1, 0, 0), '1 Microsoft Way', 'Redmond', 'WA', 'USA', '98052-8300', Decimal('13.86'))\n",
      "(250, 55, datetime.datetime(2012, 1, 1, 0, 0), '421 Bourke Street', 'Sidney', 'NSW', 'Australia', '2010', Decimal('13.86'))\n",
      "(257, 34, datetime.datetime(2012, 2, 1, 0, 0), 'Rua da Assunção 53', 'Lisbon', None, 'Portugal', None, Decimal('13.86'))\n",
      "(264, 13, datetime.datetime(2012, 3, 3, 0, 0), 'Qe 7 Bloco G', 'Brasília', 'DF', 'Brazil', '71020-677', Decimal('13.86'))\n",
      "(271, 51, datetime.datetime(2012, 4, 3, 0, 0), 'Celsiusg. 9', 'Stockholm', None, 'Sweden', '11230', Decimal('13.86'))\n",
      "(278, 30, datetime.datetime(2012, 5, 4, 0, 0), '230 Elgin Street', 'Ottawa', 'ON', 'Canada', 'K2P 1L7', Decimal('13.86'))\n",
      "(285, 9, datetime.datetime(2012, 6, 4, 0, 0), 'Sønder Boulevard 51', 'Copenhagen', None, 'Denmark', '1720', Decimal('13.86'))\n",
      "(292, 47, datetime.datetime(2012, 7, 5, 0, 0), 'Via Degli Scipioni, 43', 'Rome', 'RM', 'Italy', '00192', Decimal('13.86'))\n",
      "(320, 22, datetime.datetime(2012, 11, 6, 0, 0), '120 S Orange Ave', 'Orlando', 'FL', 'USA', '32801', Decimal('13.86'))\n",
      "(327, 1, datetime.datetime(2012, 12, 7, 0, 0), 'Av. Brigadeiro Faria Lima, 2170', 'São José dos Campos', 'SP', 'Brazil', '12227-000', Decimal('13.86'))\n",
      "(334, 39, datetime.datetime(2013, 1, 7, 0, 0), '4, Rue Milton', 'Paris', None, 'France', '75009', Decimal('13.86'))\n",
      "(341, 18, datetime.datetime(2013, 2, 7, 0, 0), '627 Broadway', 'New York', 'NY', 'USA', '10012-2612', Decimal('13.86'))\n",
      "(348, 56, datetime.datetime(2013, 3, 10, 0, 0), '307 Macacha Güemes', 'Buenos Aires', None, 'Argentina', '1106', Decimal('13.86'))\n",
      "(355, 35, datetime.datetime(2013, 4, 10, 0, 0), 'Rua dos Campeões Europeus de Viena, 4350', 'Porto', None, 'Portugal', None, Decimal('13.86'))\n",
      "(362, 14, datetime.datetime(2013, 5, 11, 0, 0), '8210 111 ST NW', 'Edmonton', 'AB', 'Canada', 'T6G 2C7', Decimal('13.86'))\n",
      "(369, 52, datetime.datetime(2013, 6, 11, 0, 0), '202 Hoxton Street', 'London', None, 'United Kingdom', 'N1 5LH', Decimal('13.86'))\n",
      "(376, 31, datetime.datetime(2013, 7, 12, 0, 0), '194A Chain Lake Drive', 'Halifax', 'NS', 'Canada', 'B3S 1C5', Decimal('13.86'))\n",
      "(383, 10, datetime.datetime(2013, 8, 12, 0, 0), 'Rua Dr. Falcão Filho, 155', 'São Paulo', 'SP', 'Brazil', '01007-010', Decimal('13.86'))\n",
      "(390, 48, datetime.datetime(2013, 9, 12, 0, 0), 'Lijnbaansgracht 120bg', 'Amsterdam', 'VV', 'Netherlands', '1016', Decimal('13.86'))\n",
      "(397, 27, datetime.datetime(2013, 10, 13, 0, 0), '1033 N Park Ave', 'Tucson', 'AZ', 'USA', '85719', Decimal('13.86'))\n",
      "(411, 44, datetime.datetime(2013, 12, 14, 0, 0), 'Porthaninkatu 9', 'Helsinki', None, 'Finland', '00530', Decimal('13.86'))\n"
     ]
    }
   ],
   "source": [
    "# BETWEEN can be useful as well, and selects the rows that are between two values\n",
    "# The function is inclusive, which means if we want numbers between 1-10 we would include 1 and 10 in the list.\n",
    "\n",
    "# Let's get invoices where the total is between 13 and 14\n",
    "with engine.connect() as con:\n",
    "    result = con.execute(\"SELECT * FROM invoices WHERE Total BETWEEN 13 and 14;\")\n",
    "    for row in result:\n",
    "        print(row)\n",
    "        \n",
    "with engine.connect() as con:\n",
    "    query = db.select([Invoices]).where(Invoices.c.Total.between(13, 14))\n",
    "    result = con.execute(query)\n",
    "    for row in result:\n",
    "        print(row)"
   ]
  },
  {
   "cell_type": "code",
   "execution_count": 72,
   "metadata": {},
   "outputs": [
    {
     "name": "stdout",
     "output_type": "stream",
     "text": [
      "(392, 4, '2013-10-03 00:00:00', 'Ullevålsveien 14', 'Oslo', None, 'Norway', '0171', 1.98)\n",
      "(393, 6, '2013-10-03 00:00:00', 'Rilská 3174/6', 'Prague', None, 'Czech Republic', '14300', 1.98)\n",
      "(394, 8, '2013-10-04 00:00:00', 'Grétrystraat 63', 'Brussels', None, 'Belgium', '1000', 3.96)\n",
      "(395, 12, '2013-10-05 00:00:00', 'Praça Pio X, 119', 'Rio de Janeiro', 'RJ', 'Brazil', '20040-020', 5.94)\n",
      "(396, 18, '2013-10-08 00:00:00', '627 Broadway', 'New York', 'NY', 'USA', '10012-2612', 8.91)\n",
      "(397, 27, '2013-10-13 00:00:00', '1033 N Park Ave', 'Tucson', 'AZ', 'USA', '85719', 13.86)\n",
      "(398, 41, '2013-10-21 00:00:00', '11, Place Bellecour', 'Lyon', None, 'France', '69002', 0.99)\n",
      "(399, 42, '2013-11-03 00:00:00', '9, Place Louis Barthou', 'Bordeaux', None, 'France', '33000', 1.98)\n",
      "(400, 44, '2013-11-03 00:00:00', 'Porthaninkatu 9', 'Helsinki', None, 'Finland', '00530', 1.98)\n",
      "(401, 46, '2013-11-04 00:00:00', '3 Chatham Street', 'Dublin', 'Dublin', 'Ireland', None, 3.96)\n",
      "(402, 50, '2013-11-05 00:00:00', 'C/ San Bernardo 85', 'Madrid', None, 'Spain', '28015', 5.94)\n",
      "(403, 56, '2013-11-08 00:00:00', '307 Macacha Güemes', 'Buenos Aires', None, 'Argentina', '1106', 8.91)\n",
      "(404, 6, '2013-11-13 00:00:00', 'Rilská 3174/6', 'Prague', None, 'Czech Republic', '14300', 25.86)\n",
      "(405, 20, '2013-11-21 00:00:00', '541 Del Medio Avenue', 'Mountain View', 'CA', 'USA', '94040-111', 0.99)\n",
      "(406, 21, '2013-12-04 00:00:00', '801 W 4th Street', 'Reno', 'NV', 'USA', '89503', 1.98)\n",
      "(407, 23, '2013-12-04 00:00:00', '69 Salem Street', 'Boston', 'MA', 'USA', '2113', 1.98)\n",
      "(408, 25, '2013-12-05 00:00:00', '319 N. Frances Street', 'Madison', 'WI', 'USA', '53703', 3.96)\n",
      "(409, 29, '2013-12-06 00:00:00', '796 Dundas Street West', 'Toronto', 'ON', 'Canada', 'M6J 1V1', 5.94)\n",
      "(410, 35, '2013-12-09 00:00:00', 'Rua dos Campeões Europeus de Viena, 4350', 'Porto', None, 'Portugal', None, 8.91)\n",
      "(411, 44, '2013-12-14 00:00:00', 'Porthaninkatu 9', 'Helsinki', None, 'Finland', '00530', 13.86)\n",
      "(412, 58, '2013-12-22 00:00:00', '12,Community Centre', 'Delhi', None, 'India', '110017', 1.99)\n",
      "(392, 4, datetime.datetime(2013, 10, 3, 0, 0), 'Ullevålsveien 14', 'Oslo', None, 'Norway', '0171', Decimal('1.98'))\n",
      "(393, 6, datetime.datetime(2013, 10, 3, 0, 0), 'Rilská 3174/6', 'Prague', None, 'Czech Republic', '14300', Decimal('1.98'))\n",
      "(394, 8, datetime.datetime(2013, 10, 4, 0, 0), 'Grétrystraat 63', 'Brussels', None, 'Belgium', '1000', Decimal('3.96'))\n",
      "(395, 12, datetime.datetime(2013, 10, 5, 0, 0), 'Praça Pio X, 119', 'Rio de Janeiro', 'RJ', 'Brazil', '20040-020', Decimal('5.94'))\n",
      "(396, 18, datetime.datetime(2013, 10, 8, 0, 0), '627 Broadway', 'New York', 'NY', 'USA', '10012-2612', Decimal('8.91'))\n",
      "(397, 27, datetime.datetime(2013, 10, 13, 0, 0), '1033 N Park Ave', 'Tucson', 'AZ', 'USA', '85719', Decimal('13.86'))\n",
      "(398, 41, datetime.datetime(2013, 10, 21, 0, 0), '11, Place Bellecour', 'Lyon', None, 'France', '69002', Decimal('0.99'))\n",
      "(399, 42, datetime.datetime(2013, 11, 3, 0, 0), '9, Place Louis Barthou', 'Bordeaux', None, 'France', '33000', Decimal('1.98'))\n",
      "(400, 44, datetime.datetime(2013, 11, 3, 0, 0), 'Porthaninkatu 9', 'Helsinki', None, 'Finland', '00530', Decimal('1.98'))\n",
      "(401, 46, datetime.datetime(2013, 11, 4, 0, 0), '3 Chatham Street', 'Dublin', 'Dublin', 'Ireland', None, Decimal('3.96'))\n",
      "(402, 50, datetime.datetime(2013, 11, 5, 0, 0), 'C/ San Bernardo 85', 'Madrid', None, 'Spain', '28015', Decimal('5.94'))\n",
      "(403, 56, datetime.datetime(2013, 11, 8, 0, 0), '307 Macacha Güemes', 'Buenos Aires', None, 'Argentina', '1106', Decimal('8.91'))\n",
      "(404, 6, datetime.datetime(2013, 11, 13, 0, 0), 'Rilská 3174/6', 'Prague', None, 'Czech Republic', '14300', Decimal('25.86'))\n",
      "(405, 20, datetime.datetime(2013, 11, 21, 0, 0), '541 Del Medio Avenue', 'Mountain View', 'CA', 'USA', '94040-111', Decimal('0.99'))\n",
      "(406, 21, datetime.datetime(2013, 12, 4, 0, 0), '801 W 4th Street', 'Reno', 'NV', 'USA', '89503', Decimal('1.98'))\n",
      "(407, 23, datetime.datetime(2013, 12, 4, 0, 0), '69 Salem Street', 'Boston', 'MA', 'USA', '2113', Decimal('1.98'))\n",
      "(408, 25, datetime.datetime(2013, 12, 5, 0, 0), '319 N. Frances Street', 'Madison', 'WI', 'USA', '53703', Decimal('3.96'))\n",
      "(409, 29, datetime.datetime(2013, 12, 6, 0, 0), '796 Dundas Street West', 'Toronto', 'ON', 'Canada', 'M6J 1V1', Decimal('5.94'))\n",
      "(410, 35, datetime.datetime(2013, 12, 9, 0, 0), 'Rua dos Campeões Europeus de Viena, 4350', 'Porto', None, 'Portugal', None, Decimal('8.91'))\n",
      "(411, 44, datetime.datetime(2013, 12, 14, 0, 0), 'Porthaninkatu 9', 'Helsinki', None, 'Finland', '00530', Decimal('13.86'))\n",
      "(412, 58, datetime.datetime(2013, 12, 22, 0, 0), '12,Community Centre', 'Delhi', None, 'India', '110017', Decimal('1.99'))\n"
     ]
    }
   ],
   "source": [
    "# Date example, get invoices between 1/1/2013 and 2/1/2013\n",
    "with engine.connect() as con:\n",
    "    result = con.execute(\"SELECT * FROM invoices WHERE InvoiceDate BETWEEN '2013-1-1' AND '2013-2-1';\")\n",
    "    for row in result:\n",
    "        print(row)\n",
    "        \n",
    "with engine.connect() as con:\n",
    "    query = db.select([Invoices]).where(Invoices.c.InvoiceDate.between('2013-1-1', '2013-2-1'))\n",
    "    result = con.execute(query)\n",
    "    for row in result:\n",
    "        print(row)\n",
    "        \n",
    "# Oh no! This is incorrect. Why? We need to zero-pad the month and day"
   ]
  },
  {
   "cell_type": "code",
   "execution_count": 73,
   "metadata": {},
   "outputs": [
    {
     "name": "stdout",
     "output_type": "stream",
     "text": [
      "(333, 30, '2013-01-02 00:00:00', '230 Elgin Street', 'Ottawa', 'ON', 'Canada', 'K2P 1L7', 8.91)\n",
      "(334, 39, '2013-01-07 00:00:00', '4, Rue Milton', 'Paris', None, 'France', '75009', 13.86)\n",
      "(335, 53, '2013-01-15 00:00:00', '113 Lupus St', 'London', None, 'United Kingdom', 'SW1V 3EN', 0.99)\n",
      "(336, 54, '2013-01-28 00:00:00', '110 Raeburn Pl', 'Edinburgh ', None, 'United Kingdom', 'EH4 1HH', 1.98)\n",
      "(337, 56, '2013-01-28 00:00:00', '307 Macacha Güemes', 'Buenos Aires', None, 'Argentina', '1106', 1.98)\n",
      "(338, 58, '2013-01-29 00:00:00', '12,Community Centre', 'Delhi', None, 'India', '110017', 3.96)\n",
      "(339, 3, '2013-01-30 00:00:00', '1498 rue Bélanger', 'Montréal', 'QC', 'Canada', 'H2G 1A7', 5.94)\n",
      "(333, 30, datetime.datetime(2013, 1, 2, 0, 0), '230 Elgin Street', 'Ottawa', 'ON', 'Canada', 'K2P 1L7', Decimal('8.91'))\n",
      "(334, 39, datetime.datetime(2013, 1, 7, 0, 0), '4, Rue Milton', 'Paris', None, 'France', '75009', Decimal('13.86'))\n",
      "(335, 53, datetime.datetime(2013, 1, 15, 0, 0), '113 Lupus St', 'London', None, 'United Kingdom', 'SW1V 3EN', Decimal('0.99'))\n",
      "(336, 54, datetime.datetime(2013, 1, 28, 0, 0), '110 Raeburn Pl', 'Edinburgh ', None, 'United Kingdom', 'EH4 1HH', Decimal('1.98'))\n",
      "(337, 56, datetime.datetime(2013, 1, 28, 0, 0), '307 Macacha Güemes', 'Buenos Aires', None, 'Argentina', '1106', Decimal('1.98'))\n",
      "(338, 58, datetime.datetime(2013, 1, 29, 0, 0), '12,Community Centre', 'Delhi', None, 'India', '110017', Decimal('3.96'))\n",
      "(339, 3, datetime.datetime(2013, 1, 30, 0, 0), '1498 rue Bélanger', 'Montréal', 'QC', 'Canada', 'H2G 1A7', Decimal('5.94'))\n"
     ]
    }
   ],
   "source": [
    "with engine.connect() as con:\n",
    "    result = con.execute(\"SELECT * FROM invoices WHERE InvoiceDate BETWEEN '2013-01-01' AND '2013-02-01';\")\n",
    "    for row in result:\n",
    "        print(row)\n",
    "        \n",
    "with engine.connect() as con:\n",
    "    query = db.select([Invoices]).where(Invoices.c.InvoiceDate.between('2013-01-01', '2013-02-01'))\n",
    "    result = con.execute(query)\n",
    "    for row in result:\n",
    "        print(row)"
   ]
  },
  {
   "cell_type": "code",
   "execution_count": 79,
   "metadata": {},
   "outputs": [
    {
     "name": "stdout",
     "output_type": "stream",
     "text": [
      "(335, 53, '2013-01-15 00:00:00', '113 Lupus St', 'London', None, 'United Kingdom', 'SW1V 3EN', 0.99)\n",
      "(336, 54, '2013-01-28 00:00:00', '110 Raeburn Pl', 'Edinburgh ', None, 'United Kingdom', 'EH4 1HH', 1.98)\n",
      "(335, 53, datetime.datetime(2013, 1, 15, 0, 0), '113 Lupus St', 'London', None, 'United Kingdom', 'SW1V 3EN', Decimal('0.99'))\n",
      "(336, 54, datetime.datetime(2013, 1, 28, 0, 0), '110 Raeburn Pl', 'Edinburgh ', None, 'United Kingdom', 'EH4 1HH', Decimal('1.98'))\n"
     ]
    }
   ],
   "source": [
    "# Great! How many of those were in the UK?\n",
    "with engine.connect() as con:\n",
    "    result = con.execute(\"SELECT * FROM invoices WHERE InvoiceDate BETWEEN '2013-01-01' AND '2013-02-01' AND BillingCountry='United Kingdom';\")\n",
    "    for row in result:\n",
    "        print(row)\n",
    "        \n",
    "with engine.connect() as con:\n",
    "    query = db.select([Invoices]).where(db.and_(Invoices.c.InvoiceDate.between('2013-01-01', '2013-02-01'), Invoices.c.BillingCountry==\"United Kingdom\"))\n",
    "    result = con.execute(query)\n",
    "    for row in result:\n",
    "        print(row)"
   ]
  },
  {
   "cell_type": "code",
   "execution_count": 83,
   "metadata": {},
   "outputs": [
    {
     "name": "stdout",
     "output_type": "stream",
     "text": [
      "(34, 12, '2009-05-23 00:00:00', 'Praça Pio X, 119', 'Rio de Janeiro', 'RJ', 'Brazil', '20040-020', 0.99)\n",
      "(35, 13, '2009-06-05 00:00:00', 'Qe 7 Bloco G', 'Brasília', 'DF', 'Brazil', '71020-677', 1.98)\n",
      "(57, 11, '2009-09-06 00:00:00', 'Av. Paulista, 2022', 'São Paulo', 'SP', 'Brazil', '01310-200', 1.98)\n",
      "(58, 13, '2009-09-07 00:00:00', 'Qe 7 Bloco G', 'Brasília', 'DF', 'Brazil', '71020-677', 3.96)\n",
      "(96, 45, '2010-02-18 00:00:00', 'Erzsébet krt. 58.', 'Budapest', None, 'Hungary', 'H-1073', 21.86)\n",
      "(98, 1, '2010-03-11 00:00:00', 'Av. Brigadeiro Faria Lima, 2170', 'São José dos Campos', 'SP', 'Brazil', '12227-000', 3.98)\n",
      "(121, 1, '2010-06-13 00:00:00', 'Av. Brigadeiro Faria Lima, 2170', 'São José dos Campos', 'SP', 'Brazil', '12227-000', 3.96)\n",
      "(132, 13, '2010-07-31 00:00:00', 'Qe 7 Bloco G', 'Brasília', 'DF', 'Brazil', '71020-677', 0.99)\n",
      "(154, 10, '2010-11-14 00:00:00', 'Rua Dr. Falcão Filho, 155', 'São Paulo', 'SP', 'Brazil', '01007-010', 1.98)\n",
      "(155, 12, '2010-11-14 00:00:00', 'Praça Pio X, 119', 'Rio de Janeiro', 'RJ', 'Brazil', '20040-020', 1.98)\n",
      "(177, 10, '2011-02-16 00:00:00', 'Rua Dr. Falcão Filho, 155', 'São Paulo', 'SP', 'Brazil', '01007-010', 3.96)\n",
      "(194, 46, '2011-04-28 00:00:00', '3 Chatham Street', 'Dublin', 'Dublin', 'Ireland', None, 21.86)\n",
      "(195, 1, '2011-05-06 00:00:00', 'Av. Brigadeiro Faria Lima, 2170', 'São José dos Campos', 'SP', 'Brazil', '12227-000', 0.99)\n",
      "(251, 10, '2012-01-09 00:00:00', 'Rua Dr. Falcão Filho, 155', 'São Paulo', 'SP', 'Brazil', '01007-010', 0.99)\n",
      "(252, 11, '2012-01-22 00:00:00', 'Av. Paulista, 2022', 'São Paulo', 'SP', 'Brazil', '01310-200', 1.98)\n",
      "(253, 13, '2012-01-22 00:00:00', 'Qe 7 Bloco G', 'Brasília', 'DF', 'Brazil', '71020-677', 1.98)\n",
      "(275, 11, '2012-04-25 00:00:00', 'Av. Paulista, 2022', 'São Paulo', 'SP', 'Brazil', '01310-200', 3.96)\n",
      "(299, 26, '2012-08-05 00:00:00', '2211 W Berry Street', 'Fort Worth', 'TX', 'USA', '76110', 23.86)\n",
      "(316, 1, '2012-10-27 00:00:00', 'Av. Brigadeiro Faria Lima, 2170', 'São José dos Campos', 'SP', 'Brazil', '12227-000', 1.98)\n",
      "(349, 11, '2013-03-18 00:00:00', 'Av. Paulista, 2022', 'São Paulo', 'SP', 'Brazil', '01310-200', 0.99)\n",
      "(350, 12, '2013-03-31 00:00:00', 'Praça Pio X, 119', 'Rio de Janeiro', 'RJ', 'Brazil', '20040-020', 1.98)\n",
      "(372, 10, '2013-07-02 00:00:00', 'Rua Dr. Falcão Filho, 155', 'São Paulo', 'SP', 'Brazil', '01007-010', 1.98)\n",
      "(373, 12, '2013-07-03 00:00:00', 'Praça Pio X, 119', 'Rio de Janeiro', 'RJ', 'Brazil', '20040-020', 3.96)\n",
      "(404, 6, '2013-11-13 00:00:00', 'Rilská 3174/6', 'Prague', None, 'Czech Republic', '14300', 25.86)\n",
      "(34, 12, datetime.datetime(2009, 5, 23, 0, 0), 'Praça Pio X, 119', 'Rio de Janeiro', 'RJ', 'Brazil', '20040-020', Decimal('0.99'))\n",
      "(35, 13, datetime.datetime(2009, 6, 5, 0, 0), 'Qe 7 Bloco G', 'Brasília', 'DF', 'Brazil', '71020-677', Decimal('1.98'))\n",
      "(57, 11, datetime.datetime(2009, 9, 6, 0, 0), 'Av. Paulista, 2022', 'São Paulo', 'SP', 'Brazil', '01310-200', Decimal('1.98'))\n",
      "(58, 13, datetime.datetime(2009, 9, 7, 0, 0), 'Qe 7 Bloco G', 'Brasília', 'DF', 'Brazil', '71020-677', Decimal('3.96'))\n",
      "(98, 1, datetime.datetime(2010, 3, 11, 0, 0), 'Av. Brigadeiro Faria Lima, 2170', 'São José dos Campos', 'SP', 'Brazil', '12227-000', Decimal('3.98'))\n",
      "(121, 1, datetime.datetime(2010, 6, 13, 0, 0), 'Av. Brigadeiro Faria Lima, 2170', 'São José dos Campos', 'SP', 'Brazil', '12227-000', Decimal('3.96'))\n",
      "(132, 13, datetime.datetime(2010, 7, 31, 0, 0), 'Qe 7 Bloco G', 'Brasília', 'DF', 'Brazil', '71020-677', Decimal('0.99'))\n",
      "(154, 10, datetime.datetime(2010, 11, 14, 0, 0), 'Rua Dr. Falcão Filho, 155', 'São Paulo', 'SP', 'Brazil', '01007-010', Decimal('1.98'))\n",
      "(155, 12, datetime.datetime(2010, 11, 14, 0, 0), 'Praça Pio X, 119', 'Rio de Janeiro', 'RJ', 'Brazil', '20040-020', Decimal('1.98'))\n",
      "(177, 10, datetime.datetime(2011, 2, 16, 0, 0), 'Rua Dr. Falcão Filho, 155', 'São Paulo', 'SP', 'Brazil', '01007-010', Decimal('3.96'))\n",
      "(195, 1, datetime.datetime(2011, 5, 6, 0, 0), 'Av. Brigadeiro Faria Lima, 2170', 'São José dos Campos', 'SP', 'Brazil', '12227-000', Decimal('0.99'))\n",
      "(251, 10, datetime.datetime(2012, 1, 9, 0, 0), 'Rua Dr. Falcão Filho, 155', 'São Paulo', 'SP', 'Brazil', '01007-010', Decimal('0.99'))\n",
      "(252, 11, datetime.datetime(2012, 1, 22, 0, 0), 'Av. Paulista, 2022', 'São Paulo', 'SP', 'Brazil', '01310-200', Decimal('1.98'))\n",
      "(253, 13, datetime.datetime(2012, 1, 22, 0, 0), 'Qe 7 Bloco G', 'Brasília', 'DF', 'Brazil', '71020-677', Decimal('1.98'))\n",
      "(275, 11, datetime.datetime(2012, 4, 25, 0, 0), 'Av. Paulista, 2022', 'São Paulo', 'SP', 'Brazil', '01310-200', Decimal('3.96'))\n",
      "(316, 1, datetime.datetime(2012, 10, 27, 0, 0), 'Av. Brigadeiro Faria Lima, 2170', 'São José dos Campos', 'SP', 'Brazil', '12227-000', Decimal('1.98'))\n",
      "(349, 11, datetime.datetime(2013, 3, 18, 0, 0), 'Av. Paulista, 2022', 'São Paulo', 'SP', 'Brazil', '01310-200', Decimal('0.99'))\n",
      "(350, 12, datetime.datetime(2013, 3, 31, 0, 0), 'Praça Pio X, 119', 'Rio de Janeiro', 'RJ', 'Brazil', '20040-020', Decimal('1.98'))\n",
      "(372, 10, datetime.datetime(2013, 7, 2, 0, 0), 'Rua Dr. Falcão Filho, 155', 'São Paulo', 'SP', 'Brazil', '01007-010', Decimal('1.98'))\n",
      "(373, 12, datetime.datetime(2013, 7, 3, 0, 0), 'Praça Pio X, 119', 'Rio de Janeiro', 'RJ', 'Brazil', '20040-020', Decimal('3.96'))\n"
     ]
    }
   ],
   "source": [
    "# Excellent! Although not explicitly mentioned earlier, AND, OR, and NOT function just like normal\n",
    "# logical operators in any language. You can use parenthesis to force order of operations as well\n",
    "with engine.connect() as con:\n",
    "    result = con.execute(\"SELECT * FROM invoices WHERE Total > 20 OR Total < 5 AND BillingCountry='Brazil';\")\n",
    "    for row in result:\n",
    "        print(row)\n",
    "        \n",
    "with engine.connect() as con:\n",
    "    query = db.select([Invoices]).where(db.and_(db.or_(Invoices.c.Total > 20, Invoices.c.Total < 5), (Invoices.c.BillingCountry==\"Brazil\")))\n",
    "    result = con.execute(query)\n",
    "    for row in result:\n",
    "        print(row)"
   ]
  },
  {
   "cell_type": "code",
   "execution_count": null,
   "metadata": {},
   "outputs": [],
   "source": [
    "# Uh oh! We wanted invoices where the Total was either greater than 20 or less than 5 and from Brazil. The \n",
    "# first example is incorrect because AND has precedence over OR (in the same way multiplication has \n",
    "# precedence over addition and subtraction). What that first statement was equivalent to is:\n",
    "with engine.connect() as con:\n",
    "    result = con.execute(\"SELECT * FROM invoices WHERE Total > 20 OR (Total < 5 AND BillingCountry='Brazil');\")\n",
    "    for row in result:\n",
    "        print(row)\n",
    "\n",
    "# But what we wanted was:\n",
    "with engine.connect() as con:\n",
    "    result = con.execute(\"SELECT * FROM invoices WHERE (Total > 20 OR Total < 5) AND BillingCountry='Brazil';\")\n",
    "    for row in result:\n",
    "        print(row)\n",
    "        \n",
    "# Which fixes it!\n",
    "\n",
    "# Notice that due to the way that the ORM handles db.and_ and db.or_, we were forced to use the correct\n",
    "# order of operations!"
   ]
  },
  {
   "cell_type": "code",
   "execution_count": 102,
   "metadata": {},
   "outputs": [
    {
     "name": "stdout",
     "output_type": "stream",
     "text": [
      "Country Germany\n",
      "Country Germany\n",
      "BillingCountry Germany\n",
      "BillingCountry Germany\n"
     ]
    }
   ],
   "source": [
    "# Now the last topic we will touch on is called aliasing (using AS). I'd recommend reading:\n",
    "# https://www.w3schools.com/sql/sql_alias.asp\n",
    "\n",
    "# You can alias a column\n",
    "with engine.connect() as con:\n",
    "    result = con.execute(\"SELECT BillingCountry AS Country FROM invoices LIMIT(1);\")\n",
    "    for row in result:\n",
    "        for c, v in row.items():\n",
    "            print(c, v)\n",
    "        \n",
    "with engine.connect() as con:\n",
    "    country = Invoices.c.BillingCountry.label(\"Country\")\n",
    "    query = db.select([country]).limit(1)\n",
    "    result = con.execute(query)\n",
    "\n",
    "    for row in result:\n",
    "        for c, v in row.items():\n",
    "            print(c, v)\n",
    "            \n",
    "# Where normally it would be:\n",
    "with engine.connect() as con:\n",
    "    result = con.execute(\"SELECT BillingCountry FROM invoices LIMIT(1);\")\n",
    "    for row in result:\n",
    "        for c, v in row.items():\n",
    "            print(c, v)\n",
    "        \n",
    "with engine.connect() as con:\n",
    "#     country = Invoices.c.BillingCountry.label(\"Country\")\n",
    "    query = db.select([Invoices.c.BillingCountry]).limit(1)\n",
    "    result = con.execute(query)\n",
    "\n",
    "    for row in result:\n",
    "        for c, v in row.items():\n",
    "            print(c, v)"
   ]
  },
  {
   "cell_type": "code",
   "execution_count": 103,
   "metadata": {},
   "outputs": [
    {
     "name": "stdout",
     "output_type": "stream",
     "text": [
      "Country Germany\n",
      "DollarValue 1.98\n",
      "Country Germany\n",
      "DollarValue 1.98\n"
     ]
    }
   ],
   "source": [
    "# You can also alias multiple columns:\n",
    "with engine.connect() as con:\n",
    "    result = con.execute(\"SELECT BillingCountry AS Country, Total AS DollarValue FROM invoices LIMIT(1);\")\n",
    "    for row in result:\n",
    "        for c, v in row.items():\n",
    "            print(c, v)\n",
    "        \n",
    "with engine.connect() as con:    \n",
    "    query = db.select([Invoices.c.BillingCountry.label(\"Country\"), Invoices.c.Total.label(\"DollarValue\")]).limit(1)\n",
    "    result = con.execute(query)\n",
    "\n",
    "    for row in result:\n",
    "        for c, v in row.items():\n",
    "            print(c, v)"
   ]
  },
  {
   "cell_type": "code",
   "execution_count": 111,
   "metadata": {},
   "outputs": [
    {
     "name": "stdout",
     "output_type": "stream",
     "text": [
      "BillingCountry Germany\n",
      "BillingCountry Germany\n",
      "SELECT inv.\"BillingCountry\" \n",
      "FROM invoices AS inv\n",
      " LIMIT :param_1\n",
      "SELECT inv.\"BillingCountry\" \n",
      "FROM invoices AS inv\n",
      " LIMIT ? OFFSET ?\n"
     ]
    }
   ],
   "source": [
    "# You can alias a table too\n",
    "with engine.connect() as con:\n",
    "    result = con.execute(\"SELECT inv.BillingCountry FROM invoices AS inv LIMIT(1);\")\n",
    "    for row in result:\n",
    "        for c, v in row.items():\n",
    "            print(c, v)\n",
    "        \n",
    "with engine.connect() as con:\n",
    "    inv = Invoices.alias(\"inv\")\n",
    "    \n",
    "    query = db.select([inv.c.BillingCountry]).limit(1)\n",
    "    result = con.execute(query)\n",
    "\n",
    "    for row in result:\n",
    "        for c, v in row.items():\n",
    "            print(c, v)\n",
    "            \n",
    "print(str(query)) # As you can see the table is aliased"
   ]
  },
  {
   "cell_type": "code",
   "execution_count": 118,
   "metadata": {},
   "outputs": [
    {
     "name": "stdout",
     "output_type": "stream",
     "text": [
      "('Brazil', 'Luís', 'Gonçalves')\n",
      "('Brazil', 'Luís', 'Gonçalves')\n",
      "('Brazil', 'Luís', 'Gonçalves')\n",
      "('Brazil', 'Luís', 'Gonçalves')\n",
      "('Brazil', 'Luís', 'Gonçalves')\n",
      "('Brazil', 'Luís', 'Gonçalves')\n",
      "('Brazil', 'Luís', 'Gonçalves')\n",
      "('Germany', 'Leonie', 'Köhler')\n",
      "('Germany', 'Leonie', 'Köhler')\n",
      "('Germany', 'Leonie', 'Köhler')\n",
      "('Brazil', 'Luís', 'Gonçalves')\n",
      "('Brazil', 'Luís', 'Gonçalves')\n",
      "('Brazil', 'Luís', 'Gonçalves')\n",
      "('Brazil', 'Luís', 'Gonçalves')\n",
      "('Brazil', 'Luís', 'Gonçalves')\n",
      "('Brazil', 'Luís', 'Gonçalves')\n",
      "('Brazil', 'Luís', 'Gonçalves')\n",
      "('Germany', 'Leonie', 'Köhler')\n",
      "('Germany', 'Leonie', 'Köhler')\n",
      "('Germany', 'Leonie', 'Köhler')\n",
      "SELECT i.\"BillingCountry\", c.\"FirstName\", c.\"LastName\" \n",
      "FROM invoices AS i, customers AS c \n",
      "WHERE i.\"CustomerId\" = c.\"CustomerId\"\n",
      " LIMIT :param_1\n"
     ]
    }
   ],
   "source": [
    "# You can query multiple tables\n",
    "with engine.connect() as con:\n",
    "    result = con.execute(\"SELECT i.BillingCountry, c.FirstName, c.LastName FROM invoices AS i, customers AS c WHERE i.CustomerId = c.CustomerId LIMIT(10);\")          \n",
    "    for row in result:\n",
    "        print(row)\n",
    "        \n",
    "with engine.connect() as con:\n",
    "    i = Invoices.alias(\"i\")\n",
    "    c = Customers.alias(\"c\")\n",
    "    \n",
    "    query = db.select([i.c.BillingCountry, c.c.FirstName, c.c.LastName]).where(i.c.CustomerId == c.c.CustomerId).limit(10)\n",
    "    result = con.execute(query)\n",
    "\n",
    "    for row in result:\n",
    "        print(row)\n",
    "        \n",
    "print(str(query))"
   ]
  }
 ],
 "metadata": {
  "kernelspec": {
   "display_name": "Python 3",
   "language": "python",
   "name": "python3"
  },
  "language_info": {
   "codemirror_mode": {
    "name": "ipython",
    "version": 3
   },
   "file_extension": ".py",
   "mimetype": "text/x-python",
   "name": "python",
   "nbconvert_exporter": "python",
   "pygments_lexer": "ipython3",
   "version": "3.6.4"
  }
 },
 "nbformat": 4,
 "nbformat_minor": 2
}
