{
 "cells": [
  {
   "cell_type": "markdown",
   "metadata": {},
   "source": [
    "# Project 1 Solutions\n",
    "by Firstname Lastname"
   ]
  },
  {
   "cell_type": "markdown",
   "metadata": {},
   "source": [
    "Peer Collaborators (if any) and nature of the collaboration ..."
   ]
  },
  {
   "cell_type": "markdown",
   "metadata": {},
   "source": [
    "TA help sought (if any) ..."
   ]
  },
  {
   "cell_type": "markdown",
   "metadata": {},
   "source": [
    "Online resources used (if any) and weblink for location of resources ..."
   ]
  },
  {
   "cell_type": "markdown",
   "metadata": {},
   "source": [
    "## Question 1"
   ]
  },
  {
   "cell_type": "code",
   "execution_count": null,
   "metadata": {
    "collapsed": true
   },
   "outputs": [],
   "source": [
    "# 1a (1 pt)\n",
    "# Comment about method of solution: ........\n",
    "Solution itself ... (put raw code here without hashtag)"
   ]
  },
  {
   "cell_type": "code",
   "execution_count": null,
   "metadata": {
    "collapsed": true
   },
   "outputs": [],
   "source": [
    "# 1b (1 pt)\n",
    "# Comment about method of solution: ........\n",
    "Solution itself ... (put raw code here without hashtag)"
   ]
  },
  {
   "cell_type": "code",
   "execution_count": null,
   "metadata": {
    "collapsed": true
   },
   "outputs": [],
   "source": [
    "# 1c (1 pt)\n",
    "# Comment about method of solution: ........\n",
    "Solution itself ... (put raw code here without hashtag)"
   ]
  },
  {
   "cell_type": "code",
   "execution_count": null,
   "metadata": {
    "collapsed": true
   },
   "outputs": [],
   "source": [
    "# 1d (1 pt)\n",
    "# Comment about method of solution: ........\n",
    "Solution itself ... (put raw code here without hashtag)"
   ]
  },
  {
   "cell_type": "markdown",
   "metadata": {},
   "source": [
    "## Question 2"
   ]
  },
  {
   "cell_type": "code",
   "execution_count": null,
   "metadata": {
    "collapsed": true
   },
   "outputs": [],
   "source": [
    "# 2a\n",
    "# Comment about method of solution: ........\n",
    "Solution itself ... (put raw code here without hashtag)"
   ]
  },
  {
   "cell_type": "code",
   "execution_count": null,
   "metadata": {
    "collapsed": true
   },
   "outputs": [],
   "source": [
    "# 2b (.5 pts)\n",
    "# Comment about method of solution: ........\n",
    "Solution itself ... (put raw code here without hashtag)"
   ]
  },
  {
   "cell_type": "code",
   "execution_count": null,
   "metadata": {
    "collapsed": true
   },
   "outputs": [],
   "source": [
    "# 2c (.5 pts)\n",
    "# Comment about method of solution: ........\n",
    "Solution itself ... (put raw code here without hashtag)"
   ]
  },
  {
   "cell_type": "code",
   "execution_count": null,
   "metadata": {
    "collapsed": true
   },
   "outputs": [],
   "source": [
    "# 2d (.5 pts)\n",
    "# Comment about method of solution: ........\n",
    "Solution itself ... (put raw code here without hashtag)"
   ]
  },
  {
   "cell_type": "code",
   "execution_count": null,
   "metadata": {
    "collapsed": true
   },
   "outputs": [],
   "source": [
    "# 2e (.5 pts)\n",
    "# Comment about method of solution: ........\n",
    "Solution itself ... (put raw code here without hashtag)"
   ]
  },
  {
   "cell_type": "markdown",
   "metadata": {},
   "source": [
    "## Question 3"
   ]
  },
  {
   "cell_type": "code",
   "execution_count": null,
   "metadata": {
    "collapsed": true
   },
   "outputs": [],
   "source": [
    "# 3a\n",
    "# Comment about method of solution: ........\n",
    "Solution itself ... (put raw code here without hashtag)"
   ]
  },
  {
   "cell_type": "code",
   "execution_count": null,
   "metadata": {
    "collapsed": true
   },
   "outputs": [],
   "source": [
    "# 3b (1 pt)\n",
    "# Comment about method of solution: ........\n",
    "Solution itself ... (put raw code here without hashtag)"
   ]
  },
  {
   "cell_type": "code",
   "execution_count": null,
   "metadata": {
    "collapsed": true
   },
   "outputs": [],
   "source": [
    "# 3c (1 pt)\n",
    "# Comment about method of solution: ........\n",
    "Solution itself ... (put raw code here without hashtag)"
   ]
  },
  {
   "cell_type": "code",
   "execution_count": null,
   "metadata": {
    "collapsed": true
   },
   "outputs": [],
   "source": [
    "# 3d (1 pt)\n",
    "# Comment about method of solution: ........\n",
    "Solution itself ... (put raw code here without hashtag)"
   ]
  },
  {
   "cell_type": "code",
   "execution_count": null,
   "metadata": {
    "collapsed": true
   },
   "outputs": [],
   "source": [
    "# 3e (1 pt)\n",
    "# Comment about method of solution: ........\n",
    "Solution itself ... (put raw code here without hashtag)"
   ]
  }
 ],
 "metadata": {
  "kernelspec": {
   "display_name": "R 3.6 (Scholar)",
   "language": "R",
   "name": "ir-3.6-scholar"
  },
  "language_info": {
   "codemirror_mode": "r",
   "file_extension": ".r",
   "mimetype": "text/x-r-source",
   "name": "R",
   "pygments_lexer": "r",
   "version": "3.6.1"
  }
 },
 "nbformat": 4,
 "nbformat_minor": 2
}
